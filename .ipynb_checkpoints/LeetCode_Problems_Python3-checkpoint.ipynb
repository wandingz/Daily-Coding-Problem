{
 "cells": [
  {
   "cell_type": "markdown",
   "metadata": {
    "collapsed": true
   },
   "source": [
    "## 1. Two Sum\n",
    "\n",
    "Given an array of integers, return indices of the two numbers such that they add up to a specific target.\n",
    "\n",
    "You may assume that each input would have exactly one solution, and you may not use the same element twice.\n",
    "\n",
    "<p><strong>Example:</strong></p>\n",
    "<pre style=\"background-color:#F5F5F5; padding:10px; border:1px solid #CCCCCC; border-radius:5px;\">\n",
    "Given nums = [2, 7, 11, 15], target = 9 \n",
    "Because nums[0] + nums[1] = 2 + 7 = 9, return [0, 1].\n",
    "</pre>"
   ]
  },
  {
   "cell_type": "code",
   "execution_count": 543,
   "metadata": {
    "collapsed": true
   },
   "outputs": [],
   "source": [
    "# O(n)\n",
    "class Solution(object):\n",
    "    def twoSum(self, nums, target):\n",
    "        \"\"\"\n",
    "        :type nums: List[int]\n",
    "        :type target: int\n",
    "        :rtype: List[int]\n",
    "        \"\"\"\n",
    "        if not (nums or target):\n",
    "            return\n",
    "        \n",
    "        dic = {}\n",
    "        for i in range(len(nums)):\n",
    "            if nums[i] not in dic:\n",
    "                dic[target-nums[i]] = i\n",
    "            else:\n",
    "                return [dic[nums[i]], i]"
   ]
  },
  {
   "cell_type": "code",
   "execution_count": 544,
   "metadata": {},
   "outputs": [
    {
     "data": {
      "text/plain": [
       "[0, 1]"
      ]
     },
     "execution_count": 544,
     "metadata": {},
     "output_type": "execute_result"
    }
   ],
   "source": [
    "nums = [2, 7, 11, 15]\n",
    "target = 9\n",
    "Solution().twoSum(nums, target)"
   ]
  },
  {
   "cell_type": "code",
   "execution_count": 547,
   "metadata": {
    "collapsed": true
   },
   "outputs": [],
   "source": [
    "# O(n^2)\n",
    "class Solution(object):\n",
    "    def twoSum(self, nums, target):\n",
    "        \"\"\"\n",
    "        :type nums: List[int]\n",
    "        :type target: int\n",
    "        :rtype: List[int]\n",
    "        \"\"\"\n",
    "        if not (nums or target):\n",
    "            return\n",
    "        \n",
    "        for i in range(len(nums)-1):\n",
    "            for j in range(i+1, len(nums)):\n",
    "                if nums[i] + nums[j] == target:\n",
    "                    return [i, j]"
   ]
  },
  {
   "cell_type": "code",
   "execution_count": 548,
   "metadata": {},
   "outputs": [
    {
     "data": {
      "text/plain": [
       "[0, 1]"
      ]
     },
     "execution_count": 548,
     "metadata": {},
     "output_type": "execute_result"
    }
   ],
   "source": [
    "nums = [2, 7, 11, 15]\n",
    "target = 9\n",
    "Solution().twoSum(nums, target)"
   ]
  },
  {
   "cell_type": "code",
   "execution_count": null,
   "metadata": {
    "collapsed": true
   },
   "outputs": [],
   "source": []
  },
  {
   "cell_type": "code",
   "execution_count": null,
   "metadata": {
    "collapsed": true
   },
   "outputs": [],
   "source": []
  },
  {
   "cell_type": "code",
   "execution_count": null,
   "metadata": {
    "collapsed": true
   },
   "outputs": [],
   "source": []
  },
  {
   "cell_type": "markdown",
   "metadata": {},
   "source": [
    "## 2. Add Two Numbers\n",
    "\n",
    "You are given two non-empty linked lists representing two non-negative integers. The digits are stored in reverse order and each of their nodes contain a single digit. Add the two numbers and return it as a linked list.\n",
    "\n",
    "You may assume the two numbers do not contain any leading zero, except the number 0 itself.\n",
    "\n",
    "<p><strong>Example:</strong></p>\n",
    "<pre style=\"background-color:#F5F5F5; padding:10px; border:1px solid #CCCCCC; border-radius:5px;\">\n",
    "<strong>Input:</strong> (2 -> 4 -> 3) + (5 -> 6 -> 4)\n",
    "<strong>Output:</strong> 7 -> 0 -> 8\n",
    "<strong>Explanation:</strong> 342 + 465 = 807.\n",
    "</pre>"
   ]
  },
  {
   "cell_type": "code",
   "execution_count": 74,
   "metadata": {
    "collapsed": true
   },
   "outputs": [],
   "source": [
    "class ListNode:\n",
    "    def __init__(self, v):\n",
    "        self.val = v\n",
    "        self.next = None\n",
    "        \n",
    "class Solution:\n",
    "    def addTwoNumbers(self, l1, l2):\n",
    "        \"\"\"\n",
    "        :type l1: ListNode\n",
    "        :type l2: ListNode\n",
    "        :rtype: ListNode\n",
    "        \"\"\"\n",
    "        if not l1 or not l2:\n",
    "            return \n",
    "        \n",
    "        root = head = ListNode(0)\n",
    "        carry = 0\n",
    "        while l1 or l2 or carry:\n",
    "            if l1:\n",
    "                carry += l1.val\n",
    "                l1 = l1.next\n",
    "            if l2:\n",
    "                carry += l2.val\n",
    "                l2 = l2.next\n",
    "            carry, v = carry//10, carry%10\n",
    "            head.next = ListNode(v)\n",
    "            head = head.next\n",
    "        return root.next"
   ]
  },
  {
   "cell_type": "code",
   "execution_count": 75,
   "metadata": {},
   "outputs": [
    {
     "data": {
      "text/plain": [
       "'7, 0, 8'"
      ]
     },
     "execution_count": 75,
     "metadata": {},
     "output_type": "execute_result"
    }
   ],
   "source": [
    "def string2ListNode(inputt):\n",
    "    if not inputt:\n",
    "        return\n",
    "    \n",
    "    nums = [int(x.strip()) for x in inputt.split(',')]\n",
    "    root = head = ListNode(0)\n",
    "    for x in nums:\n",
    "        head.next = ListNode(x)\n",
    "        head = head.next\n",
    "    return root.next\n",
    "\n",
    "def listNode2String(node):\n",
    "    if not node:\n",
    "        return ''\n",
    "    \n",
    "    result = ''\n",
    "    while node:\n",
    "        result += (str(node.val) + ', ')\n",
    "        node = node.next\n",
    "    return result.strip(', ')\n",
    "    \n",
    "l1 = string2ListNode('2,4,3')\n",
    "l2 = string2ListNode('5,6,4')\n",
    "res = Solution().addTwoNumbers(l1, l2)\n",
    "listNode2String(res)"
   ]
  },
  {
   "cell_type": "code",
   "execution_count": null,
   "metadata": {
    "collapsed": true
   },
   "outputs": [],
   "source": []
  },
  {
   "cell_type": "code",
   "execution_count": null,
   "metadata": {
    "collapsed": true
   },
   "outputs": [],
   "source": []
  },
  {
   "cell_type": "code",
   "execution_count": null,
   "metadata": {
    "collapsed": true
   },
   "outputs": [],
   "source": []
  },
  {
   "cell_type": "markdown",
   "metadata": {},
   "source": [
    "## 3. Longest Substring Without Repeating Characters\n",
    "\n",
    "Given a string, find the length of the longest substring without repeating characters.\n",
    "\n",
    "<p><strong>Example:</strong></p>\n",
    "<pre>\n",
    "Given <code style=\"background-color: #F8F2F4; color: #B83650;\">\"abcabcbb\"</code>, the answer is <code style=\"background-color: #F8F2F4; color: #B83650;\">\"abc\"</code>, which the length is 3.\n",
    "Given <code style=\"background-color: #F8F2F4; color: #B83650;\">\"bbbbb\"</code>, the answer is <code style=\"background-color: #F8F2F4; color: #B83650;\">\"b\"</code>, with the length of 1.\n",
    "Given <code style=\"background-color: #F8F2F4; color: #B83650;\">\"pwwkew\"</code>, the answer is <code style=\"background-color: #F8F2F4; color: #B83650;\">\"wke\"</code>, with the length of 3. Note that the answer must be a substring, <code style=\"background-color: #F8F2F4; color: #B83650;\">\"pwke\"</code> is a subsequence and not a substring.\n",
    "</pre>"
   ]
  },
  {
   "cell_type": "code",
   "execution_count": 33,
   "metadata": {
    "collapsed": true
   },
   "outputs": [],
   "source": [
    "class Solution:\n",
    "    def lengthOfLongestSubstring(self, s):\n",
    "        \"\"\"\n",
    "        :type s: str\n",
    "        :rtype: int\n",
    "        \"\"\"\n",
    "        if len(s) <= 1:\n",
    "            return len(s)\n",
    "        \n",
    "        seen = {}\n",
    "        start, longest = 0, 0\n",
    "        for i,x in enumerate(s):\n",
    "            if x in seen:\n",
    "                start = max(start, seen[x]+1)\n",
    "            seen[x] = i\n",
    "            longest = max(longest, i-start+1)\n",
    "        return longest"
   ]
  },
  {
   "cell_type": "code",
   "execution_count": 34,
   "metadata": {},
   "outputs": [
    {
     "data": {
      "text/plain": [
       "4"
      ]
     },
     "execution_count": 34,
     "metadata": {},
     "output_type": "execute_result"
    }
   ],
   "source": [
    "s = 'abcabcbb'\n",
    "s = 'bbbbbb'\n",
    "s = 'pwwkew'\n",
    "s = 'abcbadbbc'\n",
    "Solution().lengthOfLongestSubstring(s)"
   ]
  },
  {
   "cell_type": "code",
   "execution_count": null,
   "metadata": {
    "collapsed": true
   },
   "outputs": [],
   "source": []
  },
  {
   "cell_type": "code",
   "execution_count": null,
   "metadata": {
    "collapsed": true
   },
   "outputs": [],
   "source": []
  },
  {
   "cell_type": "code",
   "execution_count": null,
   "metadata": {
    "collapsed": true
   },
   "outputs": [],
   "source": []
  },
  {
   "cell_type": "markdown",
   "metadata": {},
   "source": [
    "## 4. Median of Two Sorted Arrays\n",
    "\n",
    "There are two <u>sorted</u> arrays nums1 and nums2 of size m and n respectively.\n",
    "\n",
    "Find the median of the two sorted arrays. The overall run time complexity should be O(log (m+n)).\n",
    "\n",
    "You may assume **nums1** and **nums2** cannot be both empty.\n",
    "\n",
    "<p><strong>Example 1:</strong></p>\n",
    "<pre style=\"background-color:#F5F5F5; padding:10px; border:1px solid #CCCCCC; border-radius:5px;\">\n",
    "nums1 = [1, 3], \n",
    "nums2 = [2]\n",
    "\n",
    "The median is 2.0\n",
    "</pre>\n",
    "\n",
    "<p><strong>Example 2:</strong></p>\n",
    "<pre style=\"background-color:#F5F5F5; padding:10px; border:1px solid #CCCCCC; border-radius:5px;\">\n",
    "nums1 = [1, 2], \n",
    "nums2 = [3, 4]\n",
    "\n",
    "The median is (2 + 3)/2 = 2.5\n",
    "</pre>"
   ]
  },
  {
   "cell_type": "code",
   "execution_count": 87,
   "metadata": {
    "collapsed": true
   },
   "outputs": [],
   "source": [
    "class Solution:\n",
    "    def findMedianSortedArrays(self, nums1, nums2):\n",
    "        \"\"\"\n",
    "        :type nums1: List[int]\n",
    "        :type nums2: List[int]\n",
    "        :rtype: float\n",
    "        \"\"\"\n",
    "        if not nums1:\n",
    "            nums = nums2\n",
    "        elif not nums2:\n",
    "            nums = nums1\n",
    "        else:\n",
    "            nums = nums1 + nums2\n",
    "            nums.sort()\n",
    "        mid = len(nums) // 2\n",
    "        return (nums[mid] + nums[~mid]) / 2"
   ]
  },
  {
   "cell_type": "code",
   "execution_count": 88,
   "metadata": {},
   "outputs": [
    {
     "data": {
      "text/plain": [
       "2.0"
      ]
     },
     "execution_count": 88,
     "metadata": {},
     "output_type": "execute_result"
    }
   ],
   "source": [
    "nums1 = [1,2]\n",
    "nums2 = [3,4]\n",
    "nums1 = []\n",
    "nums2 = [2]\n",
    "Solution().findMedianSortedArrays(nums1, nums2)"
   ]
  },
  {
   "cell_type": "code",
   "execution_count": 48,
   "metadata": {
    "collapsed": true
   },
   "outputs": [],
   "source": [
    "class Solution:\n",
    "    def findMedianSortedArrays(self, nums1, nums2):\n",
    "        \"\"\"\n",
    "        :type nums1: List[int]\n",
    "        :type nums2: List[int]\n",
    "        :rtype: float\n",
    "        \"\"\"\n",
    "        m, n = len(nums1), len(nums2)\n",
    "        if not nums1:\n",
    "            mid = n // 2\n",
    "            return (nums2[mid] + nums2[~mid]) / 2\n",
    "        if not nums2:\n",
    "            mid = m // 2\n",
    "            return (nums1[mid] + nums1[~mid]) / 2\n",
    "            \n",
    "        nums = nums1 + nums2\n",
    "        nums = self.quick_sort(nums, 0, len(nums)-1)\n",
    "        mid = len(nums) // 2\n",
    "        return (nums[mid] + nums[~mid]) / 2\n",
    "    \n",
    "    def _partition(self, nums, l, r):\n",
    "        p = l\n",
    "        for i in range(l+1, r+1):\n",
    "            if nums[i] < nums[l]:\n",
    "                p += 1\n",
    "                nums[p], nums[i] = nums[i], nums[p]\n",
    "        nums[p], nums[l] = nums[l], nums[p]\n",
    "        return p\n",
    "    def quick_sort(self, nums, l, r):\n",
    "        if l < r:\n",
    "            p = self._partition(nums, l, r)\n",
    "            self.quick_sort(nums, l, p-1)\n",
    "            self.quick_sort(nums, p+1, r)\n",
    "        return nums"
   ]
  },
  {
   "cell_type": "code",
   "execution_count": 49,
   "metadata": {},
   "outputs": [
    {
     "data": {
      "text/plain": [
       "2.5"
      ]
     },
     "execution_count": 49,
     "metadata": {},
     "output_type": "execute_result"
    }
   ],
   "source": [
    "nums1 = [1,2]\n",
    "nums2 = [3,4]\n",
    "Solution().findMedianSortedArrays(nums1, nums2)"
   ]
  },
  {
   "cell_type": "code",
   "execution_count": null,
   "metadata": {
    "collapsed": true
   },
   "outputs": [],
   "source": []
  },
  {
   "cell_type": "code",
   "execution_count": null,
   "metadata": {
    "collapsed": true
   },
   "outputs": [],
   "source": []
  },
  {
   "cell_type": "code",
   "execution_count": null,
   "metadata": {
    "collapsed": true
   },
   "outputs": [],
   "source": []
  },
  {
   "cell_type": "markdown",
   "metadata": {
    "collapsed": true
   },
   "source": [
    "## 5. Longest Palindromic Substring\n",
    "\n",
    "Given a string **s**, find the longest palindromic substring in **s**. You may assume that the maximum length of **s** is 1000.\n",
    "\n",
    "<p><strong>Example 1:</strong></p>\n",
    "<pre style=\"background-color:#F5F5F5; padding:10px; border:1px solid #CCCCCC; border-radius:5px;\">\n",
    "<strong>Input:</strong> \"babad\"\n",
    "<strong>Output:</strong> \"bab\"\n",
    "<strong>Note</strong>: \"aba\" is also a valid answer.\n",
    "</pre>\n",
    "\n",
    "<p><strong>Example 2:</strong></p>\n",
    "<pre style=\"background-color:#F5F5F5; padding:10px; border:1px solid #CCCCCC; border-radius:5px;\">\n",
    "<strong>Input:</strong> \"cbbd\"\n",
    "<strong>Output:</strong> \"bb\"\n",
    "</pre>"
   ]
  },
  {
   "cell_type": "code",
   "execution_count": 65,
   "metadata": {
    "collapsed": true
   },
   "outputs": [],
   "source": [
    "class Solution:\n",
    "    def longestPalindrome(self, s):\n",
    "        \"\"\"\n",
    "        :type s: str\n",
    "        :rtype: str\n",
    "        \"\"\"\n",
    "        if len(s) <= 1:\n",
    "            return ''\n",
    "        \n",
    "        result = ''\n",
    "        for i in range(len(s)):\n",
    "            output = self._spreadOut(s, i, i)\n",
    "            if len(output) > len(result):\n",
    "                result = output\n",
    "            output = self._spreadOut(s, i, i+1)\n",
    "            if len(output) > len(result):\n",
    "                result = output\n",
    "        return result\n",
    "        \n",
    "    def _spreadOut(self, s, l, r):\n",
    "        while l >= 0 and r < len(s) and s[l] == s[r]:\n",
    "            l -= 1\n",
    "            r += 1\n",
    "        return s[l+1 : r]"
   ]
  },
  {
   "cell_type": "code",
   "execution_count": 76,
   "metadata": {},
   "outputs": [
    {
     "data": {
      "text/plain": [
       "'bb'"
      ]
     },
     "execution_count": 76,
     "metadata": {},
     "output_type": "execute_result"
    }
   ],
   "source": [
    "s =  'babad'\n",
    "s = 'cbbd'\n",
    "Solution().longestPalindrome(s)"
   ]
  },
  {
   "cell_type": "code",
   "execution_count": null,
   "metadata": {
    "collapsed": true
   },
   "outputs": [],
   "source": []
  },
  {
   "cell_type": "code",
   "execution_count": null,
   "metadata": {
    "collapsed": true
   },
   "outputs": [],
   "source": []
  },
  {
   "cell_type": "code",
   "execution_count": null,
   "metadata": {
    "collapsed": true
   },
   "outputs": [],
   "source": []
  },
  {
   "cell_type": "markdown",
   "metadata": {},
   "source": [
    "## 6. ZigZag Conversion\n",
    "\n",
    "The string <code style=\"background-color: #F8F2F4; color: #B83650;\">\"PAYPALISHIRING\"</code> is written in a zigzag pattern on a given number of rows like this: (you may want to display this pattern in a fixed font for better legibility)\n",
    "\n",
    " |   |   |   |   |   |   |   | \n",
    " |:-:|:-:|:-:|:-:|:-:|:-:|:-:| \n",
    " | P |   | A |   | H |   | N |\n",
    " | A | P | L | S | I | I | G |\n",
    " | Y |   | I |   | R |   |   |\n",
    " \n",
    "And then read line by line: <code style=\"background-color: #F8F2F4; color: #B83650;\">\"PAHNAPLSIIGYIR\"</code>\n",
    "\n",
    "Write the code that will take a string and make this conversion given a number of rows:\n",
    "\n",
    "string convert(string s, int numRows);\n",
    "\n",
    "<p><strong>Example 1:</strong></p>\n",
    "<pre style=\"background-color:#F5F5F5; padding:10px; border:1px solid #CCCCCC; border-radius:5px;\">\n",
    "<strong>Input:</strong> s = \"PAYPALISHIRING\", numRows = 3\n",
    "<strong>Output:</strong> \"PAHNAPLSIIGYIR\"\n",
    "</pre>\n",
    "\n",
    "<p><strong>Example 2:</strong></p>\n",
    "<pre style=\"background-color:#F5F5F5; padding:10px; border:1px solid #CCCCCC; border-radius:5px;\">\n",
    "<strong>Input:</strong> s = \"PAYPALISHIRING\", numRows = 4\n",
    "<strong>Output:</strong> \"PINALSIGYAHRPI\"\n",
    "<strong>Explanation:</strong>\n",
    "\n",
    "P     I     N\n",
    "A   L S   I G\n",
    "Y A   H R\n",
    "P     I\n",
    "</pre>"
   ]
  },
  {
   "cell_type": "code",
   "execution_count": 83,
   "metadata": {
    "collapsed": true
   },
   "outputs": [],
   "source": [
    "class Solution:\n",
    "    def convert(self, s, numRows):\n",
    "        \"\"\"\n",
    "        :type s: str\n",
    "        :type numRows: int\n",
    "        :rtype: str\n",
    "        \"\"\"\n",
    "        if len(s) <= numRows or numRows == 1:\n",
    "            return s\n",
    "        \n",
    "        result = [''] * numRows\n",
    "        row, step = 0, 1\n",
    "        for x in s:\n",
    "            result[row] += x\n",
    "            if row == 0:\n",
    "                step = 1\n",
    "            elif row == numRows - 1:\n",
    "                step = -1\n",
    "            row += step\n",
    "        return ''.join(result)"
   ]
  },
  {
   "cell_type": "code",
   "execution_count": 85,
   "metadata": {},
   "outputs": [
    {
     "data": {
      "text/plain": [
       "'ABC'"
      ]
     },
     "execution_count": 85,
     "metadata": {},
     "output_type": "execute_result"
    }
   ],
   "source": [
    "s = 'PAYPALISHIRING'\n",
    "numRows = 4\n",
    "s = 'ABC'\n",
    "numRows = 1\n",
    "Solution().convert(s, numRows)"
   ]
  },
  {
   "cell_type": "code",
   "execution_count": null,
   "metadata": {
    "collapsed": true
   },
   "outputs": [],
   "source": []
  },
  {
   "cell_type": "code",
   "execution_count": null,
   "metadata": {
    "collapsed": true
   },
   "outputs": [],
   "source": []
  },
  {
   "cell_type": "code",
   "execution_count": null,
   "metadata": {
    "collapsed": true
   },
   "outputs": [],
   "source": []
  },
  {
   "cell_type": "markdown",
   "metadata": {},
   "source": [
    "## 7. Reverse Integer\n",
    "\n",
    "Given a 32-bit signed integer, reverse digits of an integer.\n",
    "\n",
    "<p><strong>Example 1:</strong></p>\n",
    "<pre style=\"background-color:#F5F5F5; padding:10px; border:1px solid #CCCCCC; border-radius:5px;\">\n",
    "<strong>Input:</strong> 123\n",
    "<strong>Output:</strong> 321\n",
    "</pre>\n",
    "\n",
    "<p><strong>Example 1:</strong></p>\n",
    "<pre style=\"background-color:#F5F5F5; padding:10px; border:1px solid #CCCCCC; border-radius:5px;\">\n",
    "<strong>Input:</strong> -123\n",
    "<strong>Output:</strong> -321\n",
    "</pre>\n",
    "\n",
    "<p><strong>Example 1:</strong></p>\n",
    "<pre style=\"background-color:#F5F5F5; padding:10px; border:1px solid #CCCCCC; border-radius:5px;\">\n",
    "<strong>Input:</strong> 120\n",
    "<strong>Output:</strong> 21\n",
    "</pre>\n",
    "\n",
    "<p><strong>Note:</strong></p>\n",
    "\n",
    "Assume we are dealing with an environment which could only store integers within the 32-bit signed integer range: [$−2^{31}$,  $2^{31} − 1$]. For the purpose of this problem, assume that your function returns 0 when the reversed integer overflows."
   ]
  },
  {
   "cell_type": "code",
   "execution_count": 198,
   "metadata": {
    "collapsed": true
   },
   "outputs": [],
   "source": [
    "class Solution:\n",
    "    def reverse(self, x):\n",
    "        \"\"\"\n",
    "        :type x: int\n",
    "        :rtype: int\n",
    "        \"\"\"\n",
    "        if not x:\n",
    "            return x\n",
    "        \n",
    "        i, j = abs(x), 0\n",
    "        while i > 0:\n",
    "            i, j = i//10, j*10 + i%10\n",
    "\n",
    "        if (x < 0 and -j < -2**31) or (x > 0 and j > 2**31-1):\n",
    "            return 0\n",
    "            \n",
    "        return -j if x < 0 else j"
   ]
  },
  {
   "cell_type": "code",
   "execution_count": 200,
   "metadata": {},
   "outputs": [
    {
     "data": {
      "text/plain": [
       "-2147483648"
      ]
     },
     "execution_count": 200,
     "metadata": {},
     "output_type": "execute_result"
    }
   ],
   "source": [
    "x = 123\n",
    "x = -123\n",
    "x = 120\n",
    "x = 0\n",
    "x = 2**31\n",
    "x = -2**31\n",
    "x = int(str(2**31)[::-1])\n",
    "x = -int(str(2**31)[::-1])\n",
    "Solution().reverse(x)"
   ]
  },
  {
   "cell_type": "code",
   "execution_count": 202,
   "metadata": {
    "collapsed": true
   },
   "outputs": [],
   "source": [
    "class Solution:\n",
    "    def reverse(self, x):\n",
    "        \"\"\"\n",
    "        :type x: int\n",
    "        :rtype: int\n",
    "        \"\"\"\n",
    "        if not x:\n",
    "            return x\n",
    "        \n",
    "        rev = str(x)[::-1]\n",
    "        if (x < 0 and -int(rev[:-1]) < -2**31) or (x > 0 and int(rev) > 2**31-1):\n",
    "            return 0\n",
    "        \n",
    "        return -int(rev[:-1]) if x < 0 else int(rev)"
   ]
  },
  {
   "cell_type": "code",
   "execution_count": 203,
   "metadata": {},
   "outputs": [
    {
     "data": {
      "text/plain": [
       "-2147483648"
      ]
     },
     "execution_count": 203,
     "metadata": {},
     "output_type": "execute_result"
    }
   ],
   "source": [
    "x = 123\n",
    "x = -123\n",
    "x = 120\n",
    "x = 0\n",
    "x = 2**31\n",
    "x = -2**31\n",
    "x = int(str(2**31)[::-1])\n",
    "x = -int(str(2**31)[::-1])\n",
    "Solution().reverse(x)"
   ]
  },
  {
   "cell_type": "code",
   "execution_count": 210,
   "metadata": {
    "collapsed": true
   },
   "outputs": [],
   "source": [
    "# 100% beating answer\n",
    "class Solution:\n",
    "    def reverse(self, x):\n",
    "        \"\"\"\n",
    "        :type x: int\n",
    "        :rtype: int\n",
    "        \"\"\"\n",
    "        result = ((x>0)-(x<0)) * int(str(abs(x))[::-1])\n",
    "        return result if result in range(-2**31, 2**31) else 0"
   ]
  },
  {
   "cell_type": "code",
   "execution_count": 218,
   "metadata": {},
   "outputs": [
    {
     "data": {
      "text/plain": [
       "-2147483648"
      ]
     },
     "execution_count": 218,
     "metadata": {},
     "output_type": "execute_result"
    }
   ],
   "source": [
    "x = 123\n",
    "x = -123\n",
    "x = 120\n",
    "x = 0\n",
    "x = 2**31\n",
    "x = -2**31\n",
    "x = int(str(2**31)[::-1])\n",
    "x = -int(str(2**31)[::-1])\n",
    "Solution().reverse(x)"
   ]
  },
  {
   "cell_type": "code",
   "execution_count": null,
   "metadata": {
    "collapsed": true
   },
   "outputs": [],
   "source": []
  },
  {
   "cell_type": "code",
   "execution_count": null,
   "metadata": {
    "collapsed": true
   },
   "outputs": [],
   "source": []
  },
  {
   "cell_type": "code",
   "execution_count": null,
   "metadata": {
    "collapsed": true
   },
   "outputs": [],
   "source": []
  },
  {
   "cell_type": "markdown",
   "metadata": {},
   "source": [
    "## 8. String to Integer (atoi)\n",
    "\n",
    "Implement <code style=\"background-color: #F8F2F4; color: #B83650;\">&nbsp;atoi&nbsp;</code> which converts a string to an integer.\n",
    "\n",
    "The function first discards as many whitespace characters as necessary until the first non-whitespace character is found. Then, starting from this character, takes an optional initial plus or minus sign followed by as many numerical digits as possible, and interprets them as a numerical value.\n",
    "\n",
    "The string can contain additional characters after those that form the integral number, which are ignored and have no effect on the behavior of this function.\n",
    "\n",
    "If the first sequence of non-whitespace characters in str is not a valid integral number, or if no such sequence exists because either str is empty or it contains only whitespace characters, no conversion is performed.\n",
    "\n",
    "If no valid conversion could be performed, a zero value is returned.\n",
    "\n",
    "<p><strong>Note:</strong></p>\n",
    "- Only the space character <code>' '</code> is considered as whitespace character.\n",
    "- Assume we are dealing with an environment which could only store integers within the 32-bit signed integer range: [$−2^{31}$,  $2^{31}−1$]. If the numerical value is out of the range of representable values, INT_MAX (2<sup>31</sup> − 1) or INT_MIN (-2<sup>31</sup>) is returned.\n",
    "\n",
    "<p><strong>Example 1:</strong></p>\n",
    "<pre style=\"background-color:#F5F5F5; padding:10px; border:1px solid #CCCCCC; border-radius:5px;\">\n",
    "<strong>Input:</strong> \"42\"\n",
    "<strong>Output:</strong> 42\n",
    "</pre>\n",
    "\n",
    "<p><strong>Example 2:</strong></p>\n",
    "<pre style=\"background-color:#F5F5F5; padding:10px; border:1px solid #CCCCCC; border-radius:5px;\">\n",
    "<strong>Input:</strong> \"   -42\"\n",
    "<strong>Output:</strong> -42\n",
    "<strong>Explanation:</strong> The first non-whitespace character is '-', which is the minus sign. Then take as many numerical digits as possible, which gets 42.\n",
    "</pre>\n",
    "\n",
    "<p><strong>Example 3:</strong></p>\n",
    "<pre style=\"background-color:#F5F5F5; padding:10px; border:1px solid #CCCCCC; border-radius:5px;\">\n",
    "Input: \"4193 with words\", \n",
    "Output: 4193\n",
    "Explanation: Conversion stops at digit '3' as the next character is not a numerical digit.\n",
    "</pre>\n",
    "\n",
    "<p><strong>Example 4:</strong></p>\n",
    "<pre style=\"background-color:#F5F5F5; padding:10px; border:1px solid #CCCCCC; border-radius:5px;\">\n",
    "<strong>Input:</strong> \"words and 987\", \n",
    "<strong>Output:</strong> 0\n",
    "<strong>Explanation:</strong> The first non-whitespace character is 'w', which is not a numerical digit or a +/- sign. Therefore no valid conversion could be performed.\n",
    "</pre>\n",
    "\n",
    "<p><strong>Example 5:</strong></p>\n",
    "<pre style=\"background-color:#F5F5F5; padding:10px; border:1px solid #CCCCCC; border-radius:5px;\">\n",
    "<strong>Input:</strong> \"-91283472332\", \n",
    "<strong>Output:</strong> -2147483648\n",
    "<strong>Explanation:</strong> The number \"-91283472332\" is out of the range of a 32-bit signed integer. Thefore INT_MIN (−2<sup>31</sup>) is returned.\n",
    "</pre>"
   ]
  },
  {
   "cell_type": "code",
   "execution_count": 487,
   "metadata": {
    "collapsed": true
   },
   "outputs": [],
   "source": [
    "class Solution:\n",
    "    def myAtoi(self, s):\n",
    "        \"\"\"\n",
    "        :type str: str\n",
    "        :rtype: int\n",
    "        \"\"\"\n",
    "        i = 0\n",
    "        while i < len(s):\n",
    "            if s[i] == ' ':\n",
    "                i += 1\n",
    "                continue\n",
    "            if s[i] not in '-+0123456789':\n",
    "                return 0\n",
    "            j = i + 1\n",
    "            while True:\n",
    "                if j == len(s) or s[j] not in '0123456789':\n",
    "                    try:\n",
    "                        res = int(s[i:j])\n",
    "                        return max(-(1<<31), res) if res<0 else min((1<<31)-1, res)\n",
    "                    except:\n",
    "                        return 0\n",
    "                j += 1\n",
    "            i += 1\n",
    "        return 0"
   ]
  },
  {
   "cell_type": "code",
   "execution_count": 498,
   "metadata": {},
   "outputs": [
    {
     "data": {
      "text/plain": [
       "0"
      ]
     },
     "execution_count": 498,
     "metadata": {},
     "output_type": "execute_result"
    }
   ],
   "source": [
    "s = '42'\n",
    "s = '    -42'\n",
    "s = '4193 with words'\n",
    "s = 'words and 987'\n",
    "s = '-91283472332'\n",
    "s = '+'\n",
    "s = '     2147483648'\n",
    "s = ' -'\n",
    "s = ''\n",
    "s = '--'\n",
    "Solution().myAtoi(s)"
   ]
  },
  {
   "cell_type": "code",
   "execution_count": 478,
   "metadata": {
    "collapsed": true
   },
   "outputs": [],
   "source": [
    "# 100% beating answer\n",
    "class Solution:\n",
    "    def myAtoi(self, s):\n",
    "        \"\"\"\n",
    "        :type str: str\n",
    "        :rtype: int\n",
    "        \"\"\"\n",
    "        i = 0\n",
    "        while i < len(s):\n",
    "            if s[i] == ' ':\n",
    "                i += 1\n",
    "                continue\n",
    "            if s[i] not in '-+0123456789':\n",
    "                return 0\n",
    "            j = i + 1\n",
    "            while True:\n",
    "                if j == len(s) or s[j] not in '0123456789':\n",
    "                    try:\n",
    "                        res = int(s[i:j])\n",
    "                        if res < -(1<<31):\n",
    "                            return -(1<<31)\n",
    "                        if res > (1<<31) - 1:\n",
    "                            return (1<<31) - 1\n",
    "                        return res\n",
    "                    except:\n",
    "                        return 0\n",
    "                j += 1\n",
    "            i += 1\n",
    "        return 0"
   ]
  },
  {
   "cell_type": "code",
   "execution_count": 467,
   "metadata": {
    "collapsed": true
   },
   "outputs": [],
   "source": [
    "class Solution:\n",
    "    def myAtoi(self, s):\n",
    "        \"\"\"\n",
    "        :type str: str\n",
    "        :rtype: int\n",
    "        \"\"\"        \n",
    "        head = s.strip()\n",
    "        if not len(head):\n",
    "            return 0\n",
    "        \n",
    "        signs = '-+'\n",
    "        nums = '0123456789'\n",
    "        \n",
    "        signFlag = (head[0] in signs)\n",
    "        numFlag = (head[0] in nums)\n",
    "        if len(head) == 1 and not numFlag:\n",
    "            return 0\n",
    "        \n",
    "        i = 0 + signFlag\n",
    "        numFlag = (head[i] in nums)\n",
    "        while i < len(head):\n",
    "            if head[i] not in nums:\n",
    "                break\n",
    "            i += 1\n",
    "        \n",
    "        if numFlag:\n",
    "            result = int(head[:i])\n",
    "            return max(result, -(1>>31)) if result < 0 else min(result, (1>>31)-1)\n",
    "        else:\n",
    "            return 0"
   ]
  },
  {
   "cell_type": "code",
   "execution_count": 468,
   "metadata": {},
   "outputs": [
    {
     "data": {
      "text/plain": [
       "0"
      ]
     },
     "execution_count": 468,
     "metadata": {},
     "output_type": "execute_result"
    }
   ],
   "source": [
    "s = '42'\n",
    "s = '    -42'\n",
    "s = '4193 with words'\n",
    "s = 'words and 987'\n",
    "s = '-91283472332'\n",
    "s = '+'\n",
    "s = '     2147483647'\n",
    "s = ' -'\n",
    "Solution().myAtoi(s)"
   ]
  },
  {
   "cell_type": "code",
   "execution_count": 179,
   "metadata": {
    "collapsed": true
   },
   "outputs": [],
   "source": [
    "class Solution:\n",
    "    def myAtoi(self, _str):\n",
    "        \"\"\"\n",
    "        :type str: str\n",
    "        :rtype: int\n",
    "        \"\"\"\n",
    "        signs = set(['-','+'])\n",
    "        nums = set([str(x) for x in range(10)])\n",
    "\n",
    "        string = _str.strip()\n",
    "        if not string or string[0] not in (signs | nums):\n",
    "            return 0\n",
    "\n",
    "        result = string[0]\n",
    "        for x in string[1:]:\n",
    "            if x in nums:\n",
    "                result += x\n",
    "            else:\n",
    "                break\n",
    "        \n",
    "        try:\n",
    "            int(result)\n",
    "        except:\n",
    "            return 0\n",
    "        \n",
    "        return max(int(result), -2**31) if int(result) < 0 else min(int(result), 2**31-1)"
   ]
  },
  {
   "cell_type": "code",
   "execution_count": 182,
   "metadata": {},
   "outputs": [
    {
     "data": {
      "text/plain": [
       "-2147483648"
      ]
     },
     "execution_count": 182,
     "metadata": {},
     "output_type": "execute_result"
    }
   ],
   "source": [
    "s = '42'\n",
    "s = '    -42'\n",
    "s = '4193 with words'\n",
    "s = 'words and 987'\n",
    "s = '-91283472332'\n",
    "s = '+'\n",
    "s = '     2147483647'\n",
    "s = ' -'\n",
    "Solution().myAtoi(s)"
   ]
  },
  {
   "cell_type": "code",
   "execution_count": null,
   "metadata": {
    "collapsed": true
   },
   "outputs": [],
   "source": []
  },
  {
   "cell_type": "code",
   "execution_count": null,
   "metadata": {
    "collapsed": true
   },
   "outputs": [],
   "source": []
  },
  {
   "cell_type": "code",
   "execution_count": null,
   "metadata": {
    "collapsed": true
   },
   "outputs": [],
   "source": []
  },
  {
   "cell_type": "markdown",
   "metadata": {},
   "source": [
    "## 9. Palindrome Number\n",
    "\n",
    "Determine whether an integer is a palindrome. An integer is a palindrome when it reads the same backward as forward.\n",
    "\n",
    "<p><strong>Example 1:</strong></p>\n",
    "<pre style=\"background-color:#F5F5F5; padding:10px; border:1px solid #CCCCCC; border-radius:5px;\">\n",
    "<strong>Input:</strong> 121\n",
    "<strong>Output:</strong> true\n",
    "</pre>\n",
    "\n",
    "<p><strong>Example 2:</strong></p>\n",
    "<pre style=\"background-color:#F5F5F5; padding:10px; border:1px solid #CCCCCC; border-radius:5px;\">\n",
    "<strong>Input:</strong> -121\n",
    "<strong>Output:</strong> false\n",
    "<strong>Explanation:</strong> From left to right, it reads -121. From right to left, it becomes 121-. Therefore it is not a palindrome.\n",
    "</pre>\n",
    "\n",
    "<p><strong>Example 3:</strong></p>\n",
    "<pre style=\"background-color:#F5F5F5; padding:10px; border:1px solid #CCCCCC; border-radius:5px;\">\n",
    "<strong>Input:</strong> 10\n",
    "<strong>Output:</strong> false\n",
    "<strong>Explanation:</strong> Reads 01 from right to left. Therefore it is not a palindrome.\n",
    "</pre>\n",
    "\n",
    "<p><strong>Follow up:</strong></p>\n",
    "\n",
    "Coud you solve it without converting the integer to a string?"
   ]
  },
  {
   "cell_type": "code",
   "execution_count": 504,
   "metadata": {
    "collapsed": true
   },
   "outputs": [],
   "source": [
    "# integer method\n",
    "class Solution:\n",
    "    def isPalindrome(self, x):\n",
    "        \"\"\"\n",
    "        :type x: int\n",
    "        :rtype: bool\n",
    "        \"\"\"\n",
    "        if x < 0:\n",
    "            return False\n",
    "        elif not x:\n",
    "            return True\n",
    "        \n",
    "        i, j = x, 0\n",
    "        while i > 0:\n",
    "            i, j = i//10, j*10 + i%10\n",
    "        return True if j == x else False"
   ]
  },
  {
   "cell_type": "code",
   "execution_count": 508,
   "metadata": {},
   "outputs": [
    {
     "data": {
      "text/plain": [
       "True"
      ]
     },
     "execution_count": 508,
     "metadata": {},
     "output_type": "execute_result"
    }
   ],
   "source": [
    "x = 121\n",
    "x = -121\n",
    "x = 10\n",
    "x = 0\n",
    "Solution().isPalindrome(x)"
   ]
  },
  {
   "cell_type": "code",
   "execution_count": 516,
   "metadata": {
    "collapsed": true
   },
   "outputs": [],
   "source": [
    "# string method\n",
    "class Solution:\n",
    "    def isPalindrome(self, x):\n",
    "        \"\"\"\n",
    "        :type x: int\n",
    "        :rtype: bool\n",
    "        \"\"\"\n",
    "        return str(x) == str(x)[::-1]"
   ]
  },
  {
   "cell_type": "code",
   "execution_count": 517,
   "metadata": {},
   "outputs": [
    {
     "data": {
      "text/plain": [
       "True"
      ]
     },
     "execution_count": 517,
     "metadata": {},
     "output_type": "execute_result"
    }
   ],
   "source": [
    "x = 121\n",
    "x = -121\n",
    "x = 10\n",
    "x = 0\n",
    "Solution().isPalindrome(x)"
   ]
  },
  {
   "cell_type": "code",
   "execution_count": null,
   "metadata": {
    "collapsed": true
   },
   "outputs": [],
   "source": []
  },
  {
   "cell_type": "code",
   "execution_count": null,
   "metadata": {
    "collapsed": true
   },
   "outputs": [],
   "source": []
  },
  {
   "cell_type": "code",
   "execution_count": null,
   "metadata": {
    "collapsed": true
   },
   "outputs": [],
   "source": []
  },
  {
   "cell_type": "markdown",
   "metadata": {},
   "source": [
    "## 10. Regular Expression Matching\n",
    "\n",
    "Given an input string (<code style=\"background-color: #F8F2F4; color: #B83650;\">&nbsp;s&nbsp;</code>) and a pattern (<code style=\"background-color: #F8F2F4; color: #B83650\">&nbsp;p&nbsp;</code>), implement regular expression matching with support for <code style=\"background-color: #F8F2F4; color: #B83650;\">'.'</code> and <code style=\"background-color: #F8F2F4; color: #B83650;\">'*'</code>.\n",
    "\n",
    "<code style=\"background-color: #F8F2F4; color: #B83650;\">'.'</code> Matches any single character.\n",
    "\n",
    "<code style=\"background-color: #F8F2F4; color: #B83650;\">'*'</code> Matches zero or more of the preceding element.\n",
    "\n",
    "The matching should cover the **entire** input string (not partial).\n",
    "\n",
    "<p><strong>Note:</strong></p>\n",
    "\n",
    "- <code style=\"background-color: #F8F2F4; color: #B83650;\">&nbsp;s&nbsp;</code> could be empty and contains only lowercase letters <code style=\"background-color: #F8F2F4; color: #B83650;\">&nbsp;a-z&nbsp;</code>\n",
    "- <code style=\"background-color: #F8F2F4; color: #B83650;\">&nbsp;p&nbsp;</code> could be empty and contains only lowercase letters <code style=\"background-color: #F8F2F4; color: #B83650;\">&nbsp;a-z&nbsp;</code>, and characters like <code style=\"background-color: #F8F2F4; color: #B83650;\">&nbsp;.&nbsp;</code> or <code style=\"background-color: #F8F2F4; color: #B83650;\">&nbsp;*&nbsp;</code>.</li>\n",
    "\n",
    "<p><strong>Example 1:</strong></p>\n",
    "<pre style=\"background-color:#F5F5F5; padding:10px; border:1px solid #CCCCCC; border-radius:5px;\">\n",
    "<strong>Input:</strong>\n",
    "s = \"aa\"\n",
    "p = \"a\"\n",
    "<strong>Output:</strong> false\n",
    "<strong>Explanation:</strong> \"a\" does not match the entire string \"aa\".\n",
    "</pre>\n",
    "\n",
    "<p><strong>Example 2:</strong></p>\n",
    "<pre style=\"background-color:#F5F5F5; padding:10px; border:1px solid #CCCCCC; border-radius:5px;\">\n",
    "<strong>Input:</strong>\n",
    "s = \"aa\"\n",
    "p = \"a*\"\n",
    "<strong>Output:</strong> true\n",
    "<strong>Explanation:</strong> '*' means zero or more of the precedeng element, 'a'. Therefore, by repeating 'a' once, it becomes \"aa\".\n",
    "</pre>\n",
    "\n",
    "<p><strong>Example 3:</strong></p>\n",
    "<pre style=\"background-color:#F5F5F5; padding:10px; border:1px solid #CCCCCC; border-radius:5px;\">\n",
    "<strong>Input:</strong>\n",
    "s = \"ab\"\n",
    "p = \".*\"\n",
    "<strong>Output:</strong> true\n",
    "<strong>Explanation:</strong> \".*\" means \"zero or more (*) of any character (.)\".\n",
    "</pre>\n",
    "\n",
    "<p><strong>Example 4:</strong></p>\n",
    "<pre style=\"background-color:#F5F5F5; padding:10px; border:1px solid #CCCCCC; border-radius:5px;\">\n",
    "<strong>Input:</strong>\n",
    "s = \"aab\"\n",
    "p = \"c*a*b\"\n",
    "<strong>Output:</strong> true\n",
    "<strong>Explanation:</strong> c can be repeated 0 times, a can be repeated 1 time. Therefore it matches \"aab\".\n",
    "</pre>\n",
    "\n",
    "<p><strong>Example 5:</strong></p>\n",
    "<pre style=\"background-color:#F5F5F5; padding:10px; border:1px solid #CCCCCC; border-radius:5px;\">\n",
    "<strong>Input:</strong>\n",
    "s = \"mississippi\"\n",
    "p = \"mis*is*p*.\"\n",
    "<strong>Output:</strong> false\n",
    "</pre>"
   ]
  },
  {
   "cell_type": "code",
   "execution_count": 523,
   "metadata": {},
   "outputs": [
    {
     "name": "stdout",
     "output_type": "stream",
     "text": [
      "3 5\n"
     ]
    },
    {
     "data": {
      "text/plain": [
       "[[False, False, False, False, False, False],\n",
       " [False, False, False, False, False, False],\n",
       " [False, False, False, False, False, False],\n",
       " [False, False, False, False, False, False]]"
      ]
     },
     "execution_count": 523,
     "metadata": {},
     "output_type": "execute_result"
    }
   ],
   "source": [
    "s = \"aab\"\n",
    "p = \"c*a*b\"\n",
    "m, n = len(s), len(p)\n",
    "print(m, n)\n",
    "dp = [[False]*(n+1) for i in range(m+1)]\n",
    "dp"
   ]
  },
  {
   "cell_type": "code",
   "execution_count": 524,
   "metadata": {},
   "outputs": [
    {
     "data": {
      "text/plain": [
       "[[True, False, False, False, False, False],\n",
       " [False, False, False, False, False, False],\n",
       " [False, False, False, False, False, False],\n",
       " [False, False, False, False, False, False]]"
      ]
     },
     "execution_count": 524,
     "metadata": {},
     "output_type": "execute_result"
    }
   ],
   "source": [
    "dp[0][0] = True\n",
    "dp"
   ]
  },
  {
   "cell_type": "code",
   "execution_count": null,
   "metadata": {
    "collapsed": true
   },
   "outputs": [],
   "source": []
  },
  {
   "cell_type": "code",
   "execution_count": null,
   "metadata": {
    "collapsed": true
   },
   "outputs": [],
   "source": []
  },
  {
   "cell_type": "code",
   "execution_count": null,
   "metadata": {
    "collapsed": true
   },
   "outputs": [],
   "source": []
  },
  {
   "cell_type": "code",
   "execution_count": null,
   "metadata": {
    "collapsed": true
   },
   "outputs": [],
   "source": []
  },
  {
   "cell_type": "code",
   "execution_count": null,
   "metadata": {
    "collapsed": true
   },
   "outputs": [],
   "source": []
  },
  {
   "cell_type": "markdown",
   "metadata": {},
   "source": [
    "## 11. Container With Most Water\n",
    "\n",
    "Given n non-negative integers *a<sub>1</sub>, a<sub>2</sub>, ..., a<sub>n</sub>* , where each represents a point at coordinate *(i, a<sub>i</sub>)*. n vertical lines are drawn such that the two endpoints of line i is at *(i, a<sub>i</sub>)* and *(i, 0)*. Find two lines, which together with x-axis forms a container, such that the container contains the most water.\n",
    "\n",
    "**Note:** You may not slant the container and n is at least 2.\n",
    "\n",
    "<img src='https://s3-lc-upload.s3.amazonaws.com/uploads/2018/07/17/question_11.jpg'/>\n",
    "\n",
    "\n",
    "<small>The above vertical lines are represented by array [1,8,6,2,5,4,8,3,7]. In this case, the max area of water (blue section) the container can contain is 49.</small>"
   ]
  },
  {
   "cell_type": "code",
   "execution_count": 531,
   "metadata": {
    "collapsed": true
   },
   "outputs": [],
   "source": [
    "class Solution:\n",
    "    def maxArea(self, height):\n",
    "        \"\"\"\n",
    "        :type height: List[int]\n",
    "        :rtype: int\n",
    "        \"\"\"\n",
    "        result = 0\n",
    "        i, j = 0, len(height)-1\n",
    "        while i < j:\n",
    "            if height[i] <= height [j]:\n",
    "                area = (j-i) * height[i]\n",
    "                result = max(result, area)\n",
    "                i += 1\n",
    "            else:\n",
    "                area = (j-i) * height[j]\n",
    "                result = max(result, area)\n",
    "                j -= 1\n",
    "        return result"
   ]
  },
  {
   "cell_type": "code",
   "execution_count": 532,
   "metadata": {},
   "outputs": [
    {
     "data": {
      "text/plain": [
       "49"
      ]
     },
     "execution_count": 532,
     "metadata": {},
     "output_type": "execute_result"
    }
   ],
   "source": [
    "height = [1,8,6,2,5,4,8,3,7]\n",
    "Solution().maxArea(height)"
   ]
  },
  {
   "cell_type": "code",
   "execution_count": null,
   "metadata": {
    "collapsed": true
   },
   "outputs": [],
   "source": []
  },
  {
   "cell_type": "code",
   "execution_count": null,
   "metadata": {
    "collapsed": true
   },
   "outputs": [],
   "source": []
  },
  {
   "cell_type": "code",
   "execution_count": null,
   "metadata": {
    "collapsed": true
   },
   "outputs": [],
   "source": []
  },
  {
   "cell_type": "markdown",
   "metadata": {},
   "source": [
    "## 12. Integer to Roman\n",
    "\n",
    "Roman numerals are represented by seven different symbols: <code style=\"background-color: #F8F2F4; color: #B83650\">&nbsp;I&nbsp;</code>, <code style=\"background-color: #F8F2F4; color: #B83650\">&nbsp;V&nbsp;</code>, <code style=\"background-color: #F8F2F4; color: #B83650\">&nbsp;X&nbsp;</code>, <code style=\"background-color: #F8F2F4; color: #B83650\">&nbsp;L&nbsp;</code>, <code style=\"background-color: #F8F2F4; color: #B83650\">&nbsp;C&nbsp;</code>, <code style=\"background-color: #F8F2F4; color: #B83650\">&nbsp;D&nbsp;</code> and <code style=\"background-color: #F8F2F4; color: #B83650\">&nbsp;M&nbsp;</code>.\n",
    "\n",
    "<pre style=\"background-color:#F5F5F5; padding:10px; border:1px solid #CCCCCC; border-radius:5px;\">\n",
    "<strong>Symbol&emsp;&emsp;Value</strong> \n",
    "I&emsp;&emsp;&emsp;&emsp;&emsp;&emsp;&emsp;&emsp;1\n",
    "V&emsp;&emsp;&emsp;&emsp;&emsp;&emsp;&emsp;&emsp;5\n",
    "X&emsp;&emsp;&emsp;&emsp;&emsp;&emsp;&emsp;&emsp;10\n",
    "L&emsp;&emsp;&emsp;&emsp;&emsp;&emsp;&emsp;&emsp;50\n",
    "C&emsp;&emsp;&emsp;&emsp;&emsp;&emsp;&emsp;&emsp;100\n",
    "D&emsp;&emsp;&emsp;&emsp;&emsp;&emsp;&emsp;&emsp;500\n",
    "M&emsp;&emsp;&emsp;&emsp;&emsp;&emsp;&emsp;&emsp;1000\n",
    "</pre>\n",
    "\n",
    "For example, two is written as <code style=\"background-color: #F8F2F4; color: #B83650\">&nbsp;II&nbsp;</code> in Roman numeral, just two one's added together. Twelve is written as, <code style=\"background-color: #F8F2F4; color: #B83650\">&nbsp;XII&nbsp;</code>, which is simply <code style=\"background-color: #F8F2F4; color: #B83650\">&nbsp;X&nbsp;</code> + <code style=\"background-color: #F8F2F4; color: #B83650\">&nbsp;II&nbsp;</code>. The number twenty seven is written as <code style=\"background-color: #F8F2F4; color: #B83650\">&nbsp;XXVII&nbsp;</code>, which is <code style=\"background-color: #F8F2F4; color: #B83650\">&nbsp;XX&nbsp;</code> + <code style=\"background-color: #F8F2F4; color: #B83650\">&nbsp;V&nbsp;</code> + <code style=\"background-color: #F8F2F4; color: #B83650\">&nbsp;II&nbsp;</code>.\n",
    "\n",
    "Roman numerals are usually written largest to smallest from left to right. However, the numeral for four is not <code style=\"background-color: #F8F2F4; color: #B83650\">&nbsp;IIII&nbsp;</code>. Instead, the number four is written as <code style=\"background-color: #F8F2F4; color: #B83650\">&nbsp;IV&nbsp;</code>. Because the one is before the five we subtract it making four. The same principle applies to the number nine, which is written as <code style=\"background-color: #F8F2F4; color: #B83650\">&nbsp;IX&nbsp;</code>. There are six instances where subtraction is used:\n",
    "\n",
    "- <code style=\"background-color: #F8F2F4; color: #B83650\">&nbsp;I&nbsp;</code> can be placed before <code style=\"background-color: #F8F2F4; color: #B83650\">&nbsp;V&nbsp;</code> (5) and <code style=\"background-color: #F8F2F4; color: #B83650\">&nbsp;X&nbsp;</code> (10) to make 4 and 9. \n",
    "- <code style=\"background-color: #F8F2F4; color: #B83650\">&nbsp;X&nbsp;</code> can be placed before <code style=\"background-color: #F8F2F4; color: #B83650\">&nbsp;L&nbsp;</code> (50) and <code style=\"background-color: #F8F2F4; color: #B83650\">&nbsp;C&nbsp;</code> (100) to make 40 and 90. \n",
    "- <code style=\"background-color: #F8F2F4; color: #B83650\">&nbsp;C&nbsp;</code> can be placed before <code style=\"background-color: #F8F2F4; color: #B83650\">&nbsp;D&nbsp;</code> (500) and <code style=\"background-color: #F8F2F4; color: #B83650\">&nbsp;M&nbsp;</code> (1000) to make 400 and 900.\n",
    "\n",
    "Given an integer, convert it to a roman numeral. Input is guaranteed to be within the range from 1 to 3999.\n",
    "\n",
    "<p><strong>Example 1:</strong></p>\n",
    "<pre style=\"background-color:#F5F5F5; padding:10px; border:1px solid #CCCCCC; border-radius:5px;\">\n",
    "<strong>Input:</strong> 3\n",
    "<strong>Output:</strong> \"III\"\n",
    "</pre>\n",
    "\n",
    "<p><strong>Example 2:</strong></p>\n",
    "<pre style=\"background-color:#F5F5F5; padding:10px; border:1px solid #CCCCCC; border-radius:5px;\">\n",
    "<strong>Input:</strong> 4\n",
    "<strong>Output:</strong> \"IV\"\n",
    "</pre>\n",
    "\n",
    "<p><strong>Example 3:</strong></p>\n",
    "<pre style=\"background-color:#F5F5F5; padding:10px; border:1px solid #CCCCCC; border-radius:5px;\">\n",
    "<strong>Input:</strong> 9\n",
    "<strong>Output:</strong> \"IX\"\n",
    "</pre>\n",
    "\n",
    "<p><strong>Example 4:</strong></p>\n",
    "<pre style=\"background-color:#F5F5F5; padding:10px; border:1px solid #CCCCCC; border-radius:5px;\">\n",
    "<strong>Input:</strong> 58\n",
    "<strong>Output:</strong> \"LVIII\"\n",
    "<strong>Explanation:</strong> C = 100, L = 50, XXX = 30 and III = 3.\n",
    "</pre>\n",
    "\n",
    "<p><strong>Example 5:</strong></p>\n",
    "<pre style=\"background-color:#F5F5F5; padding:10px; border:1px solid #CCCCCC; border-radius:5px;\">\n",
    "<strong>Input:</strong> 1994\n",
    "<strong>Output:</strong> \"MCMXCIV\"\n",
    "<strong>Explanation:</strong> M = 1000, CM = 900, XC = 90 and IV = 4.\n",
    "</pre>"
   ]
  },
  {
   "cell_type": "code",
   "execution_count": 644,
   "metadata": {
    "collapsed": true
   },
   "outputs": [],
   "source": [
    "class Solution:\n",
    "    def intToRoman(self, num):\n",
    "        \"\"\"\n",
    "        :type num: int\n",
    "        :rtype: str\n",
    "        \"\"\"\n",
    "        result = ''\n",
    "        symbols = 'IVXLCDM'\n",
    "        n, m = num, 0\n",
    "        i = 0\n",
    "        while n > 0:\n",
    "            n, m = n//10, n%10\n",
    "            pointer = [[], [i], [i]*2, [i]*3, [i, i+1], [i+1], [i+1, i], [i+1]+[i]*2, [i+1]+[i]*3, [i, i+2]]\n",
    "            res = ''.join([symbols[x] for x in pointer[m]])\n",
    "            result = res + result\n",
    "            i += 2\n",
    "        return result"
   ]
  },
  {
   "cell_type": "code",
   "execution_count": 645,
   "metadata": {},
   "outputs": [
    {
     "data": {
      "text/plain": [
       "'MCMXCIV'"
      ]
     },
     "execution_count": 645,
     "metadata": {},
     "output_type": "execute_result"
    }
   ],
   "source": [
    "num = 3\n",
    "num = 4\n",
    "num = 9\n",
    "num = 58\n",
    "num = 1994\n",
    "Solution().intToRoman(num)"
   ]
  },
  {
   "cell_type": "code",
   "execution_count": 681,
   "metadata": {
    "collapsed": true
   },
   "outputs": [],
   "source": [
    "# 100% beating answer\n",
    "class Solution:\n",
    "    ONE = [\"\", \"I\", \"II\", \"III\", \"IV\", \"V\", \"VI\", \"VII\", \"VIII\", \"IX\"]\n",
    "    TEN = [\"\", \"X\", \"XX\", \"XXX\", \"XL\", \"L\", \"LX\", \"LXX\", \"LXXX\", \"XC\"]\n",
    "    HUN = [\"\", \"C\", \"CC\", \"CCC\", \"CD\", \"D\", \"DC\", \"DCC\", \"DCCC\", \"CM\"]\n",
    "    THU = [\"\", \"M\", \"MM\", \"MMM\"]\n",
    "    def intToRoman(self, num):\n",
    "        \"\"\"\n",
    "        :type num: int\n",
    "        :rtype: str\n",
    "        \"\"\"\n",
    "        return Solution().THU[num//1000] + Solution().HUN[num//100%10] + \\\n",
    "    Solution().TEN[num//10%10] + Solution.ONE[num%10]"
   ]
  },
  {
   "cell_type": "code",
   "execution_count": null,
   "metadata": {
    "collapsed": true
   },
   "outputs": [],
   "source": []
  },
  {
   "cell_type": "code",
   "execution_count": null,
   "metadata": {
    "collapsed": true
   },
   "outputs": [],
   "source": []
  },
  {
   "cell_type": "code",
   "execution_count": null,
   "metadata": {
    "collapsed": true
   },
   "outputs": [],
   "source": []
  },
  {
   "cell_type": "markdown",
   "metadata": {},
   "source": [
    "## 13. Roman to Integer\n",
    "\n",
    "Roman numerals are represented by seven different symbols: <code style=\"background-color: #F8F2F4; color: #B83650\">&nbsp;I&nbsp;</code>, <code style=\"background-color: #F8F2F4; color: #B83650\">&nbsp;V&nbsp;</code>, <code style=\"background-color: #F8F2F4; color: #B83650\">&nbsp;X&nbsp;</code>, <code style=\"background-color: #F8F2F4; color: #B83650\">&nbsp;L&nbsp;</code>, <code style=\"background-color: #F8F2F4; color: #B83650\">&nbsp;C&nbsp;</code>, <code style=\"background-color: #F8F2F4; color: #B83650\">&nbsp;D&nbsp;</code> and <code style=\"background-color: #F8F2F4; color: #B83650\">&nbsp;M&nbsp;</code>.\n",
    "\n",
    "<pre style=\"background-color:#F5F5F5; padding:10px; border:1px solid #CCCCCC; border-radius:5px;\">\n",
    "<strong>Symbol&emsp;&emsp;Value</strong> \n",
    "I&emsp;&emsp;&emsp;&emsp;&emsp;&emsp;&emsp;&emsp;1\n",
    "V&emsp;&emsp;&emsp;&emsp;&emsp;&emsp;&emsp;&emsp;5\n",
    "X&emsp;&emsp;&emsp;&emsp;&emsp;&emsp;&emsp;&emsp;10\n",
    "L&emsp;&emsp;&emsp;&emsp;&emsp;&emsp;&emsp;&emsp;50\n",
    "C&emsp;&emsp;&emsp;&emsp;&emsp;&emsp;&emsp;&emsp;100\n",
    "D&emsp;&emsp;&emsp;&emsp;&emsp;&emsp;&emsp;&emsp;500\n",
    "M&emsp;&emsp;&emsp;&emsp;&emsp;&emsp;&emsp;&emsp;1000\n",
    "</pre>\n",
    "\n",
    "For example, two is written as <code style=\"background-color: #F8F2F4; color: #B83650\">&nbsp;II&nbsp;</code> in Roman numeral, just two one's added together. Twelve is written as, <code style=\"background-color: #F8F2F4; color: #B83650\">&nbsp;XII&nbsp;</code>, which is simply <code style=\"background-color: #F8F2F4; color: #B83650\">&nbsp;X&nbsp;</code> + <code style=\"background-color: #F8F2F4; color: #B83650\">&nbsp;II&nbsp;</code>. The number twenty seven is written as <code style=\"background-color: #F8F2F4; color: #B83650\">&nbsp;XXVII&nbsp;</code>, which is <code style=\"background-color: #F8F2F4; color: #B83650\">&nbsp;XX&nbsp;</code> + <code style=\"background-color: #F8F2F4; color: #B83650\">&nbsp;V&nbsp;</code> + <code style=\"background-color: #F8F2F4; color: #B83650\">&nbsp;II&nbsp;</code>.\n",
    "\n",
    "Roman numerals are usually written largest to smallest from left to right. However, the numeral for four is not <code style=\"background-color: #F8F2F4; color: #B83650\">&nbsp;IIII&nbsp;</code>. Instead, the number four is written as <code style=\"background-color: #F8F2F4; color: #B83650\">&nbsp;IV&nbsp;</code>. Because the one is before the five we subtract it making four. The same principle applies to the number nine, which is written as <code style=\"background-color: #F8F2F4; color: #B83650\">&nbsp;IX&nbsp;</code>. There are six instances where subtraction is used:\n",
    "\n",
    "- <code style=\"background-color: #F8F2F4; color: #B83650\">&nbsp;I&nbsp;</code> can be placed before <code style=\"background-color: #F8F2F4; color: #B83650\">&nbsp;V&nbsp;</code> (5) and <code style=\"background-color: #F8F2F4; color: #B83650\">&nbsp;X&nbsp;</code> (10) to make 4 and 9. \n",
    "- <code style=\"background-color: #F8F2F4; color: #B83650\">&nbsp;X&nbsp;</code> can be placed before <code style=\"background-color: #F8F2F4; color: #B83650\">&nbsp;L&nbsp;</code> (50) and <code style=\"background-color: #F8F2F4; color: #B83650\">&nbsp;C&nbsp;</code> (100) to make 40 and 90. \n",
    "- <code style=\"background-color: #F8F2F4; color: #B83650\">&nbsp;C&nbsp;</code> can be placed before <code style=\"background-color: #F8F2F4; color: #B83650\">&nbsp;D&nbsp;</code> (500) and <code style=\"background-color: #F8F2F4; color: #B83650\">&nbsp;M&nbsp;</code> (1000) to make 400 and 900.\n",
    "\n",
    "Given a roman numeral, convert it to an integer. Input is guaranteed to be within the range from 1 to 3999.\n",
    "\n",
    "<p><strong>Example 1:</strong></p>\n",
    "<pre style=\"background-color:#F5F5F5; padding:10px; border:1px solid #CCCCCC; border-radius:5px;\">\n",
    "<strong>Input:</strong> \"III\"\n",
    "<strong>Output:</strong> 3\n",
    "</pre>\n",
    "\n",
    "<p><strong>Example 2:</strong></p>\n",
    "<pre style=\"background-color:#F5F5F5; padding:10px; border:1px solid #CCCCCC; border-radius:5px;\">\n",
    "<strong>Input:</strong> \"IV\"\n",
    "<strong>Output:</strong> 4\n",
    "</pre>\n",
    "\n",
    "<p><strong>Example 3:</strong></p>\n",
    "<pre style=\"background-color:#F5F5F5; padding:10px; border:1px solid #CCCCCC; border-radius:5px;\">\n",
    "<strong>Input:</strong> \"IX\"\n",
    "<strong>Output:</strong> 9\n",
    "</pre>\n",
    "\n",
    "<p><strong>Example 4:</strong></p>\n",
    "<pre style=\"background-color:#F5F5F5; padding:10px; border:1px solid #CCCCCC; border-radius:5px;\">\n",
    "<strong>Input:</strong> \"LVIII\"\n",
    "<strong>Output:</strong> 58\n",
    "<strong>Explanation:</strong> C = 100, L = 50, XXX = 30 and III = 3.\n",
    "</pre>\n",
    "\n",
    "<p><strong>Example 5:</strong></p>\n",
    "<pre style=\"background-color:#F5F5F5; padding:10px; border:1px solid #CCCCCC; border-radius:5px;\">\n",
    "<strong>Input:</strong> \"MCMXCIV\"\n",
    "<strong>Output:</strong> 1994\n",
    "<strong>Explanation:</strong> M = 1000, CM = 900, XC = 90 and IV = 4.\n",
    "</pre>"
   ]
  },
  {
   "cell_type": "code",
   "execution_count": 768,
   "metadata": {
    "collapsed": true
   },
   "outputs": [],
   "source": [
    "class Solution:\n",
    "    def romanToInt(self, s):\n",
    "        \"\"\"\n",
    "        :type s: str\n",
    "        :rtype: int\n",
    "        \"\"\"\n",
    "        symbols = dict(zip('IVXLCDM', [x*(10**i) for i in range(4) for x in [1, 5]][:-1]))\n",
    "        result, pre = 0, 0\n",
    "        for x in s[::-1]:\n",
    "            if x not in symbols:\n",
    "                return 0\n",
    "            \n",
    "            if symbols[x] < pre:\n",
    "                result -= symbols[x]\n",
    "            else:\n",
    "                result += symbols[x]\n",
    "            pre = symbols[x]\n",
    "        return result"
   ]
  },
  {
   "cell_type": "code",
   "execution_count": 769,
   "metadata": {},
   "outputs": [
    {
     "data": {
      "text/plain": [
       "0"
      ]
     },
     "execution_count": 769,
     "metadata": {},
     "output_type": "execute_result"
    }
   ],
   "source": [
    "s = 'III'\n",
    "s = 'IV'\n",
    "s = 'IX'\n",
    "s = 'LVIII'\n",
    "s = 'MCMXCIV'\n",
    "s = 'MCMXCIVR'\n",
    "s = ''\n",
    "Solution().romanToInt(s)"
   ]
  },
  {
   "cell_type": "code",
   "execution_count": 770,
   "metadata": {
    "collapsed": true
   },
   "outputs": [],
   "source": [
    "# 100% beating answer\n",
    "class Solution:\n",
    "    def romanToInt(self, s):\n",
    "        \"\"\"\n",
    "        :type s: str\n",
    "        :rtype: int\n",
    "        \"\"\"\n",
    "        d = {\"I\":1,\n",
    "             \"V\":5,\n",
    "             \"X\":10,\n",
    "             \"L\":50,\n",
    "             \"C\":100,\n",
    "             \"D\":500,\n",
    "             \"M\":1000,\n",
    "        }\n",
    "        last = 0\n",
    "        ans = 0\n",
    "        for char in s[::-1]:\n",
    "            if d[char] < last:\n",
    "                ans -= d[char]\n",
    "            else:\n",
    "                ans += d[char]\n",
    "            last = d[char]\n",
    "        return ans"
   ]
  },
  {
   "cell_type": "code",
   "execution_count": null,
   "metadata": {
    "collapsed": true
   },
   "outputs": [],
   "source": []
  },
  {
   "cell_type": "code",
   "execution_count": null,
   "metadata": {
    "collapsed": true
   },
   "outputs": [],
   "source": []
  },
  {
   "cell_type": "code",
   "execution_count": null,
   "metadata": {
    "collapsed": true
   },
   "outputs": [],
   "source": []
  },
  {
   "cell_type": "markdown",
   "metadata": {},
   "source": [
    "## 14. Longest Common Prefix\n",
    "\n",
    "Write a function to find the longest common prefix string amongst an array of strings.\n",
    "\n",
    "If there is no common prefix, return an empty string <code style=\"background-color: #F8F2F4; color: #B83650;\">\"\"</code>.\n",
    "\n",
    "<p><strong>Example 1:</strong></p>\n",
    "<pre style=\"background-color:#F5F5F5; padding:10px; border:1px solid #CCCCCC; border-radius:5px;\">\n",
    "<strong>Input:</strong> [\"flower\",\"flow\",\"flight\"]\n",
    "<strong>Output:</strong> \"fl\"\n",
    "</pre>\n",
    "\n",
    "<p><strong>Example 2:</strong></p>\n",
    "<pre style=\"background-color:#F5F5F5; padding:10px; border:1px solid #CCCCCC; border-radius:5px;\">\n",
    "<strong>Input:</strong> [\"dog\",\"racecar\",\"car\"]\n",
    "<strong>Output:</strong> \"\"\n",
    "<strong>Explanation:</strong> There is no common prefix among the input strings.\n",
    "</pre>\n",
    "\n",
    "<strong>Note:</strong>\n",
    "\n",
    "All given inputs are in lowercase letters <code style=\"background-color: #F8F2F4; color: #B83650;\">&nbsp;a-z&nbsp;</code>."
   ]
  },
  {
   "cell_type": "code",
   "execution_count": 885,
   "metadata": {
    "collapsed": true
   },
   "outputs": [],
   "source": [
    "class Solution:\n",
    "    def longestCommonPrefix(self, strs):\n",
    "        \"\"\"\n",
    "        :type strs: List[str]\n",
    "        :rtype: str\n",
    "        \"\"\"\n",
    "        if not strs:\n",
    "            return ''\n",
    "        \n",
    "        i = 0\n",
    "        while i < min([len(x) for x in strs]):\n",
    "            if len(set(x[i] for x in strs)) == 1:\n",
    "                i += 1\n",
    "            else:\n",
    "                break\n",
    "        return strs[0][:i]"
   ]
  },
  {
   "cell_type": "code",
   "execution_count": 891,
   "metadata": {},
   "outputs": [
    {
     "data": {
      "text/plain": [
       "''"
      ]
     },
     "execution_count": 891,
     "metadata": {},
     "output_type": "execute_result"
    }
   ],
   "source": [
    "strs = [\"flower\",\"flow\",\"flight\"]\n",
    "strs = [\"dog\",\"racecar\",\"car\"]\n",
    "strs = ['c', 'c']\n",
    "strs = ['', 'a']\n",
    "strs = ['']\n",
    "Solution().longestCommonPrefix(strs)"
   ]
  },
  {
   "cell_type": "code",
   "execution_count": 873,
   "metadata": {
    "collapsed": true
   },
   "outputs": [],
   "source": [
    "# 100% beating answer\n",
    "class Solution:\n",
    "    def longestCommonPrefix(self, strs):\n",
    "        \"\"\"\n",
    "        :type strs: List[str]\n",
    "        :rtype: str\n",
    "        [\"flower\",\"flow\",\"flight\"] \n",
    "        \"\"\"\n",
    "        if not strs:\n",
    "            return \"\"\n",
    "        for i,ch in enumerate(zip(*strs)):\n",
    "            if len(set(ch)) != 1:\n",
    "                return strs[0][:i]\n",
    "        else:\n",
    "            return min(strs,key = len)"
   ]
  },
  {
   "cell_type": "code",
   "execution_count": null,
   "metadata": {
    "collapsed": true
   },
   "outputs": [],
   "source": []
  },
  {
   "cell_type": "code",
   "execution_count": null,
   "metadata": {
    "collapsed": true
   },
   "outputs": [],
   "source": []
  },
  {
   "cell_type": "code",
   "execution_count": null,
   "metadata": {
    "collapsed": true
   },
   "outputs": [],
   "source": []
  },
  {
   "cell_type": "markdown",
   "metadata": {
    "collapsed": true
   },
   "source": [
    "## 15. 3Sum\n",
    "\n",
    "Given an array <code style=\"background-color: #F8F2F4; color: #B83650\">&nbsp;nums&nbsp;</code> of n integers, are there elements a, b, c in <code style=\"background-color: #F8F2F4; color: #B83650\">&nbsp;nums&nbsp;</code> such that a + b + c = 0? Find all unique triplets in the array which gives the sum of zero.\n",
    "\n",
    "<strong>Note:</strong>\n",
    "The solution set must not contain duplicate triplets.\n",
    "\n",
    "<p><strong>Example:</strong></p>\n",
    "<pre style=\"background-color:#F5F5F5; padding:10px; border:1px solid #CCCCCC; border-radius:5px;\">\n",
    "Given array nums = [-1, 0, 1, 2, -1, -4],\n",
    "\n",
    "A solution set is:\n",
    "[\n",
    "  [-1, 0, 1],\n",
    "  [-1, -1, 2]\n",
    "]\n",
    "</pre>"
   ]
  },
  {
   "cell_type": "code",
   "execution_count": 90,
   "metadata": {
    "collapsed": true
   },
   "outputs": [],
   "source": [
    "class Solution:\n",
    "    def threeSum(self, nums):\n",
    "        \"\"\"\n",
    "        :type nums: List[int]\n",
    "        :rtype: List[List[int]]\n",
    "        \"\"\"\n",
    "        if len(nums) < 3:\n",
    "            return []\n",
    "        \n",
    "        nums.sort()\n",
    "        result = []\n",
    "        for i in range(len(nums)-2):\n",
    "            if i > 0 and nums[i] == nums[i-1]:\n",
    "                continue\n",
    "            l, r = i+1, len(nums)-1\n",
    "            while l < r:\n",
    "                s = nums[i] + nums[l] + nums[r]\n",
    "                if s < 0:\n",
    "                    l += 1\n",
    "                elif s > 0:\n",
    "                    r -= 1\n",
    "                else:\n",
    "                    result.append([nums[i], nums[l], nums[r]])\n",
    "                    while l < r and nums[l] == nums[l+1]:\n",
    "                        l += 1\n",
    "                    while l < r and nums[r] == nums[r-1]:\n",
    "                        r -= 1\n",
    "                    l += 1\n",
    "                    r -= 1\n",
    "        return result"
   ]
  },
  {
   "cell_type": "code",
   "execution_count": 91,
   "metadata": {},
   "outputs": [
    {
     "data": {
      "text/plain": [
       "[[-1, -1, 2], [-1, 0, 1], [0, 0, 0]]"
      ]
     },
     "execution_count": 91,
     "metadata": {},
     "output_type": "execute_result"
    }
   ],
   "source": [
    "nums = [-1, 0, 1, 2, -1, -4]\n",
    "nums = [1, -1, -1, 0]\n",
    "nums = [0,0,0,2,1,-1,-1]\n",
    "Solution().threeSum(nums)"
   ]
  },
  {
   "cell_type": "code",
   "execution_count": 70,
   "metadata": {
    "collapsed": true
   },
   "outputs": [],
   "source": [
    "class Solution:\n",
    "    def threeSum(self, nums):\n",
    "        \"\"\"\n",
    "        :type nums: List[int]\n",
    "        :rtype: List[List[int]]\n",
    "        \"\"\"\n",
    "        if len(nums) < 3:\n",
    "            return\n",
    "        \n",
    "        result = []\n",
    "        seen = {}\n",
    "        for x in nums:\n",
    "            seen[x] = seen.get(x, 0) + 1\n",
    "\n",
    "        if 0 in seen and seen[0] >= 3:\n",
    "            result.append([0, 0, 0])\n",
    "            \n",
    "        pos = [x for x in seen if x > 0]\n",
    "        neg = [x for x in seen if x < 0]\n",
    "        \n",
    "        for p in pos:\n",
    "            for n in neg:\n",
    "                t = 0 - p - n\n",
    "                if t in seen:\n",
    "                    if t == 0 and seen[0] >= 1:\n",
    "                        result.append([0, p, n])\n",
    "                    elif t < n or t > p:\n",
    "                        result.append([t, p, n])\n",
    "                    elif t == p and seen[p] >= 2:\n",
    "                        result.append([t, p, n])\n",
    "                    elif t == n and seen[n] >= 2:\n",
    "                        result.append([t, p, n])\n",
    "        return result"
   ]
  },
  {
   "cell_type": "code",
   "execution_count": 71,
   "metadata": {},
   "outputs": [
    {
     "data": {
      "text/plain": [
       "[[1, 1, -2]]"
      ]
     },
     "execution_count": 71,
     "metadata": {},
     "output_type": "execute_result"
    }
   ],
   "source": [
    "nums = [-1, 0, 1, 2, -1, -4]\n",
    "nums = [1, -1, -1, 0]\n",
    "nums = [0,0,0,2,1,-1,-1]\n",
    "nums = [1,1,-2]\n",
    "Solution().threeSum(nums)"
   ]
  },
  {
   "cell_type": "code",
   "execution_count": null,
   "metadata": {
    "collapsed": true
   },
   "outputs": [],
   "source": [
    "# 100% beating answer\n",
    "class Solution:\n",
    "    def threeSum(self, nums):\n",
    "        \"\"\"\n",
    "        :type nums: List[int]\n",
    "        :rtype: List[List[int]]\n",
    "        \"\"\"\n",
    "        from bisect import bisect_left, bisect_right\n",
    "        m = {}\n",
    "        result = []\n",
    "        positive_keys = []\n",
    "        negative_keys = []\n",
    "        for n in nums:\n",
    "            if n in m:\n",
    "                m[n] += 1\n",
    "            else:\n",
    "                m[n] = 1\n",
    "\n",
    "        if 0 in m and m[0] >= 3:\n",
    "            result.append([0, 0, 0])\n",
    "\n",
    "        keys = list(m.keys())\n",
    "        keys.sort()\n",
    "        print(keys)\n",
    "        keys_num = len(keys)\n",
    "\n",
    "        if keys_num == 0:\n",
    "            return []\n",
    "\n",
    "        # a<b<c。a一定小于0，c一定大于0\n",
    "        end = bisect_left(keys, 0)  # a < 0\n",
    "        begin = bisect_left(keys, -keys[-1] * 2)  # when \n",
    "        # b == c, a + b + c = a + 2c <= a + 2*max_c;\n",
    "        # print('a in [{}:{}]'.format(begin, end))\n",
    "        for i in range(begin, end):\n",
    "            a = keys[i]\n",
    "\n",
    "            # b == c\n",
    "            if a != 0 and m[a] >= 2 and -2 * a in m:\n",
    "                result.append([a, a, -2 * a])\n",
    "\n",
    "            # b的取值范围\n",
    "            # -a - b = c <= keys[-1] >>>> b >= -keys[-1] - a\n",
    "            min_b = -keys[-1] - a\n",
    "            # b<c >>>> a + 2b < a + b + c = 0 >>>> b < -a/2\n",
    "            max_b = -a / 2\n",
    "\n",
    "            b_begin = max(i + 1, bisect_left(keys, min_b)) # b的最小值\n",
    "            b_end = bisect_right(keys, max_b) # b的最大值\n",
    "            # print('a = {}, {} <= b < {}, \n",
    "            # in [{}:{}]'.format(a, min_b, max_b, b_begin, b_end))\n",
    "            for j in range(b_begin, b_end):\n",
    "                b = keys[j]\n",
    "                #print('key[{}] = {}, key[{}] = {}'.format(i, a, j, b))\n",
    "                c = -a - b\n",
    "                if c in m:\n",
    "                    if b > c:\n",
    "                        continue\n",
    "                    if b < c or m[b] >= 2:\n",
    "                        #print('========', [a, b, c])\n",
    "                        result.append([a, b, c])\n",
    "\n",
    "        # Solution.case_length.append(len(nums))\n",
    "        # Solution.case_index +=1\n",
    "        # if Solution.case_index == 1:\n",
    "        # print(Solution.case_length)\n",
    "        # raise Exception(1)\n",
    "        return result"
   ]
  },
  {
   "cell_type": "code",
   "execution_count": null,
   "metadata": {
    "collapsed": true
   },
   "outputs": [],
   "source": []
  },
  {
   "cell_type": "code",
   "execution_count": null,
   "metadata": {
    "collapsed": true
   },
   "outputs": [],
   "source": []
  },
  {
   "cell_type": "code",
   "execution_count": null,
   "metadata": {
    "collapsed": true
   },
   "outputs": [],
   "source": []
  },
  {
   "cell_type": "markdown",
   "metadata": {},
   "source": [
    "## 16. 3Sum Closest\n",
    "\n",
    "Given an array <code style=\"background-color: #F8F2F4; color: #B83650\">&nbsp;nums&nbsp;</code> of n integers and an integer <code style=\"background-color: #F8F2F4; color: #B83650\">&nbsp;target&nbsp;</code>, find three integers in <code style=\"background-color: #F8F2F4; color: #B83650\">&nbsp;nums&nbsp;</code> such that the sum is closest to <code style=\"background-color: #F8F2F4; color: #B83650\">&nbsp;target&nbsp;</code>. Return the sum of the three integers. You may assume that each input would have exactly one solution.\n",
    "\n",
    "<p><strong>Example:</strong></p>\n",
    "<pre style=\"background-color:#F5F5F5; padding:10px; border:1px solid #CCCCCC; border-radius:5px;\">\n",
    "Given array nums = [-1, 2, 1, -4], and target = 1.\n",
    "\n",
    "The sum that is closest to the target is 2. (-1 + 2 + 1 = 2).\n",
    "</pre>"
   ]
  },
  {
   "cell_type": "code",
   "execution_count": 93,
   "metadata": {
    "collapsed": true,
    "scrolled": true
   },
   "outputs": [],
   "source": [
    "class Solution:\n",
    "    def threeSumClosest(self, nums, target):\n",
    "        \"\"\"\n",
    "        :type nums: List[int]\n",
    "        :type target: int\n",
    "        :rtype: int\n",
    "        \"\"\"\n",
    "        if len(nums) < 3:\n",
    "            return\n",
    "        \n",
    "        if len(nums) == 3:\n",
    "            return sum(nums)\n",
    "        \n",
    "        nums.sort()\n",
    "        s = nums[0] + nums[1] + nums[2]\n",
    "        if s >= target:\n",
    "            return s\n",
    "        s = nums[-1] + nums[-2] + nums[-3]\n",
    "        if s <= target:\n",
    "            return s\n",
    "        \n",
    "        for i in range(len(nums)-2):\n",
    "            if i > 0 and nums[i] == nums[i-1]:\n",
    "                continue\n",
    "            l, r = i+1, len(nums)-1            \n",
    "            while l < r:\n",
    "                s = nums[i] + nums[l] + nums[r]\n",
    "                if s == target:\n",
    "                    return s\n",
    "                if abs(s-target) < abs(result-target):\n",
    "                    result = s\n",
    "                if s < target:\n",
    "                    l += 1\n",
    "                else:\n",
    "                    r -= 1\n",
    "        return result"
   ]
  },
  {
   "cell_type": "code",
   "execution_count": 94,
   "metadata": {},
   "outputs": [
    {
     "data": {
      "text/plain": [
       "-1"
      ]
     },
     "execution_count": 94,
     "metadata": {},
     "output_type": "execute_result"
    }
   ],
   "source": [
    "nums = [-1, 2, 1, -4]\n",
    "target = 1\n",
    "nums = [-3,-2,-5,3,-4]\n",
    "target = -1\n",
    "nums = [0, 1, 2]\n",
    "target = 0\n",
    "nums = [1,1,1,1]\n",
    "target = -100\n",
    "nums = [1,1,-1,-1,3]\n",
    "target = -1\n",
    "Solution().threeSumClosest(nums, target)"
   ]
  },
  {
   "cell_type": "code",
   "execution_count": 105,
   "metadata": {
    "collapsed": true
   },
   "outputs": [],
   "source": [
    "class Solution:\n",
    "    def threeSumClosest(self, nums, target):\n",
    "        \"\"\"\n",
    "        :type nums: List[int]\n",
    "        :type target: int\n",
    "        :rtype: int\n",
    "        \"\"\"\n",
    "        if len(nums) < 3:\n",
    "            return\n",
    "        if len(nums) == 3:\n",
    "            return sum(nums)\n",
    "        \n",
    "        nums.sort()\n",
    "        s = nums[0] + nums[1] + nums[2]\n",
    "        if s >= target:\n",
    "            return s\n",
    "        s = nums[-1] + nums[-2] + nums[-3]\n",
    "        if s <= target:\n",
    "            return s\n",
    "        \n",
    "        result = []\n",
    "        for i in range(len(nums)-2):\n",
    "            if i > 0 and nums[i] == nums[i-1]:\n",
    "                continue\n",
    "            \n",
    "            l, r = i+1, len(nums)-1\n",
    "            \n",
    "            s = nums[i] + nums[r-1] + nums[r]\n",
    "            if s == target:\n",
    "                return s\n",
    "            elif s < target:\n",
    "                result += s,\n",
    "                continue\n",
    "            s = nums[i] + nums[l] + nums[l+1]\n",
    "            if s == target:\n",
    "                return s\n",
    "            elif s > target:\n",
    "                result += s,\n",
    "                break\n",
    "                \n",
    "            while l < r:\n",
    "                s = nums[i] + nums[l] + nums[r]\n",
    "                if s == target:\n",
    "                    return s\n",
    "                result += s,\n",
    "                if s < target:\n",
    "                    l += 1\n",
    "                elif s > target:\n",
    "                    r -= 1\n",
    "        result.sort(key=lambda x: abs(x-target))\n",
    "        return result[0]"
   ]
  },
  {
   "cell_type": "code",
   "execution_count": 106,
   "metadata": {},
   "outputs": [
    {
     "data": {
      "text/plain": [
       "-1"
      ]
     },
     "execution_count": 106,
     "metadata": {},
     "output_type": "execute_result"
    }
   ],
   "source": [
    "nums = [-1, 2, 1, -4]\n",
    "target = 1\n",
    "nums = [-3,-2,-5,3,-4]\n",
    "target = -1\n",
    "nums = [0, 1, 2]\n",
    "target = 0\n",
    "nums = [1,1,1,1]\n",
    "target = -100\n",
    "nums = [1,1,-1,-1,3]\n",
    "target = -1\n",
    "Solution().threeSumClosest(nums, target)"
   ]
  },
  {
   "cell_type": "code",
   "execution_count": null,
   "metadata": {
    "collapsed": true
   },
   "outputs": [],
   "source": [
    "# 100% beating answer\n",
    "class Solution:\n",
    "    def threeSumClosest(self, nums, target):\n",
    "        \"\"\"\n",
    "        :type nums: List[int]\n",
    "        :type target: int\n",
    "        :rtype: int\n",
    "        \"\"\"\n",
    "        if len(nums) == 3:\n",
    "            return sum(nums)\n",
    "        \n",
    "        nums = sorted(nums)\n",
    "        \n",
    "        if nums[0] + nums[1] + nums[2] > target:\n",
    "            return nums[0] + nums[1] + nums[2]\n",
    "        if nums[-1] + nums[-2] + nums[-3] < target:\n",
    "            return nums[-1] + nums[-2] + nums[-3]\n",
    "        \n",
    "        best = float('inf')\n",
    "        max_index = len(nums) - 2\n",
    "        result = []\n",
    "        \n",
    "        for i in range(len(nums) - 2):\n",
    "            s, e = i + 1, len(nums) - 1\n",
    "            if nums[i] + nums[e] + nums[e-1] < target:\n",
    "                result.append(nums[i] + nums[e] + nums[e-1])\n",
    "                continue\n",
    "            if nums[i] + nums[s] + nums[s+1] > target:\n",
    "                result.append(nums[i] + nums[s] + nums[s+1])\n",
    "            else:\n",
    "                while s < e and s <= max_index:\n",
    "                    r = nums[i] + nums[s] + nums[e]\n",
    "                    result.append(r)\n",
    "\n",
    "                    if r > target:\n",
    "                        e -= 1\n",
    "                    elif r < target:\n",
    "                        s += 1\n",
    "                    else:\n",
    "                        return target\n",
    "                \n",
    "            max_index = s\n",
    "            \n",
    "        result = sorted(result, key=lambda x: abs(x - target))\n",
    "                    \n",
    "        return result[0]"
   ]
  },
  {
   "cell_type": "code",
   "execution_count": null,
   "metadata": {
    "collapsed": true
   },
   "outputs": [],
   "source": []
  },
  {
   "cell_type": "code",
   "execution_count": null,
   "metadata": {
    "collapsed": true
   },
   "outputs": [],
   "source": []
  },
  {
   "cell_type": "code",
   "execution_count": null,
   "metadata": {
    "collapsed": true
   },
   "outputs": [],
   "source": []
  },
  {
   "cell_type": "markdown",
   "metadata": {
    "collapsed": true
   },
   "source": [
    "## 17. Letter Combinations of a Phone Number\n",
    "\n",
    "Given a string containing digits from <code style=\"background-color: #F8F2F4; color: #B83650\">&nbsp;2-9&nbsp;</code> inclusive, return all possible letter combinations that the number could represent.\n",
    "\n",
    "A mapping of digit to letters (just like on the telephone buttons) is given below. Note that 1 does not map to any letters.\n",
    "\n",
    "<img src=\"http://upload.wikimedia.org/wikipedia/commons/thumb/7/73/Telephone-keypad2.svg/200px-Telephone-keypad2.svg.png\" />\n",
    "\n",
    "<p><strong>Example:</strong></p>\n",
    "<pre style=\"background-color:#F5F5F5; padding:10px; border:1px solid #CCCCCC; border-radius:5px;\">\n",
    "<strong>Input:</strong> \"23\"\n",
    "<strong>Output:</strong> [\"ad\", \"ae\", \"af\", \"bd\", \"be\", \"bf\", \"cd\", \"ce\", \"cf\"].\n",
    "</pre>\n",
    "\n",
    "<p><strong>Note:</strong></p>\n",
    "Although the above answer is in lexicographical order, your answer could be in any order you want."
   ]
  },
  {
   "cell_type": "code",
   "execution_count": 38,
   "metadata": {},
   "outputs": [
    {
     "data": {
      "text/plain": [
       "{'2': 'abc',\n",
       " '3': 'def',\n",
       " '4': 'ghi',\n",
       " '5': 'jkl',\n",
       " '6': 'mno',\n",
       " '7': 'pqrs',\n",
       " '8': 'tuv',\n",
       " '9': 'wxyz'}"
      ]
     },
     "execution_count": 38,
     "metadata": {},
     "output_type": "execute_result"
    }
   ],
   "source": [
    "nums = [str(x) for x in range(2, 10)]\n",
    "keypad = ['abc','def','ghi','jkl','mno','pqrs','tuv','wxyz']\n",
    "dic = dict([(n,l) for n,l in zip(nums, letters)])\n",
    "dic"
   ]
  },
  {
   "cell_type": "code",
   "execution_count": 39,
   "metadata": {
    "collapsed": true
   },
   "outputs": [],
   "source": [
    "class Solution:\n",
    "    def letterCombinations(self, digits):\n",
    "        \"\"\"\n",
    "        :type digits: str\n",
    "        :rtype: List[str]\n",
    "        \"\"\"\n",
    "        if not digits:\n",
    "            return []\n",
    "        \n",
    "        nums = [str(x) for x in range(2, 10)]\n",
    "        keypad = ['abc','def','ghi','jkl','mno','pqrs','tuv','wxyz']\n",
    "        dic = dict([(n,l) for n,l in zip(nums, letters)])\n",
    "        \n",
    "        result = ['']\n",
    "        for d in digits:\n",
    "            tmp = []\n",
    "            for a in dic[d]:\n",
    "                for x in result:\n",
    "                    tmp += (x+a),\n",
    "            result = tmp\n",
    "        return result"
   ]
  },
  {
   "cell_type": "code",
   "execution_count": 40,
   "metadata": {},
   "outputs": [
    {
     "data": {
      "text/plain": [
       "['ad', 'bd', 'cd', 'ae', 'be', 'ce', 'af', 'bf', 'cf']"
      ]
     },
     "execution_count": 40,
     "metadata": {},
     "output_type": "execute_result"
    }
   ],
   "source": [
    "digits = '23'\n",
    "Solution().letterCombinations(digits)"
   ]
  },
  {
   "cell_type": "code",
   "execution_count": 63,
   "metadata": {
    "collapsed": true
   },
   "outputs": [],
   "source": [
    "class Solution:\n",
    "    def letterCombinations(self, digits):\n",
    "        \"\"\"\n",
    "        :type digits: str\n",
    "        :rtype: List[str]\n",
    "        \"\"\"\n",
    "        keypad = ['abc','def','ghi','jkl','mno','pqrs','tuv','wxyz']\n",
    "        \n",
    "        result = []\n",
    "        for d in digits:\n",
    "            result = [x+a for x in result or [''] for a in keypad[int(d)-2]]\n",
    "        return result"
   ]
  },
  {
   "cell_type": "code",
   "execution_count": 65,
   "metadata": {},
   "outputs": [
    {
     "data": {
      "text/plain": [
       "[]"
      ]
     },
     "execution_count": 65,
     "metadata": {},
     "output_type": "execute_result"
    }
   ],
   "source": [
    "digits = '23'\n",
    "digits = ''\n",
    "Solution().letterCombinations(digits)"
   ]
  },
  {
   "cell_type": "code",
   "execution_count": 217,
   "metadata": {
    "collapsed": true
   },
   "outputs": [],
   "source": [
    "class Solution:\n",
    "    def letterCombinations(self, digits):\n",
    "        \"\"\"\n",
    "        :type digits: str\n",
    "        :rtype: List[str]\n",
    "        \"\"\"\n",
    "        keypad = ['abc','def','ghi','jkl','mno','pqrs','tuv','wxyz']\n",
    "        \n",
    "        result = []\n",
    "        self._traversal(digits, keypad, 0, '', result)\n",
    "        return result\n",
    "        \n",
    "    def _traversal(self, digits, keypad, i, x, result):\n",
    "        if i == len(digits):\n",
    "            result.append(x)\n",
    "            return\n",
    "        \n",
    "        for a in keypad[int(digits[i])-2]:\n",
    "            self._traversal(digits, keypad, i+1, x+a, result)"
   ]
  },
  {
   "cell_type": "code",
   "execution_count": 218,
   "metadata": {},
   "outputs": [
    {
     "data": {
      "text/plain": [
       "['ad', 'ae', 'af', 'bd', 'be', 'bf', 'cd', 'ce', 'cf']"
      ]
     },
     "execution_count": 218,
     "metadata": {},
     "output_type": "execute_result"
    }
   ],
   "source": [
    "digits = '23'\n",
    "# digits = ''\n",
    "Solution().letterCombinations(digits)"
   ]
  },
  {
   "cell_type": "code",
   "execution_count": null,
   "metadata": {
    "collapsed": true
   },
   "outputs": [],
   "source": [
    "# 100% beating answer\n",
    "class Solution(object):\n",
    "    def letterCombinations(self, digits):\n",
    "        \"\"\"\n",
    "        :type digits: str\n",
    "        :rtype: List[str]\n",
    "        \"\"\"\n",
    "        interpret_digit = {\n",
    "            '2': 'abc',\n",
    "            '3': 'def',\n",
    "            '4': 'ghi',\n",
    "            '5': 'jkl',\n",
    "            '6': 'mno',\n",
    "            '7': 'pqrs',\n",
    "            '8': 'tuv',\n",
    "            '9': 'wxyz'}\n",
    "        all_combinations = [''] if digits else []\n",
    "        for digit in digits:\n",
    "            current_combinations = list()\n",
    "            for letter in interpret_digit[digit]:\n",
    "                for combination in all_combinations:\n",
    "                    current_combinations.append(combination + letter)\n",
    "            all_combinations = current_combinations\n",
    "        return all_combinations"
   ]
  },
  {
   "cell_type": "code",
   "execution_count": null,
   "metadata": {
    "collapsed": true
   },
   "outputs": [],
   "source": []
  },
  {
   "cell_type": "code",
   "execution_count": null,
   "metadata": {
    "collapsed": true
   },
   "outputs": [],
   "source": []
  },
  {
   "cell_type": "code",
   "execution_count": null,
   "metadata": {
    "collapsed": true
   },
   "outputs": [],
   "source": []
  },
  {
   "cell_type": "markdown",
   "metadata": {},
   "source": [
    "## 18. 4Sum\n",
    "\n",
    "Given an array <code style=\"background-color: #F8F2F4; color: #B83650;\">&nbsp;nums&nbsp;</code> of n integers and an integer <code style=\"background-color: #F8F2F4; color: #B83650\">&nbsp;target&nbsp;</code>, are there elements a, b, c, and d in <code style=\"background-color: #F8F2F4; color: #B83650\">&nbsp;nums&nbsp;</code> such that a + b + c + d = target? Find all unique quadruplets in the array which gives the sum of <code style=\"background-color: #F8F2F4; color: #B83650\">&nbsp;target&nbsp;</code>.\n",
    "\n",
    "<strong>Note:</strong>\n",
    "\n",
    "The solution set must not contain duplicate quadruplets.\n",
    "\n",
    "<p><strong>Example:</strong></p>\n",
    "<pre style=\"background-color:#F5F5F5; padding:10px; border:1px solid #CCCCCC; border-radius:5px;\">\n",
    "Given array nums = [1, 0, -1, 0, -2, 2], and target = 0.\n",
    "\n",
    "A solution set is:\n",
    "[\n",
    "  [-1,  0, 0, 1],\n",
    "  [-2, -1, 1, 2],\n",
    "  [-2,  0, 0, 2]\n",
    "]\n",
    "</pre>"
   ]
  },
  {
   "cell_type": "code",
   "execution_count": 30,
   "metadata": {
    "collapsed": true
   },
   "outputs": [],
   "source": [
    "class Solution:\n",
    "    def fourSum(self, nums, target):\n",
    "        \"\"\"\n",
    "        :type nums: List[int]\n",
    "        :type target: int\n",
    "        :rtype: List[List[int]]\n",
    "        \"\"\"\n",
    "        if len(nums) < 4:\n",
    "            return []\n",
    "        if len(nums) == 4:\n",
    "            if sum(nums) == target:\n",
    "                return [nums]\n",
    "            else:\n",
    "                return []\n",
    "            \n",
    "        nums.sort()\n",
    "        result = []\n",
    "        for i in range(len(nums)-3):\n",
    "            if i > 0 and nums[i] == nums[i-1]:\n",
    "                continue\n",
    "            if nums[i]*4 > target:\n",
    "                break\n",
    "                \n",
    "            for j in range(len(nums)-1, i+2, -1):\n",
    "                if j < len(nums)-1 and nums[j] == nums[j+1]:\n",
    "                    continue\n",
    "                if nums[j]*4 < target:\n",
    "                    break\n",
    "                    \n",
    "                l, r = i+1, j-1\n",
    "                t = target - (nums[i] + nums[j])\n",
    "                while l < r:\n",
    "                    s = nums[l] + nums[r]\n",
    "                    if s < t:\n",
    "                        l += 1\n",
    "                    elif s > t:\n",
    "                        r -= 1\n",
    "                    else:\n",
    "                        x = [nums[i], nums[l], nums[r], nums[j]]\n",
    "                        result.append(x)\n",
    "                        while l < r and nums[l] == nums[l+1]:\n",
    "                            l += 1\n",
    "                        while l < r and nums[r] == nums[r-1]:\n",
    "                            r -= 1\n",
    "                        l += 1\n",
    "                        r -= 1\n",
    "        return result"
   ]
  },
  {
   "cell_type": "code",
   "execution_count": 33,
   "metadata": {},
   "outputs": [
    {
     "data": {
      "text/plain": [
       "[]"
      ]
     },
     "execution_count": 33,
     "metadata": {},
     "output_type": "execute_result"
    }
   ],
   "source": [
    "nums = [1, 0, -1, 0, -2, 2]\n",
    "target = 0\n",
    "nums = []\n",
    "target = 0\n",
    "Solution().fourSum(nums, target)"
   ]
  },
  {
   "cell_type": "code",
   "execution_count": null,
   "metadata": {
    "collapsed": true
   },
   "outputs": [],
   "source": [
    "# 100% beating answer\n",
    "class Solution:\n",
    "    def fourSum(self, nums, target):\n",
    "        \"\"\"\n",
    "        :type nums: List[int]\n",
    "        :type target: int\n",
    "        :rtype: List[List[int]]\n",
    "        \"\"\"\n",
    "        ans = []\n",
    "        size = len(nums)\n",
    "        \n",
    "        if size < 4:\n",
    "            return []\n",
    "        if size == 4:\n",
    "            if sum(nums) == target:\n",
    "                return [nums]\n",
    "            else:\n",
    "                return []\n",
    "\n",
    "        nums.sort()\n",
    "\n",
    "        self.findComb(nums, size, target, ans, 0, 4, [])\n",
    "        return ans\n",
    "\n",
    "    def findComb(self, nums, size, target, ans, start, ansSize, tempAns):\n",
    "        ''' recursively finding the combination. ansSize is the number of elements in the subarray'''\n",
    "        if sum(nums[start:start+ansSize]) > target:\n",
    "            return\n",
    "        if sum(nums[-ansSize:]) < target:\n",
    "            return\n",
    "        if ansSize == 2:\n",
    "            i = start\n",
    "            j = size - 1\n",
    "            while(i < j):\n",
    "                sigma = nums[i] + nums[j]\n",
    "                if sigma > target:\n",
    "                    j -= 1\n",
    "                elif sigma < target:\n",
    "                    i += 1\n",
    "                else:\n",
    "                    ans.append(tempAns + [nums[i], nums[j]])\n",
    "                    j -= 1\n",
    "                    while(i < j and nums[j] == nums[j + 1]): # skip repeats\n",
    "                        j -= 1\n",
    "                    i += 1\n",
    "                    while(i < j and nums[i] == nums[i - 1]): # skip repeats\n",
    "                        i += 1\n",
    "        else:\n",
    "            for i in range(start, size - ansSize + 1):\n",
    "                if i > start and nums[i] == nums[i - 1]: # skip repeats\n",
    "                    continue\n",
    "                self.findComb(nums, size, target - nums[i], ans, i + 1, ansSize - 1, tempAns + [nums[i]])"
   ]
  },
  {
   "cell_type": "code",
   "execution_count": null,
   "metadata": {
    "collapsed": true
   },
   "outputs": [],
   "source": []
  },
  {
   "cell_type": "code",
   "execution_count": null,
   "metadata": {
    "collapsed": true
   },
   "outputs": [],
   "source": []
  },
  {
   "cell_type": "code",
   "execution_count": null,
   "metadata": {
    "collapsed": true
   },
   "outputs": [],
   "source": []
  },
  {
   "cell_type": "markdown",
   "metadata": {},
   "source": [
    "## 19. Remove Nth Node From End of List\n",
    "\n",
    "Given a linked list, remove the n-th node from the end of list and return its head.\n",
    "\n",
    "<p><strong>Example:</strong></p>\n",
    "<pre style=\"background-color:#F5F5F5; padding:10px; border:1px solid #CCCCCC; border-radius:5px;\">\n",
    "Given linked list: <strong>1->2->3->4->5</strong>, and <strong><i>n = 2</i></strong>.\n",
    "\n",
    "After removing the second node from the end, the linked list becomes <strong>1->2->3->5</strong>.\n",
    "</pre>\n",
    "\n",
    "<strong>Note:</strong>\n",
    "\n",
    "Given <i>n</i> will always be valid.\n",
    "\n",
    "<strong>Follow up:</strong>\n",
    "\n",
    "Could you do this in one pass?"
   ]
  },
  {
   "cell_type": "code",
   "execution_count": 72,
   "metadata": {
    "collapsed": true
   },
   "outputs": [],
   "source": [
    "class ListNode:\n",
    "    def __init__(self, v):\n",
    "        self.val = v\n",
    "        self.next = None\n",
    "        \n",
    "class Solution:\n",
    "    def removeNthFromEnd(self, head, n):\n",
    "        \"\"\"\n",
    "        :type head: ListNode\n",
    "        :type n: int\n",
    "        :rtype: ListNode\n",
    "        \"\"\"\n",
    "        front = end = head\n",
    "        for _ in range(n):\n",
    "            end = end.next\n",
    "        if not end:\n",
    "            return head.next\n",
    "        while end.next:\n",
    "            front = front.next\n",
    "            end = end.next\n",
    "        front.next = front.next.next\n",
    "        return head"
   ]
  },
  {
   "cell_type": "code",
   "execution_count": 74,
   "metadata": {},
   "outputs": [
    {
     "data": {
      "text/plain": [
       "'1, 2, 3, 5'"
      ]
     },
     "execution_count": 74,
     "metadata": {},
     "output_type": "execute_result"
    }
   ],
   "source": [
    "def string2ListNode(inputt):\n",
    "    if not inputt:\n",
    "        return\n",
    "    \n",
    "    nums = [int(x.strip()) for x in inputt.split(',')]\n",
    "    root = head = ListNode(0)\n",
    "    for x in nums:\n",
    "        head.next = ListNode(x)\n",
    "        head = head.next\n",
    "    return root.next\n",
    "\n",
    "def listNode2String(node):\n",
    "    if not node:\n",
    "        return ''\n",
    "    \n",
    "    result = ''\n",
    "    while node:\n",
    "        result += (str(node.val) + ', ')\n",
    "        node = node.next\n",
    "    return result.strip(', ')\n",
    "\n",
    "head = string2ListNode('1,2,3,4,5')\n",
    "n = 2\n",
    "res = Solution().removeNthFromEnd(head, n)\n",
    "listNode2String(res)"
   ]
  },
  {
   "cell_type": "code",
   "execution_count": 80,
   "metadata": {
    "collapsed": true
   },
   "outputs": [],
   "source": [
    "class ListNode:\n",
    "    def __init__(self, v):\n",
    "        self.val = v\n",
    "        self.next = None\n",
    "        \n",
    "class Solution:\n",
    "    def removeNthFromEnd(self, head, n):\n",
    "        \"\"\"\n",
    "        :type head: ListNode\n",
    "        :type n: int\n",
    "        :rtype: ListNode\n",
    "        \"\"\"\n",
    "        return self._traversal(head, n)[1]\n",
    "    \n",
    "    def _traversal(self, head, n):\n",
    "        if not head:\n",
    "            return 0, head\n",
    "        \n",
    "        i, head.next = self._traversal(head.next, n)\n",
    "        return i+1, (head, head.next)[i+1 == n]"
   ]
  },
  {
   "cell_type": "code",
   "execution_count": 81,
   "metadata": {},
   "outputs": [
    {
     "data": {
      "text/plain": [
       "''"
      ]
     },
     "execution_count": 81,
     "metadata": {},
     "output_type": "execute_result"
    }
   ],
   "source": [
    "def string2ListNode(inputt):\n",
    "    if not inputt:\n",
    "        return\n",
    "    \n",
    "    nums = [int(x.strip()) for x in inputt.split(',')]\n",
    "    root = head = ListNode(0)\n",
    "    for x in nums:\n",
    "        head.next = ListNode(x)\n",
    "        head = head.next\n",
    "    return root.next\n",
    "\n",
    "def listNode2String(node):\n",
    "    if not node:\n",
    "        return ''\n",
    "    \n",
    "    result = ''\n",
    "    while node:\n",
    "        result += (str(node.val) + ', ')\n",
    "        node = node.next\n",
    "    return result.strip(', ')\n",
    "\n",
    "head = string2ListNode('1,2,3,4,5')\n",
    "n = 2\n",
    "head = string2ListNode('')\n",
    "n = 1\n",
    "res = Solution().removeNthFromEnd(head, n)\n",
    "listNode2String(res)"
   ]
  },
  {
   "cell_type": "code",
   "execution_count": null,
   "metadata": {
    "collapsed": true
   },
   "outputs": [],
   "source": [
    "# 100% beating answer\n",
    "# Definition for singly-linked list.\n",
    "class ListNode:\n",
    "    def __init__(self, x):\n",
    "        self.val = x\n",
    "        self.next = None\n",
    "\n",
    "class Solution:\n",
    "    def removeNthFromEnd(self, head, n):\n",
    "        \"\"\"\n",
    "        :type head: ListNode\n",
    "        :type n: int\n",
    "        :rtype: ListNode\n",
    "        \"\"\"\n",
    "        head0 = ListNode(0)\n",
    "        head0.next = head\n",
    "        \n",
    "        runner = head0\n",
    "        walker = head0\n",
    "        \n",
    "        for i in range(n):\n",
    "            runner = runner.next\n",
    "            \n",
    "        while runner.next:\n",
    "            walker = walker.next\n",
    "            runner = runner.next\n",
    "        \n",
    "        node = walker.next\n",
    "        walker.next = node.next\n",
    "        node.next = None\n",
    "        return head0.next"
   ]
  },
  {
   "cell_type": "code",
   "execution_count": null,
   "metadata": {
    "collapsed": true
   },
   "outputs": [],
   "source": []
  },
  {
   "cell_type": "code",
   "execution_count": null,
   "metadata": {
    "collapsed": true
   },
   "outputs": [],
   "source": []
  },
  {
   "cell_type": "code",
   "execution_count": null,
   "metadata": {
    "collapsed": true
   },
   "outputs": [],
   "source": []
  },
  {
   "cell_type": "markdown",
   "metadata": {},
   "source": [
    "## 20. Valid Parentheses\n",
    "\n",
    "Given a string containing just the characters <code style=\"background-color: #F8F2F4; color: #B83650\">&nbsp;'('&nbsp;</code>, <code style=\"background-color: #F8F2F4; color: #B83650\">&nbsp;')'&nbsp;</code>, <code style=\"background-color: #F8F2F4; color: #B83650\">&nbsp;'{'&nbsp;</code>, <code style=\"background-color: #F8F2F4; color: #B83650\">&nbsp;'}'&nbsp;</code>, <code style=\"background-color: #F8F2F4; color: #B83650\">&nbsp;'['&nbsp;</code> and <code style=\"background-color: #F8F2F4; color: #B83650\">&nbsp;']'&nbsp;</code>, determine if the input string is valid.\n",
    "\n",
    "An input string is valid if:\n",
    "\n",
    "\n",
    "<ol>\n",
    "<li>Open brackets must be closed by the same type of brackets.</li>\n",
    "<li>Open brackets must be closed in the correct order.</li>\n",
    "</ol>\n",
    "\n",
    "Note that an empty string is also considered valid.\n",
    "\n",
    "<p><strong>Example 1:</strong></p>\n",
    "<pre style=\"background-color:#F5F5F5; padding:10px; border:1px solid #CCCCCC; border-radius:5px;\">\n",
    "<strong>Input:</strong> \"()\"\n",
    "<strong>Output:</strong> true\n",
    "</pre>\n",
    "\n",
    "<p><strong>Example 2:</strong></p>\n",
    "<pre style=\"background-color:#F5F5F5; padding:10px; border:1px solid #CCCCCC; border-radius:5px;\">\n",
    "<strong>Input:</strong> \"()[]{}\"\n",
    "<strong>Output:</strong> true\n",
    "</pre>\n",
    "\n",
    "<p><strong>Example 3:</strong></p>\n",
    "<pre style=\"background-color:#F5F5F5; padding:10px; border:1px solid #CCCCCC; border-radius:5px;\">\n",
    "<strong>Input:</strong> \"(]\"\n",
    "<strong>Output:</strong> false\n",
    "</pre>\n",
    "\n",
    "<p><strong>Example 4:</strong></p>\n",
    "<pre style=\"background-color:#F5F5F5; padding:10px; border:1px solid #CCCCCC; border-radius:5px;\">\n",
    "<strong>Input:</strong> \"([)]\"\n",
    "<strong>Output:</strong> false\n",
    "</pre>\n",
    "\n",
    "<p><strong>Example 5:</strong></p>\n",
    "<pre style=\"background-color:#F5F5F5; padding:10px; border:1px solid #CCCCCC; border-radius:5px;\">\n",
    "<strong>Input:</strong> \"{[]}\"\n",
    "<strong>Output:</strong> true\n",
    "</pre>"
   ]
  },
  {
   "cell_type": "code",
   "execution_count": 15,
   "metadata": {
    "collapsed": true
   },
   "outputs": [],
   "source": [
    "class Solution:\n",
    "    def isValid(self, s):\n",
    "        \"\"\"\n",
    "        :type s: str\n",
    "        :rtype: bool\n",
    "        \"\"\"\n",
    "        if not s:\n",
    "            return True\n",
    "        \n",
    "        d = {'(':')', '[':']', '{':'}'}\n",
    "        seen = []\n",
    "        for x in s:\n",
    "            if x in d:\n",
    "                seen += d[x],\n",
    "            else:\n",
    "                if not seen:\n",
    "                    return False\n",
    "                if x == seen[-1]:\n",
    "                    seen.pop()\n",
    "                else:\n",
    "                    return False\n",
    "        return not seen"
   ]
  },
  {
   "cell_type": "code",
   "execution_count": 16,
   "metadata": {},
   "outputs": [
    {
     "data": {
      "text/plain": [
       "False"
      ]
     },
     "execution_count": 16,
     "metadata": {},
     "output_type": "execute_result"
    }
   ],
   "source": [
    "s = '()'\n",
    "s = '()[]{}'\n",
    "s = '(]'\n",
    "s = '([)]'\n",
    "s = '{[]}'\n",
    "s = ')'\n",
    "Solution().isValid(s)"
   ]
  },
  {
   "cell_type": "code",
   "execution_count": 92,
   "metadata": {
    "collapsed": true
   },
   "outputs": [],
   "source": [
    "class Solution:\n",
    "    def isValid(self, s):\n",
    "        \"\"\"\n",
    "        :type s: str\n",
    "        :rtype: bool\n",
    "        \"\"\"\n",
    "        pairs = set([('(',')'), ('[',']'), ('{','}')])\n",
    "        seen = []\n",
    "        for x in s:\n",
    "            if seen and (seen[-1], x) in pairs:\n",
    "                seen.pop()\n",
    "            else:\n",
    "                seen.append(x)\n",
    "            \n",
    "        return True if not seen else False"
   ]
  },
  {
   "cell_type": "code",
   "execution_count": 97,
   "metadata": {},
   "outputs": [
    {
     "data": {
      "text/plain": [
       "True"
      ]
     },
     "execution_count": 97,
     "metadata": {},
     "output_type": "execute_result"
    }
   ],
   "source": [
    "s = '()'\n",
    "s = '()[]{}'\n",
    "s = '(]'\n",
    "s = '([)]'\n",
    "s = '{[]}'\n",
    "Solution().isValid(s)"
   ]
  },
  {
   "cell_type": "code",
   "execution_count": 117,
   "metadata": {
    "collapsed": true
   },
   "outputs": [],
   "source": [
    "class Solution:\n",
    "    def isValid(self, s):\n",
    "        \"\"\"\n",
    "        :type s: str\n",
    "        :rtype: bool\n",
    "        \"\"\"\n",
    "        pairs = dict(zip('([{', ')]}'))\n",
    "        seen = []\n",
    "        for x in s:\n",
    "            if x in pairs:\n",
    "                seen += pairs[x],\n",
    "            else:\n",
    "                if not seen:\n",
    "                    return False\n",
    "                if seen and seen[-1] != x:\n",
    "                    return False\n",
    "                else:\n",
    "                    seen.pop()\n",
    "        return not seen"
   ]
  },
  {
   "cell_type": "code",
   "execution_count": 118,
   "metadata": {},
   "outputs": [
    {
     "data": {
      "text/plain": [
       "True"
      ]
     },
     "execution_count": 118,
     "metadata": {},
     "output_type": "execute_result"
    }
   ],
   "source": [
    "s = '()'\n",
    "s = '()[]{}'\n",
    "s = '(]'\n",
    "s = '([)]'\n",
    "s = '{[]}'\n",
    "Solution().isValid(s)"
   ]
  },
  {
   "cell_type": "code",
   "execution_count": null,
   "metadata": {
    "collapsed": true
   },
   "outputs": [],
   "source": [
    "# 100% beating answer\n",
    "class Solution:\n",
    "    def isValid(self, s):\n",
    "        \"\"\"\n",
    "        :type s: str\n",
    "        :rtype: bool\n",
    "        \"\"\"\n",
    "        stack = []\n",
    "        opening = set(['(', '[', '{'])\n",
    "        dic = {'(':')', '[':']', '{':'}'}\n",
    "        \n",
    "        for ch in s:\n",
    "            if ch in opening:\n",
    "                stack.append(ch)\n",
    "            else:\n",
    "                if not stack:\n",
    "                    return False\n",
    "                elif ch == dic[stack[-1]]:\n",
    "                    stack.pop()\n",
    "                else:\n",
    "                    return False\n",
    "        \n",
    "        return stack == []"
   ]
  },
  {
   "cell_type": "code",
   "execution_count": null,
   "metadata": {
    "collapsed": true
   },
   "outputs": [],
   "source": []
  },
  {
   "cell_type": "code",
   "execution_count": null,
   "metadata": {
    "collapsed": true
   },
   "outputs": [],
   "source": []
  },
  {
   "cell_type": "code",
   "execution_count": null,
   "metadata": {
    "collapsed": true
   },
   "outputs": [],
   "source": []
  },
  {
   "cell_type": "markdown",
   "metadata": {},
   "source": [
    "## 21. Merge Two Sorted Lists\n",
    "\n",
    "Merge two sorted linked lists and return it as a new list. The new list should be made by splicing together the nodes of the first two lists.\n",
    "\n",
    "<p><strong>Example:</strong></p>\n",
    "<pre style=\"background-color:#F5F5F5; padding:10px; border:1px solid #CCCCCC; border-radius:5px;\">\n",
    "<strong>Input:</strong> 1->2->4, 1->3->4\n",
    "<strong>Output:</strong> 1->1->2->3->4->4\n",
    "</pre>"
   ]
  },
  {
   "cell_type": "code",
   "execution_count": 159,
   "metadata": {
    "collapsed": true
   },
   "outputs": [],
   "source": [
    "class ListNode:\n",
    "    def __init__(self, v):\n",
    "        self.val = v\n",
    "        self.next = None\n",
    "        \n",
    "class Solution:\n",
    "    def mergeTwoLists(self, l1, l2):\n",
    "        \"\"\"\n",
    "        :type l1: ListNode\n",
    "        :type l2: ListNode\n",
    "        :rtype: ListNode\n",
    "        \"\"\"\n",
    "        if not l1 and not l2:\n",
    "            return\n",
    "        if not l1:\n",
    "            return l2\n",
    "        if not l2:\n",
    "            return l1\n",
    "        \n",
    "        root = head = ListNode(0)\n",
    "        while l1 or l2:\n",
    "            if l1 and l2:\n",
    "                v1 = l1.val\n",
    "                v2 = l2.val\n",
    "                v = min(v1, v2)\n",
    "                if v1 < v2:\n",
    "                    l1 = l1.next\n",
    "                else:\n",
    "                    l2 = l2.next\n",
    "            elif l1:\n",
    "                v = l1.val\n",
    "                l1 = l1.next\n",
    "            elif l2:\n",
    "                v = l2.val\n",
    "                l2 = l2.next\n",
    "            head.next = ListNode(v)\n",
    "            head = head.next\n",
    "        return root.next"
   ]
  },
  {
   "cell_type": "code",
   "execution_count": 158,
   "metadata": {},
   "outputs": [
    {
     "data": {
      "text/plain": [
       "'1, 2'"
      ]
     },
     "execution_count": 158,
     "metadata": {},
     "output_type": "execute_result"
    }
   ],
   "source": [
    "def string2ListNode(inputt):\n",
    "    if not inputt:\n",
    "        return\n",
    "    \n",
    "    nums = [int(x.strip()) for x in inputt.split(',')]\n",
    "    root = head = ListNode(0)\n",
    "    for x in nums:\n",
    "        head.next = ListNode(x)\n",
    "        head = head.next\n",
    "    return root.next\n",
    "\n",
    "def listNode2String(node):\n",
    "    if not node:\n",
    "        return ''\n",
    "    \n",
    "    result = ''\n",
    "    while node:\n",
    "        result += (str(node.val) + ', ')\n",
    "        node = node.next\n",
    "        \n",
    "    return result.strip(', ')\n",
    "\n",
    "l1 = string2ListNode('1,2,4')\n",
    "l2 = string2ListNode('1,3,4')\n",
    "l1 = string2ListNode('')\n",
    "l2 = string2ListNode('0')\n",
    "l1 = string2ListNode('2')\n",
    "l2 = string2ListNode('1')\n",
    "res = Solution().mergeTwoLists(l1, l2)\n",
    "listNode2String(res)"
   ]
  },
  {
   "cell_type": "code",
   "execution_count": 160,
   "metadata": {
    "collapsed": true
   },
   "outputs": [],
   "source": [
    "class Solution:\n",
    "    def mergeTwoLists(self, l1, l2):\n",
    "        \"\"\"\n",
    "        :type l1: ListNode\n",
    "        :type l2: ListNode\n",
    "        :rtype: ListNode\n",
    "        \"\"\"\n",
    "        if not l1 or not l2:\n",
    "            return\n",
    "        if not l1:\n",
    "            return l2\n",
    "        if not l2:\n",
    "            return l1\n",
    "        \n",
    "        root = head = ListNode(0)\n",
    "        while l1 and l2:\n",
    "            if l1.val < l2.val:\n",
    "                head.next = l1\n",
    "                l1 = l1.next\n",
    "            else:\n",
    "                head.next = l2\n",
    "                l2 = l2.next\n",
    "            head = head.next\n",
    "        if l1:\n",
    "            head.next = l1\n",
    "        if l2:\n",
    "            head.next = l2\n",
    "        return root.next"
   ]
  },
  {
   "cell_type": "code",
   "execution_count": 161,
   "metadata": {},
   "outputs": [
    {
     "data": {
      "text/plain": [
       "'1, 2'"
      ]
     },
     "execution_count": 161,
     "metadata": {},
     "output_type": "execute_result"
    }
   ],
   "source": [
    "def string2ListNode(inputt):\n",
    "    if not inputt:\n",
    "        return\n",
    "    \n",
    "    nums = [int(x.strip()) for x in inputt.split(',')]\n",
    "    root = head = ListNode(0)\n",
    "    for x in nums:\n",
    "        head.next = ListNode(x)\n",
    "        head = head.next\n",
    "    return root.next\n",
    "\n",
    "def listNode2String(node):\n",
    "    if not node:\n",
    "        return ''\n",
    "    \n",
    "    result = ''\n",
    "    while node:\n",
    "        result += (str(node.val) + ', ')\n",
    "        node = node.next\n",
    "        \n",
    "    return result.strip(', ')\n",
    "\n",
    "l1 = string2ListNode('1,2,4')\n",
    "l2 = string2ListNode('1,3,4')\n",
    "l1 = string2ListNode('')\n",
    "l2 = string2ListNode('0')\n",
    "l1 = string2ListNode('2')\n",
    "l2 = string2ListNode('1')\n",
    "res = Solution().mergeTwoLists(l1, l2)\n",
    "listNode2String(res)"
   ]
  },
  {
   "cell_type": "code",
   "execution_count": null,
   "metadata": {
    "collapsed": true
   },
   "outputs": [],
   "source": [
    "# 100% beating answer\n",
    "class Solution:\n",
    "    def mergeTwoLists(self, l1, l2):\n",
    "        \"\"\"\n",
    "        :type l1: ListNode\n",
    "        :type l2: ListNode\n",
    "        :rtype: ListNode\n",
    "        \"\"\"\n",
    "        if not l1:\n",
    "            return l2\n",
    "        \n",
    "        if not l2:\n",
    "            return l1\n",
    "        \n",
    "        dummy = ListNode(-1)\n",
    "        curr = dummy\n",
    "        while l1 and l2:\n",
    "            if l1.val < l2.val:\n",
    "                curr.next = l1\n",
    "                l1 = l1.next\n",
    "            \n",
    "            else:\n",
    "                curr.next = l2\n",
    "                l2 = l2.next\n",
    "                \n",
    "            curr = curr.next\n",
    "        \n",
    "        if l1:\n",
    "            curr.next = l1\n",
    "        \n",
    "        if l2:\n",
    "            curr.next = l2\n",
    "        \n",
    "        return dummy.next\n",
    "                "
   ]
  },
  {
   "cell_type": "code",
   "execution_count": null,
   "metadata": {
    "collapsed": true
   },
   "outputs": [],
   "source": []
  },
  {
   "cell_type": "code",
   "execution_count": null,
   "metadata": {
    "collapsed": true
   },
   "outputs": [],
   "source": []
  },
  {
   "cell_type": "code",
   "execution_count": null,
   "metadata": {
    "collapsed": true
   },
   "outputs": [],
   "source": []
  },
  {
   "cell_type": "markdown",
   "metadata": {
    "collapsed": true
   },
   "source": [
    "## 22. Generate Parentheses\n",
    "\n",
    "Given <i>n</i> pairs of parentheses, write a function to generate all combinations of well-formed parentheses.\n",
    "\n",
    "\n",
    "For example, given <i>n</i> = 3, a solution set is:\n",
    "<pre style=\"background-color:#F5F5F5; padding:10px; border:1px solid #CCCCCC; border-radius:5px;\">\n",
    "[\n",
    "  \"((()))\",\n",
    "  \"(()())\",\n",
    "  \"(())()\",\n",
    "  \"()(())\",\n",
    "  \"()()()\"\n",
    "]\n",
    "</pre>"
   ]
  },
  {
   "cell_type": "code",
   "execution_count": 207,
   "metadata": {
    "collapsed": true
   },
   "outputs": [],
   "source": [
    "class Solution:\n",
    "    def generateParenthesis(self, n):\n",
    "        \"\"\"\n",
    "        :type n: int\n",
    "        :rtype: List[str]\n",
    "        \"\"\"\n",
    "        result = [['']] + [[] for _ in range(n)]\n",
    "        for i in range(n+1):\n",
    "            for j in range(i):\n",
    "                result[i] += ['(' + x + ')' + y for x in result[j] for y in result[i-j-1]]\n",
    "        return result[n]"
   ]
  },
  {
   "cell_type": "code",
   "execution_count": 209,
   "metadata": {},
   "outputs": [
    {
     "data": {
      "text/plain": [
       "['()()()', '()(())', '(())()', '(()())', '((()))']"
      ]
     },
     "execution_count": 209,
     "metadata": {},
     "output_type": "execute_result"
    }
   ],
   "source": [
    "n = 3\n",
    "Solution().generateParenthesis(n)"
   ]
  },
  {
   "cell_type": "code",
   "execution_count": 224,
   "metadata": {
    "collapsed": true
   },
   "outputs": [],
   "source": [
    "class Solution:\n",
    "    def generateParenthesis(self, n):\n",
    "        \"\"\"\n",
    "        :type n: int\n",
    "        :rtype: List[str]\n",
    "        \"\"\"\n",
    "        result = []\n",
    "        self._traversal(n, n, result, '')\n",
    "        return result\n",
    "    \n",
    "    def _traversal(self, l, r, result, string):\n",
    "        if r < l:\n",
    "            return\n",
    "        if not l and not r:\n",
    "            result.append(string)\n",
    "        if l:\n",
    "            self._traversal(l-1, r, result, string+'(')\n",
    "        if r:\n",
    "            self._traversal(l, r-1, result, string+')')"
   ]
  },
  {
   "cell_type": "code",
   "execution_count": 225,
   "metadata": {},
   "outputs": [
    {
     "data": {
      "text/plain": [
       "['((()))', '(()())', '(())()', '()(())', '()()()']"
      ]
     },
     "execution_count": 225,
     "metadata": {},
     "output_type": "execute_result"
    }
   ],
   "source": [
    "n = 3\n",
    "Solution().generateParenthesis(n)"
   ]
  },
  {
   "cell_type": "code",
   "execution_count": null,
   "metadata": {
    "collapsed": true
   },
   "outputs": [],
   "source": []
  },
  {
   "cell_type": "code",
   "execution_count": null,
   "metadata": {
    "collapsed": true
   },
   "outputs": [],
   "source": []
  },
  {
   "cell_type": "code",
   "execution_count": null,
   "metadata": {
    "collapsed": true
   },
   "outputs": [],
   "source": []
  },
  {
   "cell_type": "markdown",
   "metadata": {
    "collapsed": true
   },
   "source": [
    "## 23. Merge k Sorted Lists\n",
    "\n",
    "Merge k sorted linked lists and return it as one sorted list. Analyze and describe its complexity.\n",
    "\n",
    "<p><strong>Example:</strong></p>\n",
    "<pre style=\"background-color:#F5F5F5; padding:10px; border: solid 1px #CCCCCC; border-radius:5px;\">\n",
    "<strong>Input:</strong>\n",
    "[\n",
    "  1->4->5,\n",
    "  1->3->4,\n",
    "  2->6\n",
    "]\n",
    "<strong>Output:</strong> 1->1->2->3->4->4->5->6\n",
    "</pre>"
   ]
  },
  {
   "cell_type": "code",
   "execution_count": 36,
   "metadata": {
    "collapsed": true
   },
   "outputs": [],
   "source": [
    "# dynamic method\n",
    "class ListNode:\n",
    "    def __init__(self, x):\n",
    "        self.val = x\n",
    "        self.next = None\n",
    "\n",
    "class Solution:\n",
    "    def mergeKLists(self, lists):\n",
    "        \"\"\"\n",
    "        :type lists: List[ListNode]\n",
    "        :rtype: ListNode\n",
    "        \"\"\"\n",
    "        if not lists:\n",
    "            return\n",
    "        \n",
    "        return self._sortLists(lists, 0, len(lists)-1)\n",
    "\n",
    "    def _sortLists(self, lists, lo, hi):\n",
    "        if lo >= hi:\n",
    "            return lists[lo]\n",
    "        mid = int((hi-lo)/2+lo)\n",
    "        l1 = self._sortLists(lists, lo, mid)\n",
    "        l2 = self._sortLists(lists, mid+1, hi)\n",
    "        return self._mergeLists(l1, l2)\n",
    "    \n",
    "    def _mergeLists(self, l1, l2):\n",
    "        if not l1:\n",
    "            return l2\n",
    "        if not l2:\n",
    "            return l1\n",
    "        if l1.val <= l2.val:\n",
    "            l1.next = self._mergeLists(l1.next, l2)\n",
    "            return l1\n",
    "        l2.next = self._mergeLists(l1, l2.next)\n",
    "        return l2"
   ]
  },
  {
   "cell_type": "code",
   "execution_count": 37,
   "metadata": {},
   "outputs": [
    {
     "data": {
      "text/plain": [
       "'1, 1, 2, 3, 4, 5, 5, 6'"
      ]
     },
     "execution_count": 37,
     "metadata": {},
     "output_type": "execute_result"
    }
   ],
   "source": [
    "def string2ListNode(inputt):\n",
    "    if not inputt:\n",
    "        return\n",
    "    \n",
    "    nums = [int(x.strip()) for x in inputt.split(',')]\n",
    "    root = head = ListNode(0)\n",
    "    for x in nums:\n",
    "        head.next = ListNode(x)\n",
    "        head = head.next\n",
    "    return root.next\n",
    "\n",
    "def listNode2String(node):\n",
    "    if not node:\n",
    "        return ''\n",
    "    \n",
    "    result = ''\n",
    "    while node:\n",
    "        result += (str(node.val) + ', ')\n",
    "        node = node.next\n",
    "    return result.strip(', ')\n",
    "\n",
    "lists = [string2ListNode('1,4,5'), \\\n",
    "         string2ListNode('1,3,5'), \\\n",
    "         string2ListNode('2,6')]\n",
    "res = Solution().mergeKLists(lists)\n",
    "listNode2String(res)"
   ]
  },
  {
   "cell_type": "code",
   "execution_count": 1,
   "metadata": {
    "collapsed": true
   },
   "outputs": [],
   "source": [
    "# sort method\n",
    "class ListNode:\n",
    "    def __init__(self, x):\n",
    "        self.val = x\n",
    "        self.next = None\n",
    "\n",
    "class Solution:\n",
    "    def mergeKLists(self, lists):\n",
    "        \"\"\"\n",
    "        :type lists: List[ListNode]\n",
    "        :rtype: ListNode\n",
    "        \"\"\"\n",
    "        seen = []\n",
    "        for node in lists:\n",
    "            while node:\n",
    "                seen += node.val,\n",
    "                node = node.next\n",
    "        seen.sort()\n",
    "        root = head = ListNode(0)\n",
    "        for x in seen:\n",
    "            head.next = ListNode(x)\n",
    "            head = head.next\n",
    "        return root.next"
   ]
  },
  {
   "cell_type": "code",
   "execution_count": 12,
   "metadata": {},
   "outputs": [
    {
     "data": {
      "text/plain": [
       "'1, 1, 2, 3, 4, 5, 5, 6'"
      ]
     },
     "execution_count": 12,
     "metadata": {},
     "output_type": "execute_result"
    }
   ],
   "source": [
    "def string2ListNode(inputt):\n",
    "    if not inputt:\n",
    "        return\n",
    "    \n",
    "    nums = [int(x.strip()) for x in inputt.split(',')]\n",
    "    root = head = ListNode(0)\n",
    "    for x in nums:\n",
    "        head.next = ListNode(x)\n",
    "        head = head.next\n",
    "    return root.next\n",
    "\n",
    "def listNode2String(node):\n",
    "    if not node:\n",
    "        return ''\n",
    "    \n",
    "    result = ''\n",
    "    while node:\n",
    "        result += (str(node.val) + ', ')\n",
    "        node = node.next\n",
    "    return result.strip(', ')\n",
    "\n",
    "lists = [string2ListNode('1,4,5'), \\\n",
    "         string2ListNode('1,3,5'), \\\n",
    "         string2ListNode('2,6')]\n",
    "res = Solution().mergeKLists(lists)\n",
    "listNode2String(res)"
   ]
  },
  {
   "cell_type": "code",
   "execution_count": 38,
   "metadata": {
    "collapsed": true
   },
   "outputs": [],
   "source": [
    "# sort method - attrgetter\n",
    "class ListNode:\n",
    "    def __init__(self, x):\n",
    "        self.val = x\n",
    "        self.next = None\n",
    "\n",
    "class Solution:\n",
    "    def mergeKLists(self, lists):\n",
    "        \"\"\"\n",
    "        :type lists: List[ListNode]\n",
    "        :rtype: ListNode\n",
    "        \"\"\"\n",
    "        from operator import attrgetter\n",
    "        seen = []\n",
    "        for node in lists:\n",
    "            while node:\n",
    "                seen += node,\n",
    "                node = node.next\n",
    "        seen.sort(key=attrgetter('val'))\n",
    "        dummy = curr = ListNode(0)\n",
    "        for node in seen:\n",
    "            curr.next = node\n",
    "            curr = curr.next\n",
    "        return dummy.next"
   ]
  },
  {
   "cell_type": "code",
   "execution_count": 14,
   "metadata": {},
   "outputs": [
    {
     "data": {
      "text/plain": [
       "'1, 1, 2, 3, 4, 5, 5, 6'"
      ]
     },
     "execution_count": 14,
     "metadata": {},
     "output_type": "execute_result"
    }
   ],
   "source": [
    "def string2ListNode(inputt):\n",
    "    if not inputt:\n",
    "        return\n",
    "    \n",
    "    nums = [int(x.strip()) for x in inputt.split(',')]\n",
    "    root = head = ListNode(0)\n",
    "    for x in nums:\n",
    "        head.next = ListNode(x)\n",
    "        head = head.next\n",
    "    return root.next\n",
    "\n",
    "def listNode2String(node):\n",
    "    if not node:\n",
    "        return ''\n",
    "    \n",
    "    result = ''\n",
    "    while node:\n",
    "        result += (str(node.val) + ', ')\n",
    "        node = node.next\n",
    "    return result.strip(', ')\n",
    "\n",
    "lists = [string2ListNode('1,4,5'), \\\n",
    "         string2ListNode('1,3,5'), \\\n",
    "         string2ListNode('2,6')]\n",
    "res = Solution().mergeKLists(lists)\n",
    "listNode2String(res)"
   ]
  },
  {
   "cell_type": "code",
   "execution_count": 15,
   "metadata": {
    "collapsed": true
   },
   "outputs": [],
   "source": [
    "# PriorityQueue method - __lt__\n",
    "class ListNode:\n",
    "    def __init__(self, x):\n",
    "        self.val = x\n",
    "        self.next = None\n",
    "        \n",
    "class Object2Order:\n",
    "    def __init__(self, val, node):\n",
    "        self.val = val\n",
    "        self.node = node\n",
    "        \n",
    "    def __lt__(self, other):\n",
    "        return self.val < other.val\n",
    "\n",
    "class Solution:\n",
    "    def mergeKLists(self, lists):\n",
    "        \"\"\"\n",
    "        :type lists: List[ListNode]\n",
    "        :rtype: ListNode\n",
    "        \"\"\"\n",
    "        from queue import PriorityQueue\n",
    "        q = PriorityQueue()\n",
    "        for node in lists:\n",
    "            if node:\n",
    "                q.put(Object2Order(node.val, node))\n",
    "        dummy = curr = ListNode(None)\n",
    "        while q.qsize() > 0: # while not q.empty()\n",
    "            curr.next = q.get().node\n",
    "            curr = curr.next\n",
    "            if curr.next:\n",
    "                q.put(Object2Order(curr.next.val, curr.next))\n",
    "        return dummy.next"
   ]
  },
  {
   "cell_type": "code",
   "execution_count": 16,
   "metadata": {},
   "outputs": [
    {
     "data": {
      "text/plain": [
       "'1, 1, 3, 4, 5, 8, 9, 12'"
      ]
     },
     "execution_count": 16,
     "metadata": {},
     "output_type": "execute_result"
    }
   ],
   "source": [
    "def string2ListNode(inputt):\n",
    "    if not inputt:\n",
    "        return\n",
    "    \n",
    "    nums = [int(x.strip()) for x in inputt.split(',')]\n",
    "    root = head = ListNode(0)\n",
    "    for x in nums:\n",
    "        head.next = ListNode(x)\n",
    "        head = head.next\n",
    "    return root.next\n",
    "\n",
    "def listNode2String(node):\n",
    "    if not node:\n",
    "        return ''\n",
    "    \n",
    "    result = ''\n",
    "    while node:\n",
    "        result += (str(node.val) + ', ')\n",
    "        node = node.next\n",
    "    return result.strip(', ')\n",
    "\n",
    "lists = [string2ListNode('1,4,5'), \\\n",
    "         string2ListNode('1,3,8'), \\\n",
    "         string2ListNode('9,12')]\n",
    "res = Solution().mergeKLists(lists)\n",
    "listNode2String(res)"
   ]
  },
  {
   "cell_type": "code",
   "execution_count": 17,
   "metadata": {
    "collapsed": true
   },
   "outputs": [],
   "source": [
    "# PriorityQueue method - counter\n",
    "class ListNode:\n",
    "    def __init__(self, x):\n",
    "        self.val = x\n",
    "        self.next = None\n",
    "        \n",
    "class Solution:\n",
    "    def mergeKLists(self, lists):\n",
    "        \"\"\"\n",
    "        :type lists: List[ListNode]\n",
    "        :rtype: ListNode\n",
    "        \"\"\"\n",
    "        from queue import PriorityQueue\n",
    "        q = PriorityQueue()\n",
    "        for i,node in enumerate(lists):\n",
    "            if node:\n",
    "                q.put((node.val, i, node))\n",
    "        dummy = curr = ListNode(None)\n",
    "        while q.qsize() > 0: # while not q.empty()\n",
    "            v, i, n = q.get()\n",
    "            curr.next = n\n",
    "            curr = curr.next\n",
    "            if curr.next:\n",
    "                q.put((curr.next.val, i, curr.next))\n",
    "        return dummy.next"
   ]
  },
  {
   "cell_type": "code",
   "execution_count": 18,
   "metadata": {},
   "outputs": [
    {
     "data": {
      "text/plain": [
       "'1, 1, 3, 4, 5, 8, 9, 12'"
      ]
     },
     "execution_count": 18,
     "metadata": {},
     "output_type": "execute_result"
    }
   ],
   "source": [
    "def string2ListNode(inputt):\n",
    "    if not inputt:\n",
    "        return\n",
    "    \n",
    "    nums = [int(x.strip()) for x in inputt.split(',')]\n",
    "    root = head = ListNode(0)\n",
    "    for x in nums:\n",
    "        head.next = ListNode(x)\n",
    "        head = head.next\n",
    "    return root.next\n",
    "\n",
    "def listNode2String(node):\n",
    "    if not node:\n",
    "        return ''\n",
    "    \n",
    "    result = ''\n",
    "    while node:\n",
    "        result += (str(node.val) + ', ')\n",
    "        node = node.next\n",
    "    return result.strip(', ')\n",
    "\n",
    "lists = [string2ListNode('1,4,5'), \\\n",
    "         string2ListNode('1,3,8'), \\\n",
    "         string2ListNode('9,12')]\n",
    "res = Solution().mergeKLists(lists)\n",
    "listNode2String(res)"
   ]
  },
  {
   "cell_type": "code",
   "execution_count": 19,
   "metadata": {
    "collapsed": true
   },
   "outputs": [],
   "source": [
    "# heapq method\n",
    "class ListNode:\n",
    "    def __init__(self, x):\n",
    "        self.val = x\n",
    "        self.next = None\n",
    "\n",
    "class Solution:\n",
    "    def mergeKLists(self, lists):\n",
    "        \"\"\"\n",
    "        :type lists: List[ListNode]\n",
    "        :rtype: ListNode\n",
    "        \"\"\"\n",
    "        from heapq import heappush, heappop, heapreplace, heapify\n",
    "        h = [(n.val, i, n) for i,n in enumerate(lists) if n]\n",
    "        heapify(h)\n",
    "        dummy = curr = ListNode(0)\n",
    "        while h:\n",
    "            v, i, n = h[0]\n",
    "            if not n.next:\n",
    "                heappop(h)\n",
    "            else:\n",
    "                heapreplace(h, (n.next.val, i, n.next))\n",
    "            curr.next = n\n",
    "            curr = curr.next\n",
    "\n",
    "        return dummy.next"
   ]
  },
  {
   "cell_type": "code",
   "execution_count": 20,
   "metadata": {},
   "outputs": [
    {
     "data": {
      "text/plain": [
       "'1, 1, 3, 4, 5, 8, 9, 12'"
      ]
     },
     "execution_count": 20,
     "metadata": {},
     "output_type": "execute_result"
    }
   ],
   "source": [
    "def string2ListNode(inputt):\n",
    "    if not inputt:\n",
    "        return\n",
    "    \n",
    "    nums = [int(x.strip()) for x in inputt.split(',')]\n",
    "    root = head = ListNode(0)\n",
    "    for x in nums:\n",
    "        head.next = ListNode(x)\n",
    "        head = head.next\n",
    "    return root.next\n",
    "\n",
    "def listNode2String(node):\n",
    "    if not node:\n",
    "        return ''\n",
    "    \n",
    "    result = ''\n",
    "    while node:\n",
    "        result += (str(node.val) + ', ')\n",
    "        node = node.next\n",
    "    return result.strip(', ')\n",
    "\n",
    "lists = [string2ListNode('1,4,5'), \\\n",
    "         string2ListNode('1,3,8'), \\\n",
    "         string2ListNode('9,12')]\n",
    "res = Solution().mergeKLists(lists)\n",
    "listNode2String(res)"
   ]
  },
  {
   "cell_type": "code",
   "execution_count": 21,
   "metadata": {
    "collapsed": true
   },
   "outputs": [],
   "source": [
    "# 100% beating answer\n",
    "class Solution:\n",
    "    def mergeKLists(self, lists):\n",
    "        from operator import attrgetter\n",
    "        sorted_list = []\n",
    "        for node in lists:\n",
    "            while node is not None:\n",
    "                sorted_list.append(node)\n",
    "                node = node.next\n",
    "        sorted_list = sorted(sorted_list,key=attrgetter('val'))\n",
    "        head = cur = ListNode(0)\n",
    "        for node in sorted_list:\n",
    "            cur.next  = node\n",
    "            cur = cur.next\n",
    "        return head.next"
   ]
  },
  {
   "cell_type": "code",
   "execution_count": null,
   "metadata": {
    "collapsed": true
   },
   "outputs": [],
   "source": []
  },
  {
   "cell_type": "code",
   "execution_count": null,
   "metadata": {
    "collapsed": true
   },
   "outputs": [],
   "source": []
  },
  {
   "cell_type": "code",
   "execution_count": null,
   "metadata": {
    "collapsed": true
   },
   "outputs": [],
   "source": []
  },
  {
   "cell_type": "markdown",
   "metadata": {},
   "source": [
    "## 24. Swap Nodes in Pairs\n",
    "\n",
    "Given a linked list, swap every two adjacent nodes and return its head.\n",
    "\n",
    "<p><strong>Example:</strong></p>\n",
    "<pre style=\"background-color:#F5F5F5; padding:10px; border:solid 1px #CCCCCC; border-radius:5px\">\n",
    "Given 1->2->3->4, you should return the list as 2->1->4->3.\n",
    "</pre>\n",
    "\n",
    "<strong>Note:</strong>\n",
    "<ul>\n",
    "<li>Your algorithm should use only constant extra space.</li>\n",
    "<li>You may not modify the values in the list's nodes, only nodes itself may be changed.</li>\n",
    "</ul>"
   ]
  },
  {
   "cell_type": "code",
   "execution_count": 18,
   "metadata": {
    "collapsed": true
   },
   "outputs": [],
   "source": [
    "class ListNode:\n",
    "    def __init__(self, x):\n",
    "        self.val = x\n",
    "        self.next = None\n",
    "\n",
    "class Solution:\n",
    "    def swapPairs(self, head):\n",
    "        \"\"\"\n",
    "        :type head: ListNode\n",
    "        :rtype: ListNode\n",
    "        \"\"\"\n",
    "        # before: pre -> a -> b -> b.next\n",
    "        # after:  pre -> b -> a -> b.next\n",
    "        pre, pre.next = self, head\n",
    "        while pre.next and pre.next.next:\n",
    "            a, b = pre.next, pre.next.next\n",
    "            pre.next, b.next, a.next = b, a, b.next\n",
    "            pre = a\n",
    "        return self.next"
   ]
  },
  {
   "cell_type": "code",
   "execution_count": 19,
   "metadata": {},
   "outputs": [
    {
     "data": {
      "text/plain": [
       "'2, 1, 4, 3, 6, 5'"
      ]
     },
     "execution_count": 19,
     "metadata": {},
     "output_type": "execute_result"
    }
   ],
   "source": [
    "def string2ListNode(inputt):\n",
    "    if not inputt:\n",
    "        return\n",
    "    \n",
    "    nums = [int(x.strip()) for x in inputt.split(',')]\n",
    "    root = head = ListNode(0)\n",
    "    for x in nums:\n",
    "        head.next = ListNode(x)\n",
    "        head = head.next\n",
    "    return root.next\n",
    "\n",
    "def listNode2String(node):\n",
    "    if not node:\n",
    "        return ''\n",
    "    \n",
    "    result = ''\n",
    "    while node:\n",
    "        result += (str(node.val) + ', ')\n",
    "        node = node.next\n",
    "    return result.strip(', ')\n",
    "\n",
    "head = string2ListNode('1,2,3,4,5,6')\n",
    "res = Solution().swapPairs(head)\n",
    "listNode2String(res)"
   ]
  },
  {
   "cell_type": "code",
   "execution_count": 20,
   "metadata": {
    "collapsed": true
   },
   "outputs": [],
   "source": [
    "class ListNode:\n",
    "    def __init__(self, x):\n",
    "        self.val = x\n",
    "        self.next = None\n",
    "\n",
    "class Solution:\n",
    "    def swapPairs(self, head):\n",
    "        \"\"\"\n",
    "        :type head: ListNode\n",
    "        :rtype: ListNode\n",
    "        \"\"\"\n",
    "        pre, pre.next = self, head\n",
    "        # pre -> pre.next -> pre.next.next -> pre.next.next.next\n",
    "        # pre -> pre.next.next -> pre.next -> pre.next.next.next\n",
    "        while pre.next and pre.next.next:\n",
    "            pre.next.next.next, pre.next.next, pre.next, pre = \\\n",
    "            pre.next, pre.next.next.next, pre.next.next, pre.next\n",
    "        return self.next"
   ]
  },
  {
   "cell_type": "code",
   "execution_count": 21,
   "metadata": {},
   "outputs": [
    {
     "data": {
      "text/plain": [
       "'2, 1, 4, 3, 6, 5'"
      ]
     },
     "execution_count": 21,
     "metadata": {},
     "output_type": "execute_result"
    }
   ],
   "source": [
    "def string2ListNode(inputt):\n",
    "    if not inputt:\n",
    "        return\n",
    "    \n",
    "    nums = [int(x.strip()) for x in inputt.split(',')]\n",
    "    root = head = ListNode(0)\n",
    "    for x in nums:\n",
    "        head.next = ListNode(x)\n",
    "        head = head.next\n",
    "    return root.next\n",
    "\n",
    "def listNode2String(node):\n",
    "    if not node:\n",
    "        return ''\n",
    "    \n",
    "    result = ''\n",
    "    while node:\n",
    "        result += (str(node.val) + ', ')\n",
    "        node = node.next\n",
    "    return result.strip(', ')\n",
    "\n",
    "head = string2ListNode('1,2,3,4,5,6')\n",
    "res = Solution().swapPairs(head)\n",
    "listNode2String(res)"
   ]
  },
  {
   "cell_type": "code",
   "execution_count": 43,
   "metadata": {
    "collapsed": true
   },
   "outputs": [],
   "source": [
    "# 100% beating answer\n",
    "class Solution:\n",
    "    def swapPairs(self, head):\n",
    "        cur = dummy = ListNode(0)\n",
    "        cur.next = head\n",
    "        while cur.next and cur.next.next:\n",
    "            cur.next.next.next, cur.next.next, cur.next, cur = \\\n",
    "            cur.next, cur.next.next.next, cur.next.next, cur.next\n",
    "        return dummy.next"
   ]
  },
  {
   "cell_type": "code",
   "execution_count": null,
   "metadata": {
    "collapsed": true
   },
   "outputs": [],
   "source": []
  },
  {
   "cell_type": "code",
   "execution_count": null,
   "metadata": {
    "collapsed": true
   },
   "outputs": [],
   "source": []
  },
  {
   "cell_type": "code",
   "execution_count": null,
   "metadata": {
    "collapsed": true
   },
   "outputs": [],
   "source": []
  },
  {
   "cell_type": "markdown",
   "metadata": {},
   "source": [
    "## 25. Reverse Nodes in k-Group\n",
    "\n",
    "Given a linked list, reverse the nodes of a linked list k at a time and return its modified list.\n",
    "\n",
    "k is a positive integer and is less than or equal to the length of the linked list. If the number of nodes is not a multiple of k then left-out nodes in the end should remain as it is.\n",
    "\n",
    "<p><strong>Example:</strong></p>\n",
    "\n",
    "Given this linked list: <code style=\"background-color:#F8F2F4; color:#B83650;\">&nbsp;1->2->3->4->5&nbsp;</code>\n",
    "\n",
    "For k = 2, you should return: <code style=\"background-color:#F8F2F4; color:#B83650;\">&nbsp;2->1->4->3->5&nbsp;</code>\n",
    "\n",
    "For k = 3, you should return: <code style=\"background-color:#F8F2F4; color:#B83650;\">&nbsp;3->2->1->4->5&nbsp;</code>\n",
    "\n",
    "<strong>Note:</strong>\n",
    "<ul>\n",
    "<li>Only constant extra memory is allowed.</li>\n",
    "<li>You may not alter the values in the list's nodes, only nodes itself may be changed.</li>\n",
    "</ul>"
   ]
  },
  {
   "cell_type": "code",
   "execution_count": 137,
   "metadata": {
    "collapsed": true
   },
   "outputs": [],
   "source": [
    "class ListNode:\n",
    "    def __init__(self, x):\n",
    "        self.val = x\n",
    "        self.next = None\n",
    "\n",
    "class Solution:\n",
    "    def reverseKGroup(self, head, k):\n",
    "        \"\"\"\n",
    "        :type head: ListNode\n",
    "        :type k: int\n",
    "        :rtype: ListNode\n",
    "        \"\"\"\n",
    "        dummy = jump = ListNode(0)\n",
    "        dummy.next = l = r = head\n",
    "        while True:\n",
    "            count = 0\n",
    "            while r and count < k:\n",
    "                r = r.next\n",
    "                count += 1\n",
    "            if count == k:\n",
    "                cur, pre = l, r\n",
    "                for _ in range(k):\n",
    "                    cur.next, cur, pre = pre, cur.next, cur\n",
    "                # cur, pre = 4, 3\n",
    "                jump.next, jump, l = pre, l, r\n",
    "            else:\n",
    "                return dummy.next"
   ]
  },
  {
   "cell_type": "code",
   "execution_count": 138,
   "metadata": {},
   "outputs": [
    {
     "data": {
      "text/plain": [
       "'3, 2, 1, 6, 5, 4, 7'"
      ]
     },
     "execution_count": 138,
     "metadata": {},
     "output_type": "execute_result"
    }
   ],
   "source": [
    "def string2ListNode(inputt):\n",
    "    if not inputt:\n",
    "        return\n",
    "    \n",
    "    nums = [int(x.strip()) for x in inputt.split(',')]\n",
    "    root = head = ListNode(0)\n",
    "    for x in nums:\n",
    "        head.next = ListNode(x)\n",
    "        head = head.next\n",
    "    return root.next\n",
    "\n",
    "def listNode2String(node):\n",
    "    if not node:\n",
    "        return ''\n",
    "    \n",
    "    result = ''\n",
    "    while node:\n",
    "        result += (str(node.val) + ', ')\n",
    "        node = node.next\n",
    "    return result.strip(', ')\n",
    "\n",
    "head = string2ListNode('1,2,3,4,5,6,7')\n",
    "k = 3\n",
    "res = Solution().reverseKGroup(head, k)\n",
    "listNode2String(res)"
   ]
  },
  {
   "cell_type": "code",
   "execution_count": 244,
   "metadata": {
    "collapsed": true
   },
   "outputs": [],
   "source": [
    "class ListNode(object):\n",
    "    def __init__(self, x):\n",
    "        self.val = x\n",
    "        self.next = None\n",
    "\n",
    "class Solution(object):\n",
    "    def reverseKGroup(self, head, k):\n",
    "        \"\"\"\n",
    "        :type head: ListNode\n",
    "        :type k: int\n",
    "        :rtype: ListNode\n",
    "        \"\"\"\n",
    "        if not head:\n",
    "            return head\n",
    "        l = cur = head\n",
    "        for _ in range(k-1):\n",
    "            cur = cur.next\n",
    "            if not cur:\n",
    "                return head\n",
    "        cur.next = r = self.reverseKGroup(cur.next, k)\n",
    "        \n",
    "        cur, pre = l, r\n",
    "        while cur!=r:\n",
    "            cur.next, cur, pre = pre, cur.next, cur\n",
    "        return pre"
   ]
  },
  {
   "cell_type": "code",
   "execution_count": 245,
   "metadata": {},
   "outputs": [
    {
     "data": {
      "text/plain": [
       "'3, 2, 1, 6, 5, 4, 7'"
      ]
     },
     "execution_count": 245,
     "metadata": {},
     "output_type": "execute_result"
    }
   ],
   "source": [
    "def string2ListNode(inputt):\n",
    "    if not inputt:\n",
    "        return\n",
    "    \n",
    "    nums = [int(x.strip()) for x in inputt.split(',')]\n",
    "    root = head = ListNode(0)\n",
    "    for x in nums:\n",
    "        head.next = ListNode(x)\n",
    "        head = head.next\n",
    "    return root.next\n",
    "\n",
    "def listNode2String(node):\n",
    "    if not node:\n",
    "        return ''\n",
    "    \n",
    "    result = ''\n",
    "    while node:\n",
    "        result += (str(node.val) + ', ')\n",
    "        node = node.next\n",
    "    return result.strip(', ')\n",
    "\n",
    "head = string2ListNode('1,2,3,4,5,6,7')\n",
    "k = 3\n",
    "res = Solution().reverseKGroup(head, k)\n",
    "listNode2String(res)"
   ]
  },
  {
   "cell_type": "code",
   "execution_count": null,
   "metadata": {
    "collapsed": true
   },
   "outputs": [],
   "source": [
    "# 100% beating answer\n",
    "class ListNode(object):\n",
    "    def __init__(self, x):\n",
    "        self.val = x\n",
    "        self.next = None\n",
    "\n",
    "class Solution(object):\n",
    "    def reverseKGroup(self, head, k):\n",
    "        \"\"\"\n",
    "        :type head: ListNode\n",
    "        :type k: int\n",
    "        :rtype: ListNode\n",
    "        \"\"\"\n",
    "        if(not head):return head\n",
    "        cur=head\n",
    "        for _ in range(k-1):\n",
    "            cur=cur.next\n",
    "            if(not cur):return head\n",
    "        cur.next=self.reverseKGroup(cur.next,k)\n",
    "        hold=cur.next\n",
    "        \n",
    "        pre=hold\n",
    "        cur=head\n",
    "        while(cur!=hold):\n",
    "            tmp=cur.next\n",
    "            cur.next=pre\n",
    "            pre=cur\n",
    "            cur=tmp\n",
    "        return pre"
   ]
  },
  {
   "cell_type": "code",
   "execution_count": null,
   "metadata": {
    "collapsed": true
   },
   "outputs": [],
   "source": []
  },
  {
   "cell_type": "code",
   "execution_count": null,
   "metadata": {
    "collapsed": true
   },
   "outputs": [],
   "source": []
  },
  {
   "cell_type": "code",
   "execution_count": null,
   "metadata": {
    "collapsed": true
   },
   "outputs": [],
   "source": []
  },
  {
   "cell_type": "code",
   "execution_count": null,
   "metadata": {
    "collapsed": true
   },
   "outputs": [],
   "source": []
  },
  {
   "cell_type": "code",
   "execution_count": null,
   "metadata": {
    "collapsed": true
   },
   "outputs": [],
   "source": []
  },
  {
   "cell_type": "code",
   "execution_count": null,
   "metadata": {
    "collapsed": true
   },
   "outputs": [],
   "source": []
  },
  {
   "cell_type": "code",
   "execution_count": null,
   "metadata": {
    "collapsed": true
   },
   "outputs": [],
   "source": []
  },
  {
   "cell_type": "code",
   "execution_count": null,
   "metadata": {
    "collapsed": true
   },
   "outputs": [],
   "source": []
  },
  {
   "cell_type": "code",
   "execution_count": null,
   "metadata": {
    "collapsed": true
   },
   "outputs": [],
   "source": []
  },
  {
   "cell_type": "code",
   "execution_count": null,
   "metadata": {
    "collapsed": true
   },
   "outputs": [],
   "source": []
  },
  {
   "cell_type": "code",
   "execution_count": null,
   "metadata": {
    "collapsed": true
   },
   "outputs": [],
   "source": []
  },
  {
   "cell_type": "code",
   "execution_count": null,
   "metadata": {
    "collapsed": true
   },
   "outputs": [],
   "source": []
  },
  {
   "cell_type": "code",
   "execution_count": null,
   "metadata": {
    "collapsed": true
   },
   "outputs": [],
   "source": []
  },
  {
   "cell_type": "code",
   "execution_count": null,
   "metadata": {
    "collapsed": true
   },
   "outputs": [],
   "source": []
  },
  {
   "cell_type": "code",
   "execution_count": 235,
   "metadata": {
    "collapsed": true
   },
   "outputs": [],
   "source": [
    "# yield method\n",
    "class Solution:\n",
    "    def generateParenthesis(self, n):\n",
    "        def generate(p, left, right):\n",
    "            if right >= left >= 0:\n",
    "                if not right:\n",
    "                    yield p\n",
    "                for q in generate(p + '(', left-1, right):\n",
    "                    yield q\n",
    "                for q in generate(p + ')', left, right-1):\n",
    "                    yield q\n",
    "\n",
    "        return list(generate('', n, n))"
   ]
  },
  {
   "cell_type": "code",
   "execution_count": null,
   "metadata": {
    "collapsed": true
   },
   "outputs": [],
   "source": [
    "# 90% beating answer\n",
    "class Solution:\n",
    "    def generateParenthesis(self, n):\n",
    "        \"\"\"\n",
    "        :type n: int\n",
    "        :rtype: List[str]\n",
    "        \"\"\"\n",
    "        ans = []\n",
    "        def backtrack(s = '', left = 0, right = 0):\n",
    "            if len(s) == 2*n:\n",
    "                ans.append(s)\n",
    "                return\n",
    "            if left < n:\n",
    "                backtrack(s+'(', left + 1, right)\n",
    "            if right < left:\n",
    "                backtrack(s+')', left, right + 1)\n",
    "        backtrack()\n",
    "        return ans"
   ]
  },
  {
   "cell_type": "code",
   "execution_count": null,
   "metadata": {
    "collapsed": true
   },
   "outputs": [],
   "source": [
    "# 100% beating answer\n",
    "class Solution:\n",
    "    def generateParenthesis(self, n):\n",
    "        \"\"\"\n",
    "        :type n: int\n",
    "        :rtype: List[str]\n",
    "        \"\"\"\n",
    "        done = {\n",
    "            0: [\"\"],\n",
    "            1: [\"()\"]\n",
    "        }\n",
    "        \n",
    "        def gp(x):\n",
    "            if not x in done:\n",
    "                done[x] = []\n",
    "\n",
    "                prevList = gp(x - 1)\n",
    "                for l in prevList:\n",
    "                    done[x].append(\"(\" + l + \")\")\n",
    "\n",
    "                for ind in range(1, x):\n",
    "                    iList = gp(ind - 1)\n",
    "                    jList = gp(x - ind)\n",
    "                    for i in iList:\n",
    "                        for j in jList:\n",
    "                            done[x].append(\"(\" + i + \")\" + j)\n",
    "            return done[x]\n",
    "        return gp(n)"
   ]
  },
  {
   "cell_type": "code",
   "execution_count": null,
   "metadata": {
    "collapsed": true
   },
   "outputs": [],
   "source": []
  },
  {
   "cell_type": "code",
   "execution_count": null,
   "metadata": {
    "collapsed": true
   },
   "outputs": [],
   "source": []
  },
  {
   "cell_type": "code",
   "execution_count": null,
   "metadata": {
    "collapsed": true
   },
   "outputs": [],
   "source": []
  },
  {
   "cell_type": "code",
   "execution_count": null,
   "metadata": {
    "collapsed": true
   },
   "outputs": [],
   "source": []
  },
  {
   "cell_type": "code",
   "execution_count": null,
   "metadata": {
    "collapsed": true
   },
   "outputs": [],
   "source": []
  },
  {
   "cell_type": "code",
   "execution_count": null,
   "metadata": {
    "collapsed": true
   },
   "outputs": [],
   "source": []
  },
  {
   "cell_type": "code",
   "execution_count": null,
   "metadata": {
    "collapsed": true
   },
   "outputs": [],
   "source": []
  },
  {
   "cell_type": "code",
   "execution_count": null,
   "metadata": {
    "collapsed": true
   },
   "outputs": [],
   "source": []
  },
  {
   "cell_type": "code",
   "execution_count": null,
   "metadata": {
    "collapsed": true
   },
   "outputs": [],
   "source": []
  },
  {
   "cell_type": "code",
   "execution_count": null,
   "metadata": {
    "collapsed": true
   },
   "outputs": [],
   "source": []
  },
  {
   "cell_type": "code",
   "execution_count": null,
   "metadata": {
    "collapsed": true
   },
   "outputs": [],
   "source": []
  },
  {
   "cell_type": "code",
   "execution_count": null,
   "metadata": {
    "collapsed": true
   },
   "outputs": [],
   "source": []
  },
  {
   "cell_type": "code",
   "execution_count": null,
   "metadata": {
    "collapsed": true
   },
   "outputs": [],
   "source": []
  },
  {
   "cell_type": "code",
   "execution_count": null,
   "metadata": {
    "collapsed": true
   },
   "outputs": [],
   "source": []
  },
  {
   "cell_type": "code",
   "execution_count": null,
   "metadata": {
    "collapsed": true
   },
   "outputs": [],
   "source": []
  },
  {
   "cell_type": "code",
   "execution_count": null,
   "metadata": {
    "collapsed": true
   },
   "outputs": [],
   "source": []
  },
  {
   "cell_type": "code",
   "execution_count": null,
   "metadata": {
    "collapsed": true
   },
   "outputs": [],
   "source": []
  },
  {
   "cell_type": "markdown",
   "metadata": {},
   "source": [
    "## 48. Rotate Image\n",
    "\n",
    "You are given an n x n 2D matrix representing an image.\n",
    "\n",
    "Rotate the image by 90 degrees (clockwise).\n",
    "\n",
    "**Note:**\n",
    "\n",
    "You have to rotate the image **in-place**, which means you have to modify the input 2D matrix directly. DO NOT allocate another 2D matrix and do the rotation.\n",
    "\n",
    "**Example 1:**\n",
    "\n",
    "Given input matrix = \n",
    "\n",
    "[<br/>\n",
    "  [1,2,3],<br/>\n",
    "  [4,5,6],<br/>\n",
    "  [7,8,9]<br/>\n",
    "],<br/>\n",
    "\n",
    "rotate the input matrix in-place such that it becomes:\n",
    "\n",
    "[<br/>\n",
    "  [7,4,1],<br/>\n",
    "  [8,5,2],<br/>\n",
    "  [9,6,3]<br/>\n",
    "]<br/>\n",
    "\n",
    "**Example 2:**\n",
    "\n",
    "Given input matrix =\n",
    "\n",
    "[<br/>\n",
    "  [ 5, 1, 9,11],<br/>\n",
    "  [ 2, 4, 8,10],<br/>\n",
    "  [13, 3, 6, 7],<br/>\n",
    "  [15,14,12,16]<br/>\n",
    "], <br/>\n",
    "\n",
    "rotate the input matrix in-place such that it becomes:\n",
    "\n",
    "[<br/>\n",
    "  [15,13, 2, 5],<br/>\n",
    "  [14, 3, 4, 1],<br/>\n",
    "  [12, 6, 8, 9],<br/>\n",
    "  [16, 7,10,11]<br/>\n",
    "]<br/>"
   ]
  },
  {
   "cell_type": "code",
   "execution_count": 524,
   "metadata": {
    "collapsed": true
   },
   "outputs": [],
   "source": [
    "class Solution:\n",
    "    def rotate(self, matrix):\n",
    "        \"\"\"\n",
    "        :type matrix: List[List[int]]\n",
    "        :rtype: void Do not return anything, modify matrix in-place instead.\n",
    "        \"\"\"\n",
    "        if not matrix:\n",
    "            return\n",
    "        \n",
    "        # check monotony\n",
    "        check = []\n",
    "        [check.extend(row) for row in matrix]\n",
    "        if check[1:] == check[:-1]:\n",
    "            return\n",
    "        \n",
    "        # main\n",
    "        n = len(matrix)\n",
    "        # top-bottom flip\n",
    "        for i in range(n//2):\n",
    "            for j in range(n):\n",
    "                matrix[i][j], matrix[n-1-i][j] = matrix[n-1-i][j], matrix[i][j]\n",
    "        # back-slash diagnal flip\n",
    "        for i in range(n):\n",
    "            j = i + 1\n",
    "            while j < n:\n",
    "                matrix[i][j], matrix[j][i] = matrix[j][i], matrix[i][j]\n",
    "                j += 1\n",
    "                    "
   ]
  },
  {
   "cell_type": "code",
   "execution_count": 525,
   "metadata": {},
   "outputs": [
    {
     "data": {
      "text/plain": [
       "[[7, 4, 1], [8, 5, 2], [9, 6, 3]]"
      ]
     },
     "execution_count": 525,
     "metadata": {},
     "output_type": "execute_result"
    }
   ],
   "source": [
    "matrix = [\n",
    "  [1,2,3],\n",
    "  [4,5,6],\n",
    "  [7,8,9]\n",
    "]\n",
    "Solution().rotate(matrix)\n",
    "matrix"
   ]
  },
  {
   "cell_type": "code",
   "execution_count": 526,
   "metadata": {},
   "outputs": [
    {
     "data": {
      "text/plain": [
       "[[15, 13, 2, 5], [14, 3, 4, 1], [12, 6, 8, 9], [16, 7, 10, 11]]"
      ]
     },
     "execution_count": 526,
     "metadata": {},
     "output_type": "execute_result"
    }
   ],
   "source": [
    "matrix = [\n",
    "  [ 5, 1, 9,11],\n",
    "  [ 2, 4, 8,10],\n",
    "  [13, 3, 6, 7],\n",
    "  [15,14,12,16]\n",
    "]\n",
    "Solution().rotate(matrix)\n",
    "matrix"
   ]
  },
  {
   "cell_type": "code",
   "execution_count": 527,
   "metadata": {},
   "outputs": [
    {
     "data": {
      "text/plain": [
       "[[3, 3, 3], [3, 3, 3], [3, 3, 3]]"
      ]
     },
     "execution_count": 527,
     "metadata": {},
     "output_type": "execute_result"
    }
   ],
   "source": [
    "import numpy as np\n",
    "\n",
    "matrix = np.array([3 for _ in range(9)]).reshape((3,3)).tolist()\n",
    "Solution().rotate(matrix)\n",
    "matrix"
   ]
  },
  {
   "cell_type": "code",
   "execution_count": null,
   "metadata": {
    "collapsed": true
   },
   "outputs": [],
   "source": [
    "# 100% beating answer\n",
    "class Solution:\n",
    "    def rotate(self, matrix):\n",
    "        \"\"\"\n",
    "        :type matrix: List[List[int]]\n",
    "        :rtype: void Do not return anything, modify matrix in-place instead.\n",
    "        \"\"\"\n",
    "        # Left and right are static column/rows\n",
    "        for left in range(len(matrix) // 2):\n",
    "            right = len(matrix) - left - 1\n",
    "            # Start and end are the actual ones that run along it\n",
    "            for start in range(left, right):\n",
    "                end = len(matrix) - start - 1\n",
    "                temp = matrix[left][start]\n",
    "                matrix[left][start] = matrix[end][left]\n",
    "                matrix[end][left] = matrix[right][end]\n",
    "                matrix[right][end] = matrix[start][right]\n",
    "                matrix[start][right] = temp"
   ]
  },
  {
   "cell_type": "code",
   "execution_count": null,
   "metadata": {
    "collapsed": true
   },
   "outputs": [],
   "source": []
  },
  {
   "cell_type": "code",
   "execution_count": null,
   "metadata": {
    "collapsed": true
   },
   "outputs": [],
   "source": []
  },
  {
   "cell_type": "code",
   "execution_count": null,
   "metadata": {
    "collapsed": true
   },
   "outputs": [],
   "source": []
  },
  {
   "cell_type": "code",
   "execution_count": null,
   "metadata": {
    "collapsed": true
   },
   "outputs": [],
   "source": []
  },
  {
   "cell_type": "code",
   "execution_count": null,
   "metadata": {
    "collapsed": true
   },
   "outputs": [],
   "source": []
  },
  {
   "cell_type": "markdown",
   "metadata": {
    "collapsed": true
   },
   "source": [
    "## 50. Pow(x, n)\n",
    "\n",
    "Implement <a href=\"http://www.cplusplus.com/reference/valarray/pow/\">pow(x, n)</a>, which calculates x raised to the power *n* (x<sup>n</sup>).\n",
    "\n",
    "<p><strong>Example 1:</strong><p>\n",
    "<pre style=\"background-color:#F5F5F5; padding:10px; border:solid 1px #CCCCCC; border-radius:5px;\">\n",
    "<strong>Input:</strong> 2.00000, 10\n",
    "<strong>Output:</strong> 1024.00000\n",
    "</pre>\n",
    "<p><strong>Example 2:</strong><p>\n",
    "<pre style=\"background-color:#F5F5F5; padding:10px; border:solid 1px #CCCCCC; border-radius:5px;\">\n",
    "<strong>Input:</strong> 2.10000, 3\n",
    "<strong>Output:</strong> 9.26100\n",
    "</pre>\n",
    "<p><strong>Example 3:</strong><p>\n",
    "<pre style=\"background-color:#F5F5F5; padding:10px; border:solid 1px #CCCCCC; border-radius:5px;\">\n",
    "<strong>Input:</strong> 2.00000, -2\n",
    "<strong>Output:</strong> 0.25000\n",
    "<strong>Explanation:</strong> 2<sup>-2</sup> = 1/2<sup>2</sup> = 1/4 = 0.25\n",
    "</pre>\n",
    "\n",
    "<strong>Note:</strong>\n",
    "<ul>\n",
    "<li>-100.0 < *x* < 100.0</li>\n",
    "<li>n is a 32-bit signed integer, within the range [−2<sup>31</sup>, 2<sup>31</sup> − 1]</li>\n",
    "</ul>"
   ]
  },
  {
   "cell_type": "code",
   "execution_count": 317,
   "metadata": {
    "collapsed": true
   },
   "outputs": [],
   "source": [
    "class Solution(object):\n",
    "    def myPow(self, x, n):\n",
    "        \"\"\"\n",
    "        :type x: float\n",
    "        :type n: int\n",
    "        :rtype: float\n",
    "        \"\"\"\n",
    "        if n < 0:\n",
    "            x = 1/x\n",
    "            n = -n\n",
    "        \n",
    "        def _dfs(x, n):\n",
    "            if not n:\n",
    "                return 1\n",
    "            elif n & 1:\n",
    "                return x * _dfs(x, n-1)\n",
    "            else:\n",
    "                p = _dfs(x, n>>1)\n",
    "                return p * p\n",
    "\n",
    "        return _dfs(x, n)"
   ]
  },
  {
   "cell_type": "code",
   "execution_count": 323,
   "metadata": {},
   "outputs": [
    {
     "data": {
      "text/plain": [
       "3.4368447520767935"
      ]
     },
     "execution_count": 323,
     "metadata": {},
     "output_type": "execute_result"
    }
   ],
   "source": [
    "x, n = 2.00000, 10\n",
    "x, n = 2.10000, 3\n",
    "x, n = 2.00000, -2\n",
    "x, n = 1.00001, 123456\n",
    "Solution().myPow(x, n)"
   ]
  },
  {
   "cell_type": "code",
   "execution_count": null,
   "metadata": {
    "collapsed": true
   },
   "outputs": [],
   "source": [
    "class Solution(object):\n",
    "    def myPow(self, x, n):\n",
    "        \"\"\"\n",
    "        :type x: float\n",
    "        :type n: int\n",
    "        :rtype: float\n",
    "        \"\"\""
   ]
  },
  {
   "cell_type": "code",
   "execution_count": null,
   "metadata": {
    "collapsed": true
   },
   "outputs": [],
   "source": []
  },
  {
   "cell_type": "code",
   "execution_count": null,
   "metadata": {
    "collapsed": true
   },
   "outputs": [],
   "source": []
  },
  {
   "cell_type": "code",
   "execution_count": 313,
   "metadata": {},
   "outputs": [
    {
     "data": {
      "text/plain": [
       "1"
      ]
     },
     "execution_count": 313,
     "metadata": {},
     "output_type": "execute_result"
    }
   ],
   "source": [
    "# 100% beating answer\n",
    "class Solution(object):\n",
    "    def myPow(self, x, n):\n",
    "        \"\"\"\n",
    "        :type x: float\n",
    "        :type n: int\n",
    "        :rtype: float\n",
    "        \"\"\"\n",
    "        if n == 0:\n",
    "            return 1\n",
    "        \n",
    "        sign = n > 0\n",
    "        n = abs(n)\n",
    "        out = self.powre(x, n)\n",
    "        \n",
    "        if sign:\n",
    "            return out\n",
    "        else:\n",
    "            return 1.0/out\n",
    "        \n",
    "    def powre(self,x,n):\n",
    "        \n",
    "        if n == 1:\n",
    "            return x       \n",
    "        \n",
    "        m = n//2\n",
    "        out = self.powre(x, m)\n",
    "        if n%2 == 0:\n",
    "            \n",
    "            return out*out\n",
    "        else:\n",
    "            return out*out * x"
   ]
  },
  {
   "cell_type": "code",
   "execution_count": null,
   "metadata": {
    "collapsed": true
   },
   "outputs": [],
   "source": []
  },
  {
   "cell_type": "code",
   "execution_count": null,
   "metadata": {
    "collapsed": true
   },
   "outputs": [],
   "source": []
  },
  {
   "cell_type": "code",
   "execution_count": null,
   "metadata": {
    "collapsed": true
   },
   "outputs": [],
   "source": []
  },
  {
   "cell_type": "code",
   "execution_count": null,
   "metadata": {
    "collapsed": true
   },
   "outputs": [],
   "source": []
  },
  {
   "cell_type": "code",
   "execution_count": null,
   "metadata": {
    "collapsed": true
   },
   "outputs": [],
   "source": []
  },
  {
   "cell_type": "code",
   "execution_count": null,
   "metadata": {
    "collapsed": true
   },
   "outputs": [],
   "source": []
  },
  {
   "cell_type": "code",
   "execution_count": null,
   "metadata": {
    "collapsed": true
   },
   "outputs": [],
   "source": []
  },
  {
   "cell_type": "code",
   "execution_count": null,
   "metadata": {
    "collapsed": true
   },
   "outputs": [],
   "source": []
  },
  {
   "cell_type": "code",
   "execution_count": null,
   "metadata": {
    "collapsed": true
   },
   "outputs": [],
   "source": []
  },
  {
   "cell_type": "code",
   "execution_count": null,
   "metadata": {
    "collapsed": true
   },
   "outputs": [],
   "source": []
  },
  {
   "cell_type": "code",
   "execution_count": null,
   "metadata": {
    "collapsed": true
   },
   "outputs": [],
   "source": []
  },
  {
   "cell_type": "markdown",
   "metadata": {},
   "source": [
    "## 53. Maximum Subarray\n",
    "\n",
    "Given an integer array <code style=\"background-color: #F8F2F4; color: #B83650;\">&nbsp;nums&nbsp;</code>, find the contiguous subarray (containing at least one number) which has the largest sum and return its sum.\n",
    "\n",
    "<p><strong>Example:</strong></p>\n",
    "<pre style=\"background-color:#F5F5F5; padding:10px; border:1px solid #CCCCCC; border-radius:5px;\">\n",
    "<strong>Input:</strong> [-2,1,-3,4,-1,2,1,-5,4],\n",
    "<strong>Output:</strong> 6\n",
    "<strong>Explanation:</strong> [4,-1,2,1] has the largest sum = 6.\n",
    "</pre>\n",
    "\n",
    "<strong>Follow up:</strong>\n",
    "\n",
    "If you have figured out the O(n) solution, try coding another solution using the divide and conquer approach, which is more subtle.\n",
    "\n",
    "\n",
    "\n"
   ]
  },
  {
   "cell_type": "code",
   "execution_count": 49,
   "metadata": {
    "collapsed": true
   },
   "outputs": [],
   "source": [
    "class Solution:\n",
    "    def maxSubArray(self, nums):\n",
    "        \"\"\"\n",
    "        :type nums: List[int]\n",
    "        :rtype: int\n",
    "        \"\"\"\n",
    "        result = s = nums[0]\n",
    "        for x in nums[1:]:\n",
    "            s = max(x, s+x)\n",
    "            result = max(s, result)\n",
    "        return result"
   ]
  },
  {
   "cell_type": "code",
   "execution_count": 50,
   "metadata": {},
   "outputs": [
    {
     "data": {
      "text/plain": [
       "6"
      ]
     },
     "execution_count": 50,
     "metadata": {},
     "output_type": "execute_result"
    }
   ],
   "source": [
    "nums = [-2,1,-3,4,-1,2,1,-5,4]\n",
    "Solution().maxSubArray(nums)"
   ]
  },
  {
   "cell_type": "code",
   "execution_count": null,
   "metadata": {
    "collapsed": true
   },
   "outputs": [],
   "source": []
  },
  {
   "cell_type": "code",
   "execution_count": null,
   "metadata": {
    "collapsed": true
   },
   "outputs": [],
   "source": []
  },
  {
   "cell_type": "code",
   "execution_count": null,
   "metadata": {
    "collapsed": true
   },
   "outputs": [],
   "source": []
  },
  {
   "cell_type": "markdown",
   "metadata": {},
   "source": [
    "## 54. Spiral Matrix\n",
    "\n",
    "Given a matrix of *m* x *n* elements (*m* rows, *n* columns), return all elements of the matrix in spiral order.\n",
    "\n",
    "<p><strong>Example 1:</strong></p>\n",
    "<pre style=\"background-color:#F5F5F5; padding:10px; border:solid 1px #CCCCCC; border-radius:5px;\">\n",
    "<strong>Input:</strong>\n",
    "[\n",
    " [ 1, 2, 3 ],\n",
    " [ 4, 5, 6 ],\n",
    " [ 7, 8, 9 ]\n",
    "]\n",
    "<strong>Output:</strong> [1,2,3,6,9,8,7,4,5]\n",
    "</pre>\n",
    "\n",
    "<p><strong>Example 2:</strong></p>\n",
    "<pre style=\"background-color:#F5F5F5; padding:10px; border:solid 1px #CCCCCC; border-radius:5px;\">\n",
    "<strong>Input:</strong>\n",
    "[\n",
    "  [1, 2, 3, 4],\n",
    "  [5, 6, 7, 8],\n",
    "  [9,10,11,12]\n",
    "]\n",
    "<strong>Output:</strong> [1,2,3,4,8,12,11,10,9,5,6,7]\n",
    "</pre>"
   ]
  },
  {
   "cell_type": "code",
   "execution_count": 87,
   "metadata": {
    "collapsed": true
   },
   "outputs": [],
   "source": [
    "class Solution(object):\n",
    "    def spiralOrder(self, matrix):\n",
    "        \"\"\"\n",
    "        :type matrix: List[List[int]]\n",
    "        :rtype: List[int]\n",
    "        \"\"\"\n",
    "        return matrix and [*matrix.pop(0)]+self.spiralOrder([*zip(*matrix)][::-1])"
   ]
  },
  {
   "cell_type": "code",
   "execution_count": 88,
   "metadata": {},
   "outputs": [
    {
     "data": {
      "text/plain": [
       "[1, 2, 3, 4, 8, 12, 11, 10, 9, 5, 6, 7]"
      ]
     },
     "execution_count": 88,
     "metadata": {},
     "output_type": "execute_result"
    }
   ],
   "source": [
    "matrix = [[1, 2, 3, 4],[5, 6, 7, 8],[9,10,11,12]]\n",
    "Solution().spiralOrder(matrix)"
   ]
  },
  {
   "cell_type": "code",
   "execution_count": null,
   "metadata": {
    "collapsed": true
   },
   "outputs": [],
   "source": []
  },
  {
   "cell_type": "code",
   "execution_count": null,
   "metadata": {
    "collapsed": true
   },
   "outputs": [],
   "source": []
  },
  {
   "cell_type": "code",
   "execution_count": null,
   "metadata": {
    "collapsed": true
   },
   "outputs": [],
   "source": []
  },
  {
   "cell_type": "code",
   "execution_count": null,
   "metadata": {
    "collapsed": true
   },
   "outputs": [],
   "source": []
  },
  {
   "cell_type": "code",
   "execution_count": null,
   "metadata": {
    "collapsed": true
   },
   "outputs": [],
   "source": []
  },
  {
   "cell_type": "code",
   "execution_count": null,
   "metadata": {
    "collapsed": true
   },
   "outputs": [],
   "source": []
  },
  {
   "cell_type": "code",
   "execution_count": null,
   "metadata": {
    "collapsed": true
   },
   "outputs": [],
   "source": []
  },
  {
   "cell_type": "code",
   "execution_count": null,
   "metadata": {
    "collapsed": true
   },
   "outputs": [],
   "source": []
  },
  {
   "cell_type": "code",
   "execution_count": null,
   "metadata": {
    "collapsed": true
   },
   "outputs": [],
   "source": []
  },
  {
   "cell_type": "code",
   "execution_count": null,
   "metadata": {
    "collapsed": true
   },
   "outputs": [],
   "source": []
  },
  {
   "cell_type": "markdown",
   "metadata": {
    "collapsed": true
   },
   "source": [
    "## 62. Unique Paths\n",
    "A robot is located at the top-left corner of a *m x n* grid (marked 'Start' in the diagram below).\n",
    "\n",
    "The robot can only move either down or right at any point in time. The robot is trying to reach the bottom-right corner of the grid (marked 'Finish' in the diagram below).\n",
    "\n",
    "How many possible unique paths are there?\n",
    "\n",
    "<img src=\"https://leetcode.com/static/images/problemset/robot_maze.png\"/>\n",
    "\n",
    "<small>Above is a 7 x 3 grid. How many possible unique paths are there?</small>\n",
    "\n",
    "<strong>Note:</strong> m and n will be at most 100.\n",
    "\n",
    "<p><strong>Example 1:</strong></p>\n",
    "<pre style=\"background-color:#F5F5F5; padding:10px; border: solid 1px #CCCCCC; boder-radius:5px;\">\n",
    "<strong>Input:</strong> m = 3, n = 2\n",
    "<strong>Output:</strong> 3\n",
    "<strong>Explanation:</strong>\n",
    "From the top-left corner, there are a total of 3 ways to reach the bottom-right corner:\n",
    "1. Right -> Right -> Down\n",
    "2. Right -> Down -> Right\n",
    "3. Down -> Right -> Right\n",
    "</pre>\n",
    "\n",
    "<p><strong>Example 2:</strong></p>\n",
    "<pre style=\"background-color:#F5F5F5; padding:10px; border: solid 1px #CCCCCC; boder-radius:5px;\">\n",
    "<strong>Input:</strong> m = 7, n = 3\n",
    "<strong>Output:</strong> 28\n",
    "</pre>"
   ]
  },
  {
   "cell_type": "code",
   "execution_count": 17,
   "metadata": {
    "collapsed": true
   },
   "outputs": [],
   "source": [
    "class Solution:\n",
    "    def uniquePaths(self, m, n):\n",
    "        \"\"\"\n",
    "        :type m: int\n",
    "        :type n: int\n",
    "        :rtype: int\n",
    "        \"\"\"\n",
    "        res = [[1 for _ in range(m)] for _ in range(n)]\n",
    "        for i in range(1, n):\n",
    "            for j in range(1, m):\n",
    "                res[i][j] = res[i-1][j] + res[i][j-1]\n",
    "        return res[-1][-1]"
   ]
  },
  {
   "cell_type": "code",
   "execution_count": 20,
   "metadata": {},
   "outputs": [
    {
     "data": {
      "text/plain": [
       "28"
      ]
     },
     "execution_count": 20,
     "metadata": {},
     "output_type": "execute_result"
    }
   ],
   "source": [
    "m, n = 3, 2\n",
    "m, n = 5, 5\n",
    "m, n = 7, 3\n",
    "Solution().uniquePaths(m, n)"
   ]
  },
  {
   "cell_type": "code",
   "execution_count": 252,
   "metadata": {
    "collapsed": true
   },
   "outputs": [],
   "source": [
    "# 100% beating answer\n",
    "class Solution(object):\n",
    "    def uniquePaths(self, m, n):\n",
    "        \"\"\"\n",
    "        :type m: int\n",
    "        :type n: int\n",
    "        :rtype: int\n",
    "        \"\"\"\n",
    "        total = m+n-2\n",
    "        select = min(n,m)-1\n",
    "        numerator = 1\n",
    "        i = total\n",
    "        while i >= total- select+1:\n",
    "            numerator*=  i\n",
    "            i-= 1\n",
    "        denorm = 1\n",
    "        j = 1\n",
    "        while j <= select:\n",
    "            denorm *= j\n",
    "            j+= 1\n",
    "        #print(numerator,denorm)\n",
    "        return numerator/denorm"
   ]
  },
  {
   "cell_type": "code",
   "execution_count": null,
   "metadata": {
    "collapsed": true
   },
   "outputs": [],
   "source": []
  },
  {
   "cell_type": "code",
   "execution_count": null,
   "metadata": {
    "collapsed": true
   },
   "outputs": [],
   "source": []
  },
  {
   "cell_type": "code",
   "execution_count": null,
   "metadata": {
    "collapsed": true
   },
   "outputs": [],
   "source": []
  },
  {
   "cell_type": "markdown",
   "metadata": {},
   "source": [
    "## 63. Unique Paths II\n",
    "\n",
    "A robot is located at the top-left corner of a *m x n* grid (marked 'Start' in the diagram below).\n",
    "\n",
    "The robot can only move either down or right at any point in time. The robot is trying to reach the bottom-right corner of the grid (marked 'Finish' in the diagram below).\n",
    "\n",
    "How many possible unique paths are there?\n",
    "\n",
    "<img src=\"https://leetcode.com/static/images/problemset/robot_maze.png\"/>\n",
    "\n",
    "An obstacle and empty space is marked as <code style=\"background-color: #F8F2F4; color: #B83650;\">&nbsp;1&nbsp;</code> and <code style=\"background-color: #F8F2F4; color: #B83650;\">&nbsp;0&nbsp;</code> respectively in the grid.\n",
    "\n",
    "<strong>Note:</strong> m and n will be at most 100.\n",
    "\n",
    "<p><strong>Example 1:</strong></p>\n",
    "<pre style=\"background-color:#F5F5F5; padding:10px; border: solid 1px #CCCCCC; boder-radius:5px;\">\n",
    "<strong>Input:</strong>\n",
    "[\n",
    "  [0,0,0],\n",
    "  [0,1,0],\n",
    "  [0,0,0]\n",
    "]\n",
    "<strong>Output:</strong> 2\n",
    "<strong>Explanation:</strong>\n",
    "There is one obstacle in the middle of the 3x3 grid above.\n",
    "There are two ways to reach the bottom-right corner:\n",
    "1. Right -> Right -> Down -> Down\n",
    "2. Down -> Down -> Right -> Right\n",
    "</pre>"
   ]
  },
  {
   "cell_type": "code",
   "execution_count": 11,
   "metadata": {
    "collapsed": true
   },
   "outputs": [],
   "source": [
    "class Solution:\n",
    "    def uniquePathsWithObstacles(self, obstacleGrid):\n",
    "        \"\"\"\n",
    "        :type obstacleGrid: List[List[int]]\n",
    "        :rtype: int\n",
    "        \"\"\"\n",
    "        if not obstacleGrid:\n",
    "            return False\n",
    "        n, m = len(obstacleGrid), len(obstacleGrid[0])\n",
    "        mat = [[-(x-1) for x in row] for row in obstacleGrid]\n",
    "        res = [[all(mat[i][:j+1]) if i==0 else all(mat[:i+1][j]) \\\n",
    "                if j==0 else mat[i][j] for j in range(m)] for i in range(n)]\n",
    "        \n",
    "        for i in range(1, n):\n",
    "            for j in range(1, m):\n",
    "                res[i][j] = res[i-1][j] + res[i][j-1]\n",
    "        return res[-1][-1]"
   ]
  },
  {
   "cell_type": "code",
   "execution_count": 14,
   "metadata": {},
   "outputs": [
    {
     "data": {
      "text/plain": [
       "0"
      ]
     },
     "execution_count": 14,
     "metadata": {},
     "output_type": "execute_result"
    }
   ],
   "source": [
    "obstacleGrid = [[0,0,0],[0,1,0],[0,0,0]]\n",
    "obstacleGrid = [[0,0],[1,1],[0,0]]\n",
    "obstacleGrid = [[0,1,0,0,0],[1,0,0,0,0],[0,0,0,0,0],[0,0,0,0,0]]\n",
    "Solution().uniquePathsWithObstacles(obs[tacleGrid)"
   ]
  },
  {
   "cell_type": "code",
   "execution_count": 26,
   "metadata": {
    "collapsed": true
   },
   "outputs": [],
   "source": [
    "class Solution:\n",
    "    def uniquePathsWithObstacles(self, obstacleGrid):\n",
    "        \"\"\"\n",
    "        :type obstacleGrid: List[List[int]]\n",
    "        :rtype: int\n",
    "        \"\"\"\n",
    "        if not obstacleGrid:\n",
    "            return False\n",
    "        n, m = len(obstacleGrid), len(obstacleGrid[0])\n",
    "        mat = [[-(x-1) for x in row] for row in obstacleGrid]\n",
    "        row, col = mat[0], [mat[i][0] for i in range(n)]\n",
    "        \n",
    "        try:\n",
    "            idx = row.index(0)\n",
    "            row = row[:idx] + [0]*len(row[idx:])\n",
    "        except: pass\n",
    "        \n",
    "        try:\n",
    "            idx = col.index(0)\n",
    "            col = col[:idx] + [0]*len(col[idx:])\n",
    "        except: pass\n",
    "        \n",
    "        res = [[row[j] if i==0 else col[i] if j==0 else mat[i][j] for j in range(m)] for i in range(n)]\n",
    "        for i in range(1, n):\n",
    "            for j in range(1, m):\n",
    "                res[i][j] = res[i-1][j] + res[i][j-1]\n",
    "        return res[-1][-1]"
   ]
  },
  {
   "cell_type": "code",
   "execution_count": 29,
   "metadata": {},
   "outputs": [
    {
     "data": {
      "text/plain": [
       "6"
      ]
     },
     "execution_count": 29,
     "metadata": {},
     "output_type": "execute_result"
    }
   ],
   "source": [
    "obstacleGrid = [[0,0,0],[0,1,0],[0,0,0]]\n",
    "obstacleGrid = [[0,0],[1,1],[0,0]]\n",
    "obstacleGrid = [[0,1,0,0,0],[1,0,0,0,0],[0,0,0,0,0],[0,0,0,0,0]]\n",
    "Solution().uniquePathsWithObstacles(obstacleGrid)"
   ]
  },
  {
   "cell_type": "code",
   "execution_count": 282,
   "metadata": {},
   "outputs": [
    {
     "data": {
      "text/plain": [
       "[0, 1, 1, 1, 1]"
      ]
     },
     "execution_count": 282,
     "metadata": {},
     "output_type": "execute_result"
    }
   ],
   "source": [
    "# 100% beating answer\n",
    "class Solution(object):\n",
    "    def uniquePathsWithObstacles(self, G):\n",
    "        \"\"\"\n",
    "        :type obstacleGrid: List[List[int]]\n",
    "        :rtype: int\n",
    "        \"\"\"\n",
    "        if not G or not G[0]:\n",
    "            return 0\n",
    "        M = len(G)\n",
    "        N = len(G[0])\n",
    "        dp = [0] * M\n",
    "        dp[0] = 1 - G[0][0]\n",
    "        for i in range(1,M):\n",
    "            if G[i][0] == 0:\n",
    "                dp[i] = dp[i - 1]\n",
    "        #print(dp)\n",
    "        for i in range(1,N):\n",
    "            if G[0][i] > 0:\n",
    "                dp[0] = 0\n",
    "            for j in range(1,M):\n",
    "                if G[j][i] > 0:\n",
    "                    dp[j] = 0\n",
    "                else:\n",
    "                    dp[j] = dp[j-1] + dp[j]\n",
    "            #print(dp)\n",
    "        return dp[-1]"
   ]
  },
  {
   "cell_type": "code",
   "execution_count": null,
   "metadata": {
    "collapsed": true
   },
   "outputs": [],
   "source": []
  },
  {
   "cell_type": "code",
   "execution_count": null,
   "metadata": {
    "collapsed": true
   },
   "outputs": [],
   "source": []
  },
  {
   "cell_type": "code",
   "execution_count": null,
   "metadata": {
    "collapsed": true
   },
   "outputs": [],
   "source": []
  },
  {
   "cell_type": "code",
   "execution_count": null,
   "metadata": {
    "collapsed": true
   },
   "outputs": [],
   "source": []
  },
  {
   "cell_type": "code",
   "execution_count": null,
   "metadata": {
    "collapsed": true
   },
   "outputs": [],
   "source": []
  },
  {
   "cell_type": "code",
   "execution_count": null,
   "metadata": {
    "collapsed": true
   },
   "outputs": [],
   "source": []
  },
  {
   "cell_type": "code",
   "execution_count": null,
   "metadata": {
    "collapsed": true
   },
   "outputs": [],
   "source": []
  },
  {
   "cell_type": "markdown",
   "metadata": {},
   "source": [
    "## 79. Word Search\n",
    "\n",
    "Given a 2D board and a word, find if the word exists in the grid.\n",
    "\n",
    "The word can be constructed from letters of sequentially adjacent cell, where \"adjacent\" cells are those horizontally or vertically neighboring. The same letter cell may not be used more than once.\n",
    "\n",
    "<p><strong>Example:</strong></p>\n",
    "<pre style=\"background-color:#F5F5F5; padding:10px; border: solid 1px #CCCCCC; boder-radius:5px;\">\n",
    "board =\n",
    "[\n",
    "  ['A','B','C','E'],\n",
    "  ['S','F','C','S'],\n",
    "  ['A','D','E','E']\n",
    "]\n",
    "\n",
    "Given word = \"<strong>ABCCED</strong>\", return <strong>true</strong>.\n",
    "Given word = \"<strong>SEE</strong>\", return <strong>true</strong>.\n",
    "Given word = \"<strong>ABCB</strong>\", return <strong>false</strong>.\n",
    "</pre>"
   ]
  },
  {
   "cell_type": "code",
   "execution_count": 3,
   "metadata": {
    "collapsed": true
   },
   "outputs": [],
   "source": [
    "class Solution:\n",
    "    def exist(self, board, word):\n",
    "        \"\"\"\n",
    "        :type board: List[List[str]]\n",
    "        :type word: str\n",
    "        :rtype: bool\n",
    "        \"\"\"\n",
    "        if not board:\n",
    "            return False\n",
    "        n, m = len(board), len(board[0])\n",
    "        \n",
    "        def _dfs(i, j, k, seen):\n",
    "            if k == len(word):\n",
    "                return True\n",
    "            for x,y in [(i-1,j), (i+1,j), (i,j-1), (i,j+1)]:\n",
    "                if x in range(n) and y in range(m):\n",
    "                    if (x,y) not in seen and board[x][y]==word[k]:\n",
    "                        seen += (x,y),\n",
    "                        if _dfs(x, y, k+1, seen):\n",
    "                            return True\n",
    "            seen.pop()\n",
    "            return False\n",
    "        \n",
    "        return not word or any(_dfs(i,j,1,[(i,j)]) for i in range(n) for j in range(m) if board[i][j]==word[0])"
   ]
  },
  {
   "cell_type": "code",
   "execution_count": 8,
   "metadata": {},
   "outputs": [
    {
     "data": {
      "text/plain": [
       "True"
      ]
     },
     "execution_count": 8,
     "metadata": {},
     "output_type": "execute_result"
    }
   ],
   "source": [
    "board = [['A','B','C','E'],['S','F','C','S'],['A','D','E','E']]\n",
    "word = 'ABCCED'\n",
    "word = 'SEE'\n",
    "word = 'ABCB'\n",
    "word = ''\n",
    "board = [[\"A\",\"B\",\"C\",\"E\"],[\"S\",\"F\",\"E\",\"S\"],[\"A\",\"D\",\"E\",\"E\"]]\n",
    "word = \"ABCESEEEFS\"\n",
    "Solution().exist(board, word)"
   ]
  },
  {
   "cell_type": "code",
   "execution_count": 9,
   "metadata": {
    "collapsed": true
   },
   "outputs": [],
   "source": [
    "# 100% beating answer\n",
    "class Solution(object):\n",
    "    def process(self,dic,word,stack=None,w=None):\n",
    "        \n",
    "        if word:\n",
    "            if stack:\n",
    "                if word[0] in dic:\n",
    "                    tmp = dic[w][:]\n",
    "                    tmp.remove(stack)\n",
    "                    for v in dic[word[0]]:\n",
    "                        if abs(v[0]-stack[0]) + abs(v[1]-stack[1]) == 1:\n",
    "                            tmp_dic = dic.copy()\n",
    "                            tmp_dic[w] = tmp\n",
    "                            if self.process(tmp_dic,word[1:],v,word[0]) == True:\n",
    "                                return True\n",
    "                return False\n",
    "            else:\n",
    "                if word[0] in dic:\n",
    "                    for s in dic[word[0]]:\n",
    "                        if self.process(dic,word[1:],s,word[0]) == True:\n",
    "                            return True\n",
    "                return False \n",
    "        else:\n",
    "            return True\n",
    "            \n",
    "    def exist(self, board, word):\n",
    "        \"\"\"\n",
    "        :type board: List[List[str]]\n",
    "        :type word: str\n",
    "        :rtype: bool\n",
    "        \"\"\"\n",
    "        if not word:\n",
    "            return True\n",
    "        if not board or not board[0]:\n",
    "            return False\n",
    "        m, n = len(board), len(board[0])\n",
    "        if len(word) > m*n:\n",
    "            return False\n",
    "        all_set = []\n",
    "        for row in board:\n",
    "            for num in row:\n",
    "                all_set.append(num)\n",
    "        for w in word:\n",
    "            if w not in all_set:\n",
    "                return False\n",
    "            else:\n",
    "                all_set.remove(w)\n",
    "        \n",
    "        def check(b, i, j, word):\n",
    "            if not word: return True\n",
    "            res = False\n",
    "            temp = b[i][j]\n",
    "            b[i][j] = ''\n",
    "            if i > 0 and b[i-1][j] == word[0]:\n",
    "                res = res or check(b, i-1, j, word[1:])\n",
    "            if j > 0 and b[i][j-1] == word[0]:\n",
    "                res = res or check(b, i, j-1, word[1:])\n",
    "            if j < n - 1 and b[i][j+1] == word[0]:\n",
    "                res = res or check(b, i, j+1, word[1:])\n",
    "            if i < m - 1 and b[i+1][j] == word[0]:\n",
    "                res = res or check(b, i+1, j, word[1:])\n",
    "            b[i][j] = temp\n",
    "            return res\n",
    "\n",
    "        for i in range(m):\n",
    "            for j in range(n):\n",
    "                if board[i][j] == word[0] and check(board,i,j,word[1:]):\n",
    "                    return True\n",
    "        return False"
   ]
  },
  {
   "cell_type": "code",
   "execution_count": 10,
   "metadata": {
    "collapsed": true
   },
   "outputs": [],
   "source": [
    "# 100% beating answer\n",
    "class Solution(object):\n",
    "    def check(self, board, word):\n",
    "        b = []\n",
    "        w = []\n",
    "        for row in range(len(board)):\n",
    "            for col in range(len(board[0])):\n",
    "                b.append(board[row][col])\n",
    "                \n",
    "        for i in word:\n",
    "            w.append(i)\n",
    "        i = 0\n",
    "        while i in range(len(w)):\n",
    "            if w[i] in b:\n",
    "                b.remove(w[i])\n",
    "                w.remove(w[i])\n",
    "            else:\n",
    "                return False\n",
    "        if not w:\n",
    "            return True\n",
    "        else:\n",
    "            return False\n",
    "    \n",
    "    def dfs(self, board, word, row, col):\n",
    "        first = word[0]\n",
    "        word = word[1:]\n",
    "        if len(word) == 0:\n",
    "            return True\n",
    "        board[row][col] = ' '\n",
    "        row_next = row + 1\n",
    "        row_last = row - 1\n",
    "        col_next = col + 1\n",
    "        col_last = col - 1\n",
    "        if row_next < len(board) and word[0] == board[row_next][col]:\n",
    "            if self.dfs(board, word, row_next, col):\n",
    "                return True\n",
    "        if row_last >= 0 and word[0] == board[row_last][col]:\n",
    "            if self.dfs(board, word, row_last, col):\n",
    "                return True\n",
    "        if col_next < len(board[0]) and word[0] == board[row][col_next]:\n",
    "            if self.dfs(board, word, row, col_next):\n",
    "                return True\n",
    "        if col_last >= 0 and word[0] == board[row][col_last]:\n",
    "            if self.dfs(board, word, row, col_last):\n",
    "                return True\n",
    "        board[row][col] = first\n",
    "        return False\n",
    "    \n",
    "    def exist(self, board, word):\n",
    "        \"\"\"\n",
    "        :type board: List[List[str]]\n",
    "        :type word: str\n",
    "        :rtype: bool\n",
    "        \"\"\"\n",
    "        if not word:\n",
    "            return True\n",
    "        if not board or len(board) == 0 or len(board[0]) == 0:\n",
    "            return False\n",
    "        if len(word) > len(board)*len(board[0]):\n",
    "            return False\n",
    "        if self.check(board, word) == False:\n",
    "            return False\n",
    "        for i in range(len(board)):\n",
    "            for j in range(len(board[0])):\n",
    "                if word[0] == board[i][j]:\n",
    "                    if self.dfs(board, word, i, j):\n",
    "                        return True\n",
    "        return False"
   ]
  },
  {
   "cell_type": "code",
   "execution_count": null,
   "metadata": {
    "collapsed": true
   },
   "outputs": [],
   "source": []
  },
  {
   "cell_type": "code",
   "execution_count": null,
   "metadata": {
    "collapsed": true
   },
   "outputs": [],
   "source": []
  },
  {
   "cell_type": "code",
   "execution_count": null,
   "metadata": {
    "collapsed": true
   },
   "outputs": [],
   "source": []
  },
  {
   "cell_type": "code",
   "execution_count": null,
   "metadata": {
    "collapsed": true
   },
   "outputs": [],
   "source": []
  },
  {
   "cell_type": "code",
   "execution_count": null,
   "metadata": {
    "collapsed": true
   },
   "outputs": [],
   "source": []
  },
  {
   "cell_type": "code",
   "execution_count": null,
   "metadata": {
    "collapsed": true
   },
   "outputs": [],
   "source": []
  },
  {
   "cell_type": "code",
   "execution_count": null,
   "metadata": {
    "collapsed": true
   },
   "outputs": [],
   "source": []
  },
  {
   "cell_type": "code",
   "execution_count": null,
   "metadata": {
    "collapsed": true
   },
   "outputs": [],
   "source": []
  },
  {
   "cell_type": "code",
   "execution_count": null,
   "metadata": {
    "collapsed": true
   },
   "outputs": [],
   "source": []
  },
  {
   "cell_type": "code",
   "execution_count": null,
   "metadata": {
    "collapsed": true
   },
   "outputs": [],
   "source": []
  },
  {
   "cell_type": "code",
   "execution_count": null,
   "metadata": {
    "collapsed": true
   },
   "outputs": [],
   "source": []
  },
  {
   "cell_type": "code",
   "execution_count": null,
   "metadata": {
    "collapsed": true
   },
   "outputs": [],
   "source": []
  },
  {
   "cell_type": "markdown",
   "metadata": {
    "collapsed": true
   },
   "source": [
    "## 89. Gray Code\n",
    "\n",
    "The gray code is a binary numeral system where two successive values differ in only one bit.\n",
    "\n",
    "Given a non-negative integer n representing the total number of bits in the code, print the sequence of gray code. A gray code sequence must begin with 0.\n",
    "\n",
    "**Example 1:**\n",
    "Input: 2, Output: [0,1,3,2]\n",
    "\n",
    "Explanation:\n",
    "\n",
    "00 - 0\n",
    "\n",
    "01 - 1\n",
    "\n",
    "11 - 3\n",
    "\n",
    "10 - 2\n",
    "\n",
    "For a given n, a gray code sequence may not be uniquely defined. \n",
    "For example, [0,2,3,1] is also a valid gray code sequence.\n",
    "\n",
    "00 - 0\n",
    "\n",
    "10 - 2\n",
    "\n",
    "11 - 3\n",
    "\n",
    "01 - 1\n",
    "\n",
    "**Example 2:**\n",
    "Input: 0, Output: [0]\n",
    "\n",
    "Explanation: We define the gray code sequence to begin with 0. A gray code sequence of n has size = 2n, which for n = 0 the size is 20 = 1. Therefore, for n = 0 the gray code sequence is [0]."
   ]
  },
  {
   "cell_type": "code",
   "execution_count": 135,
   "metadata": {},
   "outputs": [
    {
     "data": {
      "text/plain": [
       "[0, 1, 3, 2, 6, 7, 5, 4]"
      ]
     },
     "execution_count": 135,
     "metadata": {},
     "output_type": "execute_result"
    }
   ],
   "source": [
    "def findSequence(n):\n",
    "\n",
    "    result = [0]\n",
    "    for i in range(n):\n",
    "        result += [x+2**i for x in result[-1::-1]]\n",
    "    return result\n",
    "\n",
    "findSequence(3)"
   ]
  },
  {
   "cell_type": "code",
   "execution_count": null,
   "metadata": {
    "collapsed": true
   },
   "outputs": [],
   "source": []
  },
  {
   "cell_type": "code",
   "execution_count": 136,
   "metadata": {
    "collapsed": true
   },
   "outputs": [],
   "source": [
    "# return a list integers\n",
    "class Solution:\n",
    "    '''\n",
    "    n=0: [0] <-- base case\n",
    "    n=1: [0,1] == [0,0+2^0] <-- i=0\n",
    "    n=2: [0,1,3,2] == [0,1,1+2^1,0+2^1] <-- i=1\n",
    "    n=3: [0,1,3,2,6,7,5,4] == [0,1,3,2,2+2^2,3+2^2,1+2^2,0+2^2] <-- i=2\n",
    "    '''\n",
    "    def grayCode(self, n):\n",
    "        \"\"\"\n",
    "        :type n: int\n",
    "        :rtype: List[int]\n",
    "        \"\"\"\n",
    "        result = [0]\n",
    "        for i in range(n):\n",
    "            result += [x + 2**i for x in result[-1::-1]]\n",
    "        return result"
   ]
  },
  {
   "cell_type": "code",
   "execution_count": 137,
   "metadata": {},
   "outputs": [
    {
     "name": "stdout",
     "output_type": "stream",
     "text": [
      "[0, 1, 3, 2, 6, 7, 5, 4]\n"
     ]
    }
   ],
   "source": [
    "print(Solution().grayCode(3))"
   ]
  },
  {
   "cell_type": "code",
   "execution_count": null,
   "metadata": {
    "collapsed": true
   },
   "outputs": [],
   "source": []
  },
  {
   "cell_type": "code",
   "execution_count": null,
   "metadata": {
    "collapsed": true
   },
   "outputs": [],
   "source": []
  },
  {
   "cell_type": "code",
   "execution_count": null,
   "metadata": {
    "collapsed": true
   },
   "outputs": [],
   "source": []
  },
  {
   "cell_type": "code",
   "execution_count": null,
   "metadata": {
    "collapsed": true
   },
   "outputs": [],
   "source": []
  },
  {
   "cell_type": "code",
   "execution_count": null,
   "metadata": {
    "collapsed": true
   },
   "outputs": [],
   "source": []
  },
  {
   "cell_type": "markdown",
   "metadata": {},
   "source": [
    "## 93. Restore IP Addresses\n",
    "\n",
    "Given a string containing only digits, restore it by returning all possible valid IP address combinations.\n",
    "\n",
    "<p><strong>Example:</strong></p>\n",
    "<pre style=\"background-color:#F5F5F5; padding:10px; border:solid 1px #CCCCCC; border-raduis:5px;\">\n",
    "<strong>Input:</strong> \"25525511135\"\n",
    "<strong>Output:</strong> [\"255.255.11.135\", \"255.255.111.35\"]\n",
    "</pre>"
   ]
  },
  {
   "cell_type": "code",
   "execution_count": null,
   "metadata": {
    "collapsed": true
   },
   "outputs": [],
   "source": [
    "class Solution:\n",
    "    def restoreIpAddresses(self, s):\n",
    "        \"\"\"\n",
    "        :type s: str\n",
    "        :rtype: List[str]\n",
    "        \"\"\"\n",
    "        result = []\n",
    "        self._traversal(s, 0, '', result)\n",
    "        return result\n",
    "        \n",
    "    def _traversal(self s, p, string, result):\n",
    "        if p == 4:\n",
    "            pass\n",
    "        for i in range(1, 4):\n",
    "            if i <= len(s):\n",
    "                if int(s[:i]) <= 255:\n",
    "                    self._traversal(s[i:], p+1, string+'.'+s[:i], result)\n",
    "                if \n",
    "            \n",
    "        \n",
    "        "
   ]
  },
  {
   "cell_type": "code",
   "execution_count": 48,
   "metadata": {
    "collapsed": true
   },
   "outputs": [],
   "source": [
    "class Solution:\n",
    "    def dfs(self, s, sub, ips, ip):\n",
    "        if sub == 4:                                        # should be 4 parts\n",
    "            if s == '':\n",
    "                ips.append(ip[1:])                          # remove first '.'\n",
    "            return\n",
    "        for i in range(1, 4):                               # the three ifs' order cannot be changed!\n",
    "            if i <= len(s):                                 # if i > len(s), s[:i] will make false!!!!\n",
    "                if int(s[:i]) <= 255:\n",
    "                    self.dfs(s[i:], sub+1, ips, ip+'.'+s[:i])\n",
    "                if s[0] == '0': break                       # make sure that res just can be '0.0.0.0' and remove like '00'\n",
    "    def restoreIpAddresses(self, s):\n",
    "        ips = []\n",
    "        self.dfs(s, 0, ips, '')\n",
    "        return ips"
   ]
  },
  {
   "cell_type": "code",
   "execution_count": 50,
   "metadata": {},
   "outputs": [
    {
     "data": {
      "text/plain": [
       "[]"
      ]
     },
     "execution_count": 50,
     "metadata": {},
     "output_type": "execute_result"
    }
   ],
   "source": [
    "Solution().restoreIpAddresses('0')"
   ]
  },
  {
   "cell_type": "code",
   "execution_count": null,
   "metadata": {
    "collapsed": true
   },
   "outputs": [],
   "source": []
  },
  {
   "cell_type": "code",
   "execution_count": null,
   "metadata": {
    "collapsed": true
   },
   "outputs": [],
   "source": []
  },
  {
   "cell_type": "code",
   "execution_count": null,
   "metadata": {
    "collapsed": true
   },
   "outputs": [],
   "source": []
  },
  {
   "cell_type": "code",
   "execution_count": null,
   "metadata": {
    "collapsed": true
   },
   "outputs": [],
   "source": []
  },
  {
   "cell_type": "code",
   "execution_count": null,
   "metadata": {
    "collapsed": true
   },
   "outputs": [],
   "source": []
  },
  {
   "cell_type": "markdown",
   "metadata": {},
   "source": [
    "## 112. Path Sum\n",
    "\n",
    "Given a binary tree and a sum, determine if the tree has a root-to-leaf path such that adding up all the values along the path equals the given sum.\n",
    "\n",
    "Note: A leaf is a node with no children.\n",
    "\n",
    "**Example:**\n",
    "\n",
    "Given the below binary tree and sum = 22,\n",
    "\n",
    "&emsp;&emsp;&emsp;&emsp;&emsp;**5**<br/>\n",
    "&emsp;&emsp;&emsp;&emsp;&nbsp;**/**&nbsp;&nbsp;&nbsp;\\<br/>\n",
    "&emsp;&emsp;&emsp;&nbsp;&nbsp;**4**&emsp;&nbsp;&nbsp;8<br/>\n",
    "&emsp;&emsp;&emsp;**/**&emsp;&emsp;&nbsp;/&nbsp;&nbsp;&nbsp;\\<br/>\n",
    "&emsp;&emsp;**11**&nbsp;&nbsp;&nbsp;&nbsp;13&emsp;&nbsp;&nbsp;4<br/>\n",
    "&emsp;&nbsp;&nbsp;/&nbsp;&nbsp;&nbsp;**\\\\**&emsp;&emsp;&emsp;&emsp;&nbsp;&nbsp;&nbsp;\\<br/>\n",
    "&emsp;7&emsp;&emsp;**2**&emsp;&emsp;&emsp;&emsp;&nbsp;&nbsp;1<br/>\n",
    "\n",
    "return true, as there exist a root-to-leaf path 5->4->11->2 which sum is 22."
   ]
  },
  {
   "cell_type": "code",
   "execution_count": 270,
   "metadata": {},
   "outputs": [
    {
     "name": "stdout",
     "output_type": "stream",
     "text": [
      "True\n"
     ]
    }
   ],
   "source": [
    "# Definition for a binary tree node.\n",
    "class TreeNode:\n",
    "    def __init__(self, x):\n",
    "        self.val = x\n",
    "        self.left = None\n",
    "        self.right = None\n",
    "\n",
    "class Solution:\n",
    "    def hasPathSum(self, root, summ):\n",
    "        \"\"\"\n",
    "        :type root: TreeNode\n",
    "        :type sum: int\n",
    "        :rtype: bool\n",
    "        \"\"\"\n",
    "        if not root:\n",
    "            return False\n",
    "        \n",
    "        elif not (root.left or root.right) and summ == root.val:\n",
    "            return True\n",
    "\n",
    "        summ -= root.val\n",
    "        \n",
    "        return self.hasPathSum(root.left, summ) or self.hasPathSum(root.right, summ)\n",
    "    \n",
    "def str2node(input):\n",
    "    if not input:\n",
    "        return\n",
    "    \n",
    "    inputvalue = [x.strip() for x in input.split(',')]\n",
    "    item = inputvalue[0]\n",
    "    root = None\n",
    "    if item != 'null':\n",
    "        root = TreeNode(int(item))\n",
    "        nodeq = [root]\n",
    "    i, nodei = 1, 0\n",
    "    while i < len(inputvalue):\n",
    "        node = nodeq[nodei]\n",
    "        nodei += 1\n",
    "        item = inputvalue[i]\n",
    "        i += 1\n",
    "        if item != 'null':\n",
    "            nodevalue = int(item)\n",
    "            node.left = TreeNode(nodevalue)\n",
    "            nodeq.append(node.left)\n",
    "        if i >= len(inputvalue):\n",
    "            break\n",
    "        item = inputvalue[i]\n",
    "        i += 1\n",
    "        if item != 'null':\n",
    "            nodevalue = int(item)\n",
    "            node.right = TreeNode(nodevalue)\n",
    "            nodeq.append(node.right)\n",
    "    return root\n",
    "\n",
    "if __name__ == '__main__':\n",
    "    input = '5, 4, 8, 11, null, 13, 4, 7, 2, null, null, null, 1'\n",
    "    summ = 22\n",
    "    root = str2node(input)\n",
    "    res = Solution().hasPathSum(root, summ)\n",
    "    print(res)"
   ]
  },
  {
   "cell_type": "code",
   "execution_count": null,
   "metadata": {
    "collapsed": true
   },
   "outputs": [],
   "source": []
  },
  {
   "cell_type": "markdown",
   "metadata": {
    "collapsed": true
   },
   "source": [
    "# 113. Path Sum II\n",
    "\n",
    "Given a binary tree and a sum, find all root-to-leaf paths where each path's sum equals the given sum.\n",
    "\n",
    "Note: A leaf is a node with no children.\n",
    "\n",
    "**Example:**\n",
    "\n",
    "Given the below binary tree and sum = 22,\n",
    "\n",
    "&emsp;&emsp;&emsp;&emsp;&emsp;**5**<br/>\n",
    "&emsp;&emsp;&emsp;&emsp;&nbsp;**/**&nbsp;&nbsp;&nbsp;**\\\\**<br/>\n",
    "&emsp;&emsp;&emsp;&nbsp;&nbsp;**4**&emsp;&nbsp;&nbsp;**8**<br/>\n",
    "&emsp;&emsp;&emsp;**/**&emsp;&emsp;&nbsp;/&nbsp;&nbsp;&nbsp;**\\\\**<br/>\n",
    "&emsp;&emsp;**11**&nbsp;&nbsp;&nbsp;&nbsp;13&emsp;&nbsp;&nbsp;**4**<br/>\n",
    "&emsp;&nbsp;&nbsp;/&nbsp;&nbsp;&nbsp;**\\\\**&emsp;&emsp;&emsp;&nbsp;&nbsp;**/**&nbsp;&nbsp;&nbsp;\\<br/>\n",
    "&emsp;7&emsp;&emsp;**2**&emsp;&emsp;**5**&emsp;&emsp;1<br/>\n",
    "\n",
    "Return:\n",
    "\n",
    "[\n",
    "   [5,4,11,2],\n",
    "   [5,8,4,5]\n",
    "]"
   ]
  },
  {
   "cell_type": "code",
   "execution_count": 274,
   "metadata": {},
   "outputs": [
    {
     "name": "stdout",
     "output_type": "stream",
     "text": [
      "[[5, 4, 11, 2], [5, 8, 4, 5]]\n"
     ]
    }
   ],
   "source": [
    "# Definition for a binary tree node.\n",
    "class TreeNode:\n",
    "    def __init__(self, x):\n",
    "        self.val = x\n",
    "        self.left = None\n",
    "        self.right = None\n",
    "\n",
    "class Solution:\n",
    "    def pathSum(self, root, summ):\n",
    "        \"\"\"\n",
    "        :type root: TreeNode\n",
    "        :type sum: int\n",
    "        :rtype: List[List[int]]\n",
    "        \"\"\"\n",
    "        if not root:\n",
    "            return []\n",
    "        res = []\n",
    "        self.helper(root, summ, [], res)\n",
    "        return res\n",
    "    \n",
    "    def helper(self, root, summ, ls, res):\n",
    "        if not (root.left or root.right) and root.val == summ:\n",
    "            ls.append(root.val)\n",
    "            res.append(ls)\n",
    "        if root.left:\n",
    "            self.helper(root.left, summ-root.val, ls+[root.val], res)\n",
    "        if root.right:\n",
    "            self.helper(root.right, summ-root.val, ls+[root.val], res)\n",
    "            \n",
    "def str2node(inputt):\n",
    "    if not inputt:\n",
    "        return\n",
    "    \n",
    "    root = None\n",
    "    inputvalue = [x.strip() for x in inputt.split(',')]\n",
    "    item = inputvalue[0]\n",
    "    if item != 'null':\n",
    "        nodevalue = int(item)\n",
    "        root = TreeNode(nodevalue)\n",
    "        nodeq = [root]\n",
    "    i, nodei = 1, 0\n",
    "    while i < len(inputvalue):\n",
    "        node = nodeq[nodei]\n",
    "        nodei += 1\n",
    "        item = inputvalue[i]\n",
    "        i += 1\n",
    "        if item != 'null':\n",
    "            nodevalue = int(item)\n",
    "            node.left = TreeNode(nodevalue)\n",
    "            nodeq.append(node.left)\n",
    "        if i >= len(inputvalue):\n",
    "            break\n",
    "        item = inputvalue[i]\n",
    "        i += 1\n",
    "        if item != 'null':\n",
    "            nodevalue = int(item)\n",
    "            node.right = TreeNode(nodevalue)\n",
    "            nodeq.append(node.right)\n",
    "            \n",
    "    return root\n",
    "\n",
    "if __name__ == '__main__':\n",
    "    inputt = '5, 4, 8, 11, null, 13, 4, 7, 2, null, null, null, 5, 1'\n",
    "    summ = 22\n",
    "    root = str2node(inputt)\n",
    "    print(Solution().pathSum(root, summ))"
   ]
  },
  {
   "cell_type": "code",
   "execution_count": null,
   "metadata": {
    "collapsed": true
   },
   "outputs": [],
   "source": [
    "# Definition for a binary tree node.\n",
    "class TreeNode:\n",
    "    def __init__(self, x):\n",
    "        self.val = x\n",
    "        self.left = None\n",
    "        self.right = None\n",
    "\n",
    "class Solution:\n",
    "    def pathSum(self, root, summ):\n",
    "        \"\"\"\n",
    "        :type root: TreeNode\n",
    "        :type sum: int\n",
    "        :rtype: List[List[int]]\n",
    "        \"\"\"\n",
    "        if not root:\n",
    "            return\n",
    "        \n",
    "        res = []\n",
    "        self.helper(root, summ, [], res)\n",
    "        return res\n",
    "    \n",
    "    def helper(self, root, summ, ls, res):\n",
    "        if not (root.left or root.right) and summ == root.val:\n",
    "            ls.append(root.val)\n",
    "            res.append(ls)\n",
    "        if root.left:\n",
    "            \n",
    "        "
   ]
  },
  {
   "cell_type": "code",
   "execution_count": null,
   "metadata": {
    "collapsed": true
   },
   "outputs": [],
   "source": []
  },
  {
   "cell_type": "code",
   "execution_count": null,
   "metadata": {
    "collapsed": true
   },
   "outputs": [],
   "source": []
  },
  {
   "cell_type": "code",
   "execution_count": null,
   "metadata": {
    "collapsed": true
   },
   "outputs": [],
   "source": []
  },
  {
   "cell_type": "code",
   "execution_count": null,
   "metadata": {
    "collapsed": true
   },
   "outputs": [],
   "source": []
  },
  {
   "cell_type": "code",
   "execution_count": null,
   "metadata": {
    "collapsed": true
   },
   "outputs": [],
   "source": []
  },
  {
   "cell_type": "markdown",
   "metadata": {},
   "source": [
    "## 141. Linked List Cycle\n",
    "\n",
    "Given a linked list, determine if it has a cycle in it.\n",
    "\n",
    "Follow up:\n",
    "Can you solve it without using extra space?"
   ]
  },
  {
   "cell_type": "code",
   "execution_count": null,
   "metadata": {
    "collapsed": true
   },
   "outputs": [],
   "source": [
    "class ListNode(object):\n",
    "    def __init__(self, x):\n",
    "        self.val = x\n",
    "        self.next = None\n",
    "\n",
    "class Solution(object):\n",
    "    def hasCycle(self, head):\n",
    "        \"\"\"\n",
    "        :type head: ListNode\n",
    "        :rtype: bool\n",
    "        \"\"\"\n",
    "        "
   ]
  },
  {
   "cell_type": "code",
   "execution_count": null,
   "metadata": {
    "collapsed": true
   },
   "outputs": [],
   "source": []
  },
  {
   "cell_type": "code",
   "execution_count": null,
   "metadata": {
    "collapsed": true
   },
   "outputs": [],
   "source": []
  },
  {
   "cell_type": "code",
   "execution_count": null,
   "metadata": {
    "collapsed": true
   },
   "outputs": [],
   "source": []
  },
  {
   "cell_type": "code",
   "execution_count": null,
   "metadata": {
    "collapsed": true
   },
   "outputs": [],
   "source": []
  },
  {
   "cell_type": "code",
   "execution_count": null,
   "metadata": {
    "collapsed": true
   },
   "outputs": [],
   "source": []
  },
  {
   "cell_type": "markdown",
   "metadata": {
    "collapsed": true
   },
   "source": [
    "## 206. Reverse Linked List\n",
    "\n",
    "Reverse a singly linked list.\n",
    "\n",
    "<p><strong>Example:</strong></p>\n",
    "<pre style=\"background-color:#F5F5F5; padding:10px; border:solid 1px #CCCCCC; border-radius:5px;\">\n",
    "<strong>Input:</strong> 1->2->3->4->5->NULL\n",
    "<strong>Output:</strong> 5->4->3->2->1->NULL\n",
    "</pre>\n",
    "\n",
    "<strong>Follow up:</strong>\n",
    "\n",
    "A linked list can be reversed either iteratively or recursively. Could you implement both?"
   ]
  },
  {
   "cell_type": "code",
   "execution_count": null,
   "metadata": {
    "collapsed": true
   },
   "outputs": [],
   "source": []
  },
  {
   "cell_type": "code",
   "execution_count": null,
   "metadata": {
    "collapsed": true
   },
   "outputs": [],
   "source": []
  },
  {
   "cell_type": "code",
   "execution_count": null,
   "metadata": {
    "collapsed": true
   },
   "outputs": [],
   "source": []
  },
  {
   "cell_type": "code",
   "execution_count": null,
   "metadata": {
    "collapsed": true
   },
   "outputs": [],
   "source": []
  },
  {
   "cell_type": "code",
   "execution_count": null,
   "metadata": {
    "collapsed": true
   },
   "outputs": [],
   "source": []
  },
  {
   "cell_type": "code",
   "execution_count": null,
   "metadata": {
    "collapsed": true
   },
   "outputs": [],
   "source": []
  },
  {
   "cell_type": "code",
   "execution_count": null,
   "metadata": {
    "collapsed": true
   },
   "outputs": [],
   "source": []
  },
  {
   "cell_type": "code",
   "execution_count": null,
   "metadata": {
    "collapsed": true
   },
   "outputs": [],
   "source": []
  },
  {
   "cell_type": "code",
   "execution_count": 53,
   "metadata": {
    "collapsed": true
   },
   "outputs": [],
   "source": [
    "# recursive method\n",
    "class ListNode:\n",
    "    def __init__(self, x):\n",
    "        self.val = x\n",
    "        self.next = None\n",
    "\n",
    "class Solution:\n",
    "    def reverseList(self, head):\n",
    "        \"\"\"\n",
    "        :type head: ListNode\n",
    "        :rtype: ListNode\n",
    "        \"\"\"\n",
    "        pre = None\n",
    "        while head:\n",
    "            head.next, head, pre = pre, head.next, head\n",
    "        return pre"
   ]
  },
  {
   "cell_type": "code",
   "execution_count": 54,
   "metadata": {},
   "outputs": [
    {
     "data": {
      "text/plain": [
       "'5, 4, 3, 2, 1'"
      ]
     },
     "execution_count": 54,
     "metadata": {},
     "output_type": "execute_result"
    }
   ],
   "source": [
    "def string2ListNode(inputt):\n",
    "    if not inputt:\n",
    "        return\n",
    "    nums = [int(x.strip()) for x in inputt.split(',')]\n",
    "    dummy = cur = ListNode(0)\n",
    "    for x in nums:\n",
    "        cur.next = ListNode(x)\n",
    "        cur = cur.next\n",
    "    return dummy.next\n",
    "\n",
    "def listNode2String(node):\n",
    "    if not node:\n",
    "        return ''\n",
    "    result = ''\n",
    "    while node:\n",
    "        result += (str(node.val) + ', ')\n",
    "        node = node.next\n",
    "    return result.strip(', ')\n",
    "\n",
    "head = string2ListNode('1,2,3,4,5')\n",
    "res = Solution().reverseList(head)\n",
    "listNode2String(res)"
   ]
  },
  {
   "cell_type": "code",
   "execution_count": null,
   "metadata": {
    "collapsed": true
   },
   "outputs": [],
   "source": [
    "# interactive method\n",
    "class ListNode:\n",
    "    def __init__(self, x):\n",
    "        self.val = x\n",
    "        self.next = None\n",
    "\n",
    "class Solution:\n",
    "    def reverseList(self, head):\n",
    "        \"\"\"\n",
    "        :type head: ListNode\n",
    "        :rtype: ListNode\n",
    "        \"\"\"\n",
    "        self._traversal(head)\n",
    "        \n",
    "    def _traversal(self, node, pre=None):\n",
    "        if not node:\n",
    "            return pre\n",
    "        return self._traversal(node.next, node)"
   ]
  },
  {
   "cell_type": "code",
   "execution_count": 44,
   "metadata": {},
   "outputs": [
    {
     "ename": "AttributeError",
     "evalue": "'Solution' object has no attribute 'val'",
     "output_type": "error",
     "traceback": [
      "\u001b[0;31m---------------------------------------------------------------------------\u001b[0m",
      "\u001b[0;31mAttributeError\u001b[0m                            Traceback (most recent call last)",
      "\u001b[0;32m<ipython-input-44-b51d8aa54888>\u001b[0m in \u001b[0;36m<module>\u001b[0;34m()\u001b[0m\n\u001b[1;32m     20\u001b[0m \u001b[0mhead\u001b[0m \u001b[0;34m=\u001b[0m \u001b[0mstring2ListNode\u001b[0m\u001b[0;34m(\u001b[0m\u001b[0;34m'1,2,3,4,5'\u001b[0m\u001b[0;34m)\u001b[0m\u001b[0;34m\u001b[0m\u001b[0m\n\u001b[1;32m     21\u001b[0m \u001b[0mres\u001b[0m \u001b[0;34m=\u001b[0m \u001b[0mSolution\u001b[0m\u001b[0;34m(\u001b[0m\u001b[0;34m)\u001b[0m\u001b[0;34m.\u001b[0m\u001b[0mreverseList\u001b[0m\u001b[0;34m(\u001b[0m\u001b[0mhead\u001b[0m\u001b[0;34m)\u001b[0m\u001b[0;34m\u001b[0m\u001b[0m\n\u001b[0;32m---> 22\u001b[0;31m \u001b[0mlistNode2String\u001b[0m\u001b[0;34m(\u001b[0m\u001b[0mres\u001b[0m\u001b[0;34m)\u001b[0m\u001b[0;34m\u001b[0m\u001b[0m\n\u001b[0m",
      "\u001b[0;32m<ipython-input-44-b51d8aa54888>\u001b[0m in \u001b[0;36mlistNode2String\u001b[0;34m(node)\u001b[0m\n\u001b[1;32m     14\u001b[0m     \u001b[0mresult\u001b[0m \u001b[0;34m=\u001b[0m \u001b[0;34m''\u001b[0m\u001b[0;34m\u001b[0m\u001b[0m\n\u001b[1;32m     15\u001b[0m     \u001b[0;32mwhile\u001b[0m \u001b[0mnode\u001b[0m\u001b[0;34m:\u001b[0m\u001b[0;34m\u001b[0m\u001b[0m\n\u001b[0;32m---> 16\u001b[0;31m         \u001b[0mresult\u001b[0m \u001b[0;34m+=\u001b[0m \u001b[0;34m(\u001b[0m\u001b[0mstr\u001b[0m\u001b[0;34m(\u001b[0m\u001b[0mnode\u001b[0m\u001b[0;34m.\u001b[0m\u001b[0mval\u001b[0m\u001b[0;34m)\u001b[0m \u001b[0;34m+\u001b[0m \u001b[0;34m', '\u001b[0m\u001b[0;34m)\u001b[0m\u001b[0;34m\u001b[0m\u001b[0m\n\u001b[0m\u001b[1;32m     17\u001b[0m         \u001b[0mnode\u001b[0m \u001b[0;34m=\u001b[0m \u001b[0mnode\u001b[0m\u001b[0;34m.\u001b[0m\u001b[0mnext\u001b[0m\u001b[0;34m\u001b[0m\u001b[0m\n\u001b[1;32m     18\u001b[0m     \u001b[0;32mreturn\u001b[0m \u001b[0mresult\u001b[0m\u001b[0;34m.\u001b[0m\u001b[0mstrip\u001b[0m\u001b[0;34m(\u001b[0m\u001b[0;34m', '\u001b[0m\u001b[0;34m)\u001b[0m\u001b[0;34m\u001b[0m\u001b[0m\n",
      "\u001b[0;31mAttributeError\u001b[0m: 'Solution' object has no attribute 'val'"
     ]
    }
   ],
   "source": [
    "def string2ListNode(inputt):\n",
    "    if not inputt:\n",
    "        return\n",
    "    nums = [int(x.strip()) for x in inputt.split(',')]\n",
    "    dummy = cur = ListNode(0)\n",
    "    for x in nums:\n",
    "        cur.next = ListNode(x)\n",
    "        cur = cur.next\n",
    "    return dummy.next\n",
    "\n",
    "def listNode2String(node):\n",
    "    if not node:\n",
    "        return ''\n",
    "    result = ''\n",
    "    while node:\n",
    "        result += (str(node.val) + ', ')\n",
    "        node = node.next\n",
    "    return result.strip(', ')\n",
    "\n",
    "head = string2ListNode('1,2,3,4,5')\n",
    "res = Solution().reverseList(head)\n",
    "listNode2String(res)"
   ]
  },
  {
   "cell_type": "code",
   "execution_count": null,
   "metadata": {
    "collapsed": true
   },
   "outputs": [],
   "source": []
  },
  {
   "cell_type": "code",
   "execution_count": null,
   "metadata": {
    "collapsed": true
   },
   "outputs": [],
   "source": []
  },
  {
   "cell_type": "code",
   "execution_count": null,
   "metadata": {
    "collapsed": true
   },
   "outputs": [],
   "source": []
  },
  {
   "cell_type": "code",
   "execution_count": null,
   "metadata": {
    "collapsed": true
   },
   "outputs": [],
   "source": []
  },
  {
   "cell_type": "code",
   "execution_count": null,
   "metadata": {
    "collapsed": true
   },
   "outputs": [],
   "source": []
  },
  {
   "cell_type": "code",
   "execution_count": null,
   "metadata": {
    "collapsed": true
   },
   "outputs": [],
   "source": []
  },
  {
   "cell_type": "code",
   "execution_count": null,
   "metadata": {
    "collapsed": true
   },
   "outputs": [],
   "source": []
  },
  {
   "cell_type": "markdown",
   "metadata": {},
   "source": [
    "## 215. Kth Largest Element in an Array\n",
    "\n",
    "Find the kth largest element in an unsorted array. Note that it is the kth largest element in the sorted order, not the kth distinct element.\n",
    "\n",
    "**Example 1:**\n",
    "\n",
    "Input: [3,2,1,5,6,4] and k = 2\n",
    "\n",
    "Output: 5\n",
    "\n",
    "**Example 2:**\n",
    "\n",
    "Input: [3,2,3,1,2,4,5,5,6] and k = 4\n",
    "\n",
    "Output: 4\n",
    "\n",
    "**Note: **\n",
    "\n",
    "You may assume k is always valid, 1 ≤ k ≤ array's length."
   ]
  },
  {
   "cell_type": "code",
   "execution_count": 426,
   "metadata": {
    "collapsed": true
   },
   "outputs": [],
   "source": [
    "class Solution:\n",
    "    def findKthLargest(self, nums, k):\n",
    "        \"\"\"\n",
    "        :type nums: List[int]\n",
    "        :type k: int\n",
    "        :rtype: int\n",
    "        \"\"\"\n",
    "        if not nums or k > len(nums):\n",
    "            return\n",
    "        \n",
    "        nums.sort(reverse=True)\n",
    "        return nums[k-1]"
   ]
  },
  {
   "cell_type": "code",
   "execution_count": 429,
   "metadata": {},
   "outputs": [
    {
     "name": "stdout",
     "output_type": "stream",
     "text": [
      "4\n",
      "5\n"
     ]
    }
   ],
   "source": [
    "print(Solution().findKthLargest([3,2,3,1,2,4,5,5,6], 4))\n",
    "print(Solution().findKthLargest( [3,2,1,5,6,4], 2))"
   ]
  },
  {
   "cell_type": "code",
   "execution_count": null,
   "metadata": {
    "collapsed": true
   },
   "outputs": [],
   "source": []
  },
  {
   "cell_type": "code",
   "execution_count": null,
   "metadata": {
    "collapsed": true
   },
   "outputs": [],
   "source": []
  },
  {
   "cell_type": "code",
   "execution_count": null,
   "metadata": {
    "collapsed": true
   },
   "outputs": [],
   "source": []
  },
  {
   "cell_type": "code",
   "execution_count": null,
   "metadata": {
    "collapsed": true
   },
   "outputs": [],
   "source": []
  },
  {
   "cell_type": "code",
   "execution_count": null,
   "metadata": {
    "collapsed": true
   },
   "outputs": [],
   "source": []
  },
  {
   "cell_type": "code",
   "execution_count": null,
   "metadata": {
    "collapsed": true
   },
   "outputs": [],
   "source": []
  },
  {
   "cell_type": "code",
   "execution_count": null,
   "metadata": {
    "collapsed": true
   },
   "outputs": [],
   "source": []
  },
  {
   "cell_type": "code",
   "execution_count": null,
   "metadata": {
    "collapsed": true
   },
   "outputs": [],
   "source": []
  },
  {
   "cell_type": "code",
   "execution_count": null,
   "metadata": {
    "collapsed": true
   },
   "outputs": [],
   "source": []
  },
  {
   "cell_type": "markdown",
   "metadata": {},
   "source": [
    "## 239. Sliding Window Maximum\n",
    "\n",
    "Given an array nums, there is a sliding window of size k which is moving from the very left of the array to the very right. You can only see the k numbers in the window. Each time the sliding window moves right by one position. Return the max sliding window.\n",
    "\n",
    "**Example:**\n",
    "\n",
    "Input: nums = [1,3,-1,-3,5,3,6,7], and k = 3\n",
    "\n",
    "Output: [3,3,5,5,6,7] \n",
    "\n",
    "Explanation: \n",
    "\n",
    "| Window position | Max |\n",
    "| :------------------------- | ---: |\n",
    "| [1&emsp;3&emsp;-1]&emsp;-3&emsp;5&emsp;3&emsp;6&emsp;7 | 3 |\n",
    "| 1&emsp;[3&emsp;-1&emsp;-3]&emsp;5&emsp;3&emsp;6&emsp;7 | 3 |\n",
    "| 1&emsp;3&emsp;[-1&emsp;-3&emsp;5]&emsp;3&emsp;6&emsp;7 | 5 |\n",
    "| 1&emsp;3&emsp;-1&emsp;[-3&emsp;5&emsp;3]&emsp;6&emsp;7 | 5 |\n",
    "| 1&emsp;3&emsp;-1&emsp;-3&emsp;[5&emsp;3&emsp;6]&emsp;7 | 6 |\n",
    "| 1&emsp;3&emsp;-1&emsp;-3&emsp;5&emsp;[3&emsp;6&emsp;7] | 7 |\n",
    "\n",
    "**Note: **\n",
    "\n",
    "You may assume k is always valid, 1 ≤ k ≤ input array's size for non-empty array.\n",
    "\n",
    "**Follow up:**\n",
    "\n",
    "Could you solve it in linear time?"
   ]
  },
  {
   "cell_type": "code",
   "execution_count": 368,
   "metadata": {
    "collapsed": true
   },
   "outputs": [],
   "source": [
    "# O(nk)\n",
    "class Solution:\n",
    "    def maxSlidingWindow(self, nums, k):\n",
    "        \"\"\"\n",
    "        :type nums: List[int]\n",
    "        :type k: int\n",
    "        :rtype: List[int]\n",
    "        \"\"\"\n",
    "        if not (nums or k) or len(nums) < k:\n",
    "            return\n",
    "        \n",
    "        result = []\n",
    "        for i in range(len(nums)-k+1):\n",
    "            largest = i\n",
    "            for j in range(1, k):\n",
    "                if len(nums) > i+j and nums[largest] <= nums[i+j]:\n",
    "                    largest = i+j\n",
    "            result.append(nums[largest])\n",
    "        return result"
   ]
  },
  {
   "cell_type": "code",
   "execution_count": 369,
   "metadata": {},
   "outputs": [
    {
     "data": {
      "text/plain": [
       "[3, 3, 5, 5, 6, 7]"
      ]
     },
     "execution_count": 369,
     "metadata": {},
     "output_type": "execute_result"
    }
   ],
   "source": [
    "Solution().maxSlidingWindow([1,3,-1,-3,5,3,6,7], 3)"
   ]
  },
  {
   "cell_type": "code",
   "execution_count": 406,
   "metadata": {
    "collapsed": true
   },
   "outputs": [],
   "source": [
    "# O(n)\n",
    "class Solution:\n",
    "    def maxSlidingWindow(self, nums, k):\n",
    "        \"\"\"\n",
    "        :type nums: List[int]\n",
    "        :type k: int\n",
    "        :rtype: List[int]\n",
    "        \"\"\"\n",
    "        if not nums or k > len(nums):\n",
    "            return []\n",
    "        \n",
    "        result, maxv = [], 0\n",
    "        for i in range(len(nums)-k+1):\n",
    "            if i == 0:\n",
    "                maxv = max(nums[i:i+k])\n",
    "            elif i > 0 and nums[i-1] == maxv:\n",
    "                maxv = max(nums[i:i+k])\n",
    "            else:\n",
    "                maxv = max(maxv, nums[i+k-1])\n",
    "            result += maxv,\n",
    "        return result"
   ]
  },
  {
   "cell_type": "code",
   "execution_count": 407,
   "metadata": {},
   "outputs": [
    {
     "data": {
      "text/plain": [
       "[3, 3, 5, 5, 6, 7]"
      ]
     },
     "execution_count": 407,
     "metadata": {},
     "output_type": "execute_result"
    }
   ],
   "source": [
    "Solution().maxSlidingWindow([1,3,-1,-3,5,3,6,7], 3)"
   ]
  },
  {
   "cell_type": "code",
   "execution_count": 430,
   "metadata": {
    "collapsed": true
   },
   "outputs": [],
   "source": [
    "# O(n)\n",
    "class Solution:\n",
    "    def maxSlidingWindow(self, nums, k):\n",
    "        \"\"\"\n",
    "        :type nums: List[int]\n",
    "        :type k: int\n",
    "        :rtype: List[int]\n",
    "        \"\"\"\n",
    "        if not nums or k > len(nums):\n",
    "            return []\n",
    "        if k == 1:\n",
    "            return nums\n",
    "        \n",
    "        maxv = max(nums[:k])\n",
    "        result = [maxv]\n",
    "        for i in range(k, len(nums)):\n",
    "            if nums[i] > maxv:\n",
    "                maxv = nums[i]\n",
    "            elif nums[i-k] == maxv:\n",
    "                maxv = max(nums[i-k+1:i+1])\n",
    "            result += maxv,\n",
    "        return result"
   ]
  },
  {
   "cell_type": "code",
   "execution_count": 431,
   "metadata": {},
   "outputs": [
    {
     "data": {
      "text/plain": [
       "[3, 3, 5, 5, 6, 7]"
      ]
     },
     "execution_count": 431,
     "metadata": {},
     "output_type": "execute_result"
    }
   ],
   "source": [
    "Solution().maxSlidingWindow([1,3,-1,-3,5,3,6,7], 3)"
   ]
  },
  {
   "cell_type": "code",
   "execution_count": null,
   "metadata": {
    "collapsed": true
   },
   "outputs": [],
   "source": []
  },
  {
   "cell_type": "markdown",
   "metadata": {},
   "source": [
    "## 301. Remove Invalid Parentheses\n",
    "\n",
    "Remove the minimum number of invalid parentheses in order to make the input string valid. Return all possible results.\n",
    "\n",
    "Note: The input string may contain letters other than the parentheses ( and ).\n",
    "\n",
    "**Example 1:**\n",
    "\n",
    "Input: \"()())()\", Output: [\"()()()\", \"(())()\"]\n",
    "\n",
    "**Example 2:**\n",
    "\n",
    "Input: \"(a)())()\", Output: [\"(a)()()\", \"(a())()\"]\n",
    "\n",
    "**Example 3:**\n",
    "\n",
    "Input: \")(\", Output: [\"\"]"
   ]
  },
  {
   "cell_type": "code",
   "execution_count": 83,
   "metadata": {
    "collapsed": true
   },
   "outputs": [],
   "source": [
    "class Solution:\n",
    "    def removeInvalidParentheses(self, s):\n",
    "        \"\"\"\n",
    "        :type s: str\n",
    "        :rtype: List[str]\n",
    "        \"\"\"\n",
    "        level = {s}\n",
    "        while True:\n",
    "            valid = []\n",
    "            for s in level:\n",
    "                try:\n",
    "                    eval('0,' + filter('()'.count, s).replace(')', '),'))\n",
    "                    valid.append(s)\n",
    "                except:\n",
    "                    pass\n",
    "            if valid:\n",
    "                return valid\n",
    "            level = {s[:i] + s[i+1:] for s in level for i in range(len(s))}"
   ]
  },
  {
   "cell_type": "code",
   "execution_count": null,
   "metadata": {
    "collapsed": true
   },
   "outputs": [],
   "source": [
    "s = '()())'\n",
    "print(Solution().removeInvalidParentheses(s))"
   ]
  },
  {
   "cell_type": "code",
   "execution_count": null,
   "metadata": {
    "collapsed": true
   },
   "outputs": [],
   "source": [
    "{'a)b)c)d)e)f)g)h)i)j)k)l)m)n)o)p)(((((((((((((((((((('}"
   ]
  },
  {
   "cell_type": "code",
   "execution_count": null,
   "metadata": {
    "collapsed": true
   },
   "outputs": [],
   "source": []
  },
  {
   "cell_type": "code",
   "execution_count": null,
   "metadata": {
    "collapsed": true
   },
   "outputs": [],
   "source": []
  },
  {
   "cell_type": "code",
   "execution_count": null,
   "metadata": {
    "collapsed": true
   },
   "outputs": [],
   "source": []
  },
  {
   "cell_type": "code",
   "execution_count": null,
   "metadata": {
    "collapsed": true
   },
   "outputs": [],
   "source": []
  },
  {
   "cell_type": "code",
   "execution_count": null,
   "metadata": {
    "collapsed": true
   },
   "outputs": [],
   "source": []
  },
  {
   "cell_type": "code",
   "execution_count": null,
   "metadata": {
    "collapsed": true
   },
   "outputs": [],
   "source": []
  },
  {
   "cell_type": "code",
   "execution_count": null,
   "metadata": {
    "collapsed": true
   },
   "outputs": [],
   "source": []
  },
  {
   "cell_type": "code",
   "execution_count": null,
   "metadata": {
    "collapsed": true
   },
   "outputs": [],
   "source": []
  },
  {
   "cell_type": "code",
   "execution_count": 228,
   "metadata": {
    "collapsed": true
   },
   "outputs": [],
   "source": [
    "class Solution:\n",
    "    def removeInvalidParentheses(self, s):\n",
    "        \"\"\"\n",
    "        :type s: str\n",
    "        :rtype: List[str]\n",
    "        \"\"\"\n",
    "        i = 0\n",
    "        seen = []\n",
    "        backs = []\n",
    "        while i < len(s):\n",
    "            if s[i] == '(':\n",
    "                seen.append(')')\n",
    "            # complete a ()\n",
    "            elif s[i] == seen.pop() and i-1 not in backs:\n",
    "                backs.append(i)\n",
    "            # single )\n",
    "            elif len(seen) == 0:\n",
    "                if i == 0:\n",
    "                    backs.append(i)\n",
    "                elif i-1 not in backs:\n",
    "                    backs.append(i)\n",
    "            i += 1\n",
    "        if seen != 0:\n",
    "            backs.append(len(s)-1)\n",
    "        return [s[:b]+s[b+1:] for b in backs]"
   ]
  },
  {
   "cell_type": "code",
   "execution_count": 229,
   "metadata": {},
   "outputs": [
    {
     "data": {
      "text/plain": [
       "['()', ')(', ')(']"
      ]
     },
     "execution_count": 229,
     "metadata": {},
     "output_type": "execute_result"
    }
   ],
   "source": [
    "Solution().removeInvalidParentheses(')()')"
   ]
  },
  {
   "cell_type": "code",
   "execution_count": 225,
   "metadata": {},
   "outputs": [
    {
     "data": {
      "text/plain": [
       "['()()()', '()())(']"
      ]
     },
     "execution_count": 225,
     "metadata": {},
     "output_type": "execute_result"
    }
   ],
   "source": [
    "Solution().removeInvalidParentheses('()())()')"
   ]
  },
  {
   "cell_type": "code",
   "execution_count": null,
   "metadata": {
    "collapsed": true
   },
   "outputs": [],
   "source": []
  },
  {
   "cell_type": "code",
   "execution_count": null,
   "metadata": {
    "collapsed": true
   },
   "outputs": [],
   "source": []
  },
  {
   "cell_type": "code",
   "execution_count": null,
   "metadata": {
    "collapsed": true
   },
   "outputs": [],
   "source": []
  },
  {
   "cell_type": "code",
   "execution_count": null,
   "metadata": {
    "collapsed": true
   },
   "outputs": [],
   "source": []
  },
  {
   "cell_type": "markdown",
   "metadata": {},
   "source": [
    "# 416. Partition Equal Subset Sum\n",
    "\n",
    "Given a <strong>non-empty</strong> array containing <strong>only positive integers</strong>, find if the array can be partitioned into two subsets such that the sum of elements in both subsets is equal.\n",
    "\n",
    "<strong>Note:</strong>\n",
    "<ol>\n",
    "<li>Each of the array element will not exceed 100.</li>\n",
    "<li>The array size will not exceed 200.</li>\n",
    "</ol>\n",
    "\n",
    "<p><strong>Example 1:</strong></p>\n",
    "<pre style=\"background-color:#F5F5F5; padding:5px; border:solid 1px #CCCCCC; border-radius:5px;\">\n",
    "<strong>Input:</strong> [1, 5, 11, 5]\n",
    "<strong>Output:</strong> true\n",
    "<strong>Explanation:</strong> The array can be partitioned as [1, 5, 5] and [11].\n",
    "</pre>\n",
    "\n",
    "<p><strong>Example 2:</strong></p>\n",
    "<pre style=\"background-color:#F5F5F5; padding:5px; border:solid 1px #CCCCCC; border-radius:5px;\">\n",
    "<strong>Input:</strong> [1, 2, 3, 5]\n",
    "<strong>Output:</strong> false\n",
    "<strong>Explanation:</strong> The array cannot be partitioned into equal sum subsets.\n",
    "</pre>"
   ]
  },
  {
   "cell_type": "code",
   "execution_count": 242,
   "metadata": {
    "collapsed": true
   },
   "outputs": [],
   "source": [
    "# dfs method\n",
    "class Solution:\n",
    "    def canPartition(self, nums):\n",
    "        \"\"\"\n",
    "        :type nums: List[int]\n",
    "        :rtype: bool\n",
    "        \"\"\"\n",
    "        n, half = len(nums), sum(nums)>>1\n",
    "        if sum(nums)&1 or max(nums)>half:\n",
    "            return False\n",
    "        \n",
    "        def _dfs(cur, i):\n",
    "            if cur >= half:\n",
    "                return cur == half\n",
    "            return any(_dfs(cur+nums[j], j) for j in range(i+1, n))\n",
    "        \n",
    "        return not nums or _dfs(nums[0], 0)"
   ]
  },
  {
   "cell_type": "code",
   "execution_count": 243,
   "metadata": {},
   "outputs": [
    {
     "data": {
      "text/plain": [
       "False"
      ]
     },
     "execution_count": 243,
     "metadata": {},
     "output_type": "execute_result"
    }
   ],
   "source": [
    "nums = [1,5,11,5]\n",
    "nums = [1,2,3,5]\n",
    "nums = [1,3,4,4]\n",
    "nums = [2,2,3,5]\n",
    "nums = [17,58,41,75,61,70,52,7,38,11,40,58,44,45,4,81,67,54,79,80,15,3,14,16,9,66,69,41,72,37,28,3,33,90,56,12,72,49,35,22,49,27,49,82,41,77,100,82,18,95,24,51,37,2,34,82,70,53,73,32,90,98,81,22,73,76,79,40,27,62,45,96,36,15,63,28,54,88,63,37,58,9,62,98,93,72,99,53,91,29,61,31,11,42,20,35,50,68,10,86]\n",
    "Solution().canPartition(nums)"
   ]
  },
  {
   "cell_type": "code",
   "execution_count": 213,
   "metadata": {
    "collapsed": true
   },
   "outputs": [],
   "source": [
    "# traversal method\n",
    "class Solution:\n",
    "    def canPartition(self, nums):\n",
    "        \"\"\"\n",
    "        :type nums: List[int]\n",
    "        :rtype: bool\n",
    "        \"\"\"\n",
    "        if not nums:\n",
    "            return\n",
    "        return self._traversal(nums, sum(nums)/2., {0})\n",
    "    \n",
    "    def _traversal(self, nums, mid, result):\n",
    "        for x in nums:\n",
    "            result |= {v+x for v in result}\n",
    "            if mid in result:\n",
    "                return True\n",
    "        return False"
   ]
  },
  {
   "cell_type": "code",
   "execution_count": 215,
   "metadata": {},
   "outputs": [
    {
     "data": {
      "text/plain": [
       "False"
      ]
     },
     "execution_count": 215,
     "metadata": {},
     "output_type": "execute_result"
    }
   ],
   "source": [
    "nums = [1, 5, 11, 5]\n",
    "nums = [1, 2, 3, 5]\n",
    "Solution().canPartition(nums)"
   ]
  },
  {
   "cell_type": "code",
   "execution_count": 216,
   "metadata": {
    "collapsed": true
   },
   "outputs": [],
   "source": [
    "# 100% beating answer\n",
    "class Solution(object):\n",
    "    def canPartition(self, nums):\n",
    "        \"\"\"\n",
    "        :type nums: List[int]\n",
    "        :rtype: bool\n",
    "        \"\"\"\n",
    "        n, half = len(nums), sum(nums) >> 1\n",
    "        if sum(nums) & 1 or max(nums) > half: return False\n",
    "        nums.sort(reverse = True)\n",
    "        memo = {}\n",
    "        \n",
    "        def dfs(curr, i):\n",
    "            if curr >= half: return curr == half\n",
    "            if curr not in memo:\n",
    "                memo[curr] = any(dfs(curr + nums[j], j) for j in range(i+1, n))\n",
    "            return memo[curr]\n",
    "        \n",
    "        return not nums or any(dfs(nums[i], i) for i in range(n))\n",
    "    \n",
    "    \n",
    "    # backtracking"
   ]
  },
  {
   "cell_type": "code",
   "execution_count": 217,
   "metadata": {},
   "outputs": [
    {
     "data": {
      "text/plain": [
       "False"
      ]
     },
     "execution_count": 217,
     "metadata": {},
     "output_type": "execute_result"
    }
   ],
   "source": [
    "nums = [17,58,41,75,61,70,52,7,38,11,40,58,44,45,4,81,67,54,79,80,15,3,14,16,9,66,69,41,72,37,28,3,33,90,56,12,72,49,35,22,49,27,49,82,41,77,100,82,18,95,24,51,37,2,34,82,70,53,73,32,90,98,81,22,73,76,79,40,27,62,45,96,36,15,63,28,54,88,63,37,58,9,62,98,93,72,99,53,91,29,61,31,11,42,20,35,50,68,10,86]\n",
    "Solution().canPartition(nums)"
   ]
  },
  {
   "cell_type": "code",
   "execution_count": null,
   "metadata": {
    "collapsed": true
   },
   "outputs": [],
   "source": []
  },
  {
   "cell_type": "code",
   "execution_count": null,
   "metadata": {
    "collapsed": true
   },
   "outputs": [],
   "source": []
  },
  {
   "cell_type": "code",
   "execution_count": null,
   "metadata": {
    "collapsed": true
   },
   "outputs": [],
   "source": []
  },
  {
   "cell_type": "code",
   "execution_count": null,
   "metadata": {
    "collapsed": true
   },
   "outputs": [],
   "source": []
  },
  {
   "cell_type": "code",
   "execution_count": null,
   "metadata": {
    "collapsed": true
   },
   "outputs": [],
   "source": []
  },
  {
   "cell_type": "code",
   "execution_count": null,
   "metadata": {
    "collapsed": true
   },
   "outputs": [],
   "source": []
  },
  {
   "cell_type": "markdown",
   "metadata": {},
   "source": [
    "## 507. Perfect Number\n",
    "\n",
    "We define the Perfect Number is a **positive** integer that is equal to the sum of all its **positive** divisors except itself.\n",
    "\n",
    "Now, given an **integer** n, write a function that returns true when it is a perfect number and false when it is not.\n",
    "\n",
    "<p><strong>Example:</strong></p>\n",
    "<pre style=\"background-color:#F5F5F5; padding:10px; border:solid 1px #CCCCCC; border-radius:5px\">\n",
    "<strong>Input:</strong> 28\n",
    "<strong>Output:</strong> True\n",
    "<strong>Explanation:</strong> 28 = 1 + 2 + 4 + 7 + 14\n",
    "</pre>\n",
    "\n",
    "<strong>Note:</strong> The input number *n* will not exceed 100,000,000. (1e8)"
   ]
  },
  {
   "cell_type": "code",
   "execution_count": 50,
   "metadata": {
    "collapsed": true
   },
   "outputs": [],
   "source": [
    "class Solution:\n",
    "    def checkPerfectNumber(self, num):\n",
    "        \"\"\"\n",
    "        :type num: int\n",
    "        :rtype: bool\n",
    "        \"\"\"\n",
    "        if num <= 1:\n",
    "            return False\n",
    "        \n",
    "        x, res = 2, 1\n",
    "        while x <= num**(1/2):\n",
    "            if num%x == 0:\n",
    "                if x == num**(1/2):\n",
    "                    res += x\n",
    "                else:\n",
    "                    res += x\n",
    "                    res += num/x\n",
    "            x += 1\n",
    "        return res == num"
   ]
  },
  {
   "cell_type": "code",
   "execution_count": 51,
   "metadata": {},
   "outputs": [
    {
     "data": {
      "text/plain": [
       "True"
      ]
     },
     "execution_count": 51,
     "metadata": {},
     "output_type": "execute_result"
    }
   ],
   "source": [
    "num = 28\n",
    "# num = 6\n",
    "# num = 18\n",
    "Solution().checkPerfectNumber(num)"
   ]
  },
  {
   "cell_type": "code",
   "execution_count": null,
   "metadata": {
    "collapsed": true
   },
   "outputs": [],
   "source": [
    "# 100% beating answer\n",
    "class Solution:\n",
    "    def checkPerfectNumber2(self, num):\n",
    "        \"\"\"\n",
    "        :type num: int\n",
    "        :rtype: bool\n",
    "        \"\"\"\n",
    "        if num <= 1:\n",
    "            return False\n",
    "        \n",
    "        limit = math.ceil(num**0.5)\n",
    "        total = 0\n",
    "        for n in range(2,limit):\n",
    "            if num % n == 0:\n",
    "                total += n + num // n\n",
    "        \n",
    "        return total+1 == num\n",
    "    \n",
    "    # fct that uses the result from the\n",
    "    # wikipedia page https://fr.wikipedia.org/wiki/Nombre_parfait\n",
    "    import bisect\n",
    "    def checkPerfectNumber(self, num):\n",
    "        # note: 11 which is prime is not in the list!\n",
    "        primers = [2, 3, 5, 7, 13] # 17, 19\n",
    "        for i, p in enumerate(primers):\n",
    "            primers[i] = (1 << (p - 1)) * ((1 << p) - 1)\n",
    "        \n",
    "        idx = bisect.bisect_left(primers, num)\n",
    "        return idx < len(primers) and num == primers[idx]"
   ]
  },
  {
   "cell_type": "code",
   "execution_count": 52,
   "metadata": {
    "collapsed": true
   },
   "outputs": [],
   "source": [
    "# 100% beating answer\n",
    "class Solution:\n",
    "    def checkPerfectNumber(self, num):\n",
    "        \"\"\"\n",
    "        :type num: int\n",
    "        :rtype: bool\n",
    "        \"\"\"\n",
    "        return num in set([6, 28, 496, 8128, 33550336])"
   ]
  },
  {
   "cell_type": "code",
   "execution_count": null,
   "metadata": {
    "collapsed": true
   },
   "outputs": [],
   "source": [
    "# 100% beating answer\n",
    "import math\n",
    "class Solution:\n",
    "    def checkPerfectNumber(self, num):\n",
    "        \"\"\"\n",
    "        :type num: int\n",
    "        :rtype: bool\n",
    "        \"\"\"\n",
    "        if num <= 1:\n",
    "            return False\n",
    "        \n",
    "        facts = set()\n",
    "        maxval = int(math.sqrt(num))\n",
    "        facts.add(1)\n",
    "        for i in range(2, maxval+1):\n",
    "            if num % i == 0:\n",
    "                facts.add(i)\n",
    "                facts.add(int(num/i))\n",
    "        print(facts)\n",
    "        return sum(facts) == num"
   ]
  },
  {
   "cell_type": "code",
   "execution_count": null,
   "metadata": {
    "collapsed": true
   },
   "outputs": [],
   "source": []
  },
  {
   "cell_type": "code",
   "execution_count": null,
   "metadata": {
    "collapsed": true
   },
   "outputs": [],
   "source": []
  },
  {
   "cell_type": "code",
   "execution_count": null,
   "metadata": {
    "collapsed": true
   },
   "outputs": [],
   "source": []
  },
  {
   "cell_type": "markdown",
   "metadata": {},
   "source": [
    "## 708. Insert into a Cyclic Sorted List\n",
    "\n",
    "Given a node from a cyclic linked list which has been sorted, write a function to insert a value into the list such that it remains a cyclic sorted list. The given node can be any single node in the list.\n",
    "\n",
    "**Solution:**\n",
    "\n",
    "Basically, you would have a loop that traverse the cyclic sorted list and find the point where you insert the value (Let’s assume the value being inserted called x). You would only need to consider the following three cases:\n",
    "\n",
    "**1. prev→val ≤ x ≤ current→val: **\n",
    "Insert between prev and current.\n",
    "\n",
    "**2. x is the maximum or minimum value in the list: **\n",
    "Insert before the head. (ie, the head has the smallest value and its prev→val > head→val.\n",
    "\n",
    "**3. Traverses back to the starting point: **\n",
    "Insert before the starting point."
   ]
  },
  {
   "cell_type": "code",
   "execution_count": 528,
   "metadata": {
    "collapsed": true
   },
   "outputs": [],
   "source": [
    "class Node:\n",
    "    def __init__(self, val):\n",
    "        self.val = val\n",
    "        self.next = None\n",
    "\n",
    "class Solution:\n",
    "    def insert(self, head, insertVal):\n",
    "        \"\"\"\n",
    "        :type head: Node\n",
    "        :type insertVal: int\n",
    "        :rtype: Node\n",
    "        \"\"\""
   ]
  },
  {
   "cell_type": "code",
   "execution_count": null,
   "metadata": {
    "collapsed": true
   },
   "outputs": [],
   "source": []
  },
  {
   "cell_type": "code",
   "execution_count": null,
   "metadata": {
    "collapsed": true
   },
   "outputs": [],
   "source": []
  },
  {
   "cell_type": "code",
   "execution_count": null,
   "metadata": {
    "collapsed": true
   },
   "outputs": [],
   "source": []
  },
  {
   "cell_type": "code",
   "execution_count": null,
   "metadata": {
    "collapsed": true
   },
   "outputs": [],
   "source": []
  },
  {
   "cell_type": "code",
   "execution_count": null,
   "metadata": {
    "collapsed": true
   },
   "outputs": [],
   "source": []
  },
  {
   "cell_type": "code",
   "execution_count": null,
   "metadata": {
    "collapsed": true
   },
   "outputs": [],
   "source": []
  },
  {
   "cell_type": "code",
   "execution_count": null,
   "metadata": {
    "collapsed": true
   },
   "outputs": [],
   "source": []
  },
  {
   "cell_type": "code",
   "execution_count": null,
   "metadata": {
    "collapsed": true
   },
   "outputs": [],
   "source": []
  },
  {
   "cell_type": "code",
   "execution_count": null,
   "metadata": {
    "collapsed": true
   },
   "outputs": [],
   "source": []
  },
  {
   "cell_type": "code",
   "execution_count": null,
   "metadata": {
    "collapsed": true
   },
   "outputs": [],
   "source": []
  },
  {
   "cell_type": "code",
   "execution_count": null,
   "metadata": {
    "collapsed": true
   },
   "outputs": [],
   "source": []
  },
  {
   "cell_type": "code",
   "execution_count": null,
   "metadata": {
    "collapsed": true
   },
   "outputs": [],
   "source": []
  },
  {
   "cell_type": "code",
   "execution_count": null,
   "metadata": {
    "collapsed": true
   },
   "outputs": [],
   "source": []
  },
  {
   "cell_type": "code",
   "execution_count": null,
   "metadata": {
    "collapsed": true
   },
   "outputs": [],
   "source": []
  },
  {
   "cell_type": "code",
   "execution_count": null,
   "metadata": {
    "collapsed": true
   },
   "outputs": [],
   "source": []
  },
  {
   "cell_type": "markdown",
   "metadata": {},
   "source": [
    "## 717. 1-bit and 2-bit Characters\n",
    "\n",
    "We have two special characters. The first character can be represented by one bit 0. The second character can be represented by two bits (10 or 11).\n",
    "\n",
    "Now given a string represented by several bits. Return whether the last character must be a one-bit character or not. The given string will always end with a zero.\n",
    "\n",
    "**Example 1:**\n",
    "\n",
    "Input: \n",
    "bits = [1, 0, 0], \n",
    "Output: True\n",
    "\n",
    "Explanation: \n",
    "The only way to decode it is two-bit character and one-bit character. So the last character is one-bit character.\n",
    "\n",
    "**Example 2:**\n",
    "\n",
    "Input: \n",
    "bits = [1, 1, 1, 0], \n",
    "Output: False\n",
    "\n",
    "Explanation: \n",
    "The only way to decode it is two-bit character and two-bit character. So the last character is NOT one-bit character.\n",
    "Note:\n",
    "\n",
    "- 1 <= len(bits) <= 1000.\n",
    "- bits[i] is always 0 or 1."
   ]
  },
  {
   "cell_type": "code",
   "execution_count": 163,
   "metadata": {
    "collapsed": true
   },
   "outputs": [],
   "source": [
    "class Solution:\n",
    "    # [.., 0, a, ..] if meets 0, jump to a\n",
    "    # [.., 1, a, b, ..] elif meets 1, jump to b\n",
    "    def isOneBitCharacter(self, bits):\n",
    "        \"\"\"\n",
    "        :type bits: List[int]\n",
    "        :rtype: bool\n",
    "        \"\"\"\n",
    "        i = 0\n",
    "        while i < len(bits)-1:\n",
    "            i += bits[i] + 1\n",
    "        return i == len(bits) - 1"
   ]
  },
  {
   "cell_type": "code",
   "execution_count": 161,
   "metadata": {
    "collapsed": true
   },
   "outputs": [],
   "source": [
    "class Solution:\n",
    "    '''\n",
    "    ..00 true\n",
    "    ..010 false\n",
    "    ..0110 true\n",
    "    ..01110 false\n",
    "    ..011110 true\n",
    "    ..0111110 false\n",
    "    '''\n",
    "    def isOneBitCharacter(self, bits):\n",
    "        \"\"\"\n",
    "        :type bits: List[int]\n",
    "        :rtype: bool\n",
    "        \"\"\"\n",
    "        if not bits:\n",
    "            return\n",
    "        if len(bits) < 2 or bits[-2] == 0:\n",
    "            return True\n",
    "\n",
    "        count = 0\n",
    "        for i in range(len(bits)-2,-1,-1):\n",
    "            if bits[i] == 1:\n",
    "                count += 1\n",
    "            else:\n",
    "                break\n",
    "        return (count+2) % 2 == 0"
   ]
  },
  {
   "cell_type": "code",
   "execution_count": 162,
   "metadata": {},
   "outputs": [
    {
     "data": {
      "text/plain": [
       "True"
      ]
     },
     "execution_count": 162,
     "metadata": {},
     "output_type": "execute_result"
    }
   ],
   "source": [
    "Solution().isOneBitCharacter([1,1,0])"
   ]
  },
  {
   "cell_type": "code",
   "execution_count": null,
   "metadata": {
    "collapsed": true
   },
   "outputs": [],
   "source": []
  },
  {
   "cell_type": "code",
   "execution_count": null,
   "metadata": {
    "collapsed": true
   },
   "outputs": [],
   "source": []
  },
  {
   "cell_type": "code",
   "execution_count": null,
   "metadata": {
    "collapsed": true
   },
   "outputs": [],
   "source": []
  },
  {
   "cell_type": "code",
   "execution_count": null,
   "metadata": {
    "collapsed": true
   },
   "outputs": [],
   "source": []
  },
  {
   "cell_type": "code",
   "execution_count": null,
   "metadata": {
    "collapsed": true
   },
   "outputs": [],
   "source": []
  },
  {
   "cell_type": "code",
   "execution_count": null,
   "metadata": {
    "collapsed": true
   },
   "outputs": [],
   "source": []
  },
  {
   "cell_type": "code",
   "execution_count": null,
   "metadata": {
    "collapsed": true
   },
   "outputs": [],
   "source": []
  },
  {
   "cell_type": "code",
   "execution_count": null,
   "metadata": {
    "collapsed": true
   },
   "outputs": [],
   "source": []
  },
  {
   "cell_type": "code",
   "execution_count": null,
   "metadata": {
    "collapsed": true
   },
   "outputs": [],
   "source": []
  },
  {
   "cell_type": "code",
   "execution_count": null,
   "metadata": {
    "collapsed": true
   },
   "outputs": [],
   "source": []
  },
  {
   "cell_type": "code",
   "execution_count": null,
   "metadata": {
    "collapsed": true
   },
   "outputs": [],
   "source": []
  },
  {
   "cell_type": "code",
   "execution_count": null,
   "metadata": {
    "collapsed": true
   },
   "outputs": [],
   "source": []
  },
  {
   "cell_type": "code",
   "execution_count": null,
   "metadata": {
    "collapsed": true
   },
   "outputs": [],
   "source": []
  },
  {
   "cell_type": "code",
   "execution_count": null,
   "metadata": {
    "collapsed": true
   },
   "outputs": [],
   "source": []
  },
  {
   "cell_type": "code",
   "execution_count": null,
   "metadata": {
    "collapsed": true
   },
   "outputs": [],
   "source": []
  },
  {
   "cell_type": "code",
   "execution_count": null,
   "metadata": {
    "collapsed": true
   },
   "outputs": [],
   "source": []
  },
  {
   "cell_type": "code",
   "execution_count": null,
   "metadata": {
    "collapsed": true
   },
   "outputs": [],
   "source": []
  },
  {
   "cell_type": "code",
   "execution_count": null,
   "metadata": {
    "collapsed": true
   },
   "outputs": [],
   "source": []
  },
  {
   "cell_type": "code",
   "execution_count": null,
   "metadata": {
    "collapsed": true
   },
   "outputs": [],
   "source": []
  },
  {
   "cell_type": "code",
   "execution_count": null,
   "metadata": {
    "collapsed": true
   },
   "outputs": [],
   "source": []
  },
  {
   "cell_type": "code",
   "execution_count": null,
   "metadata": {
    "collapsed": true
   },
   "outputs": [],
   "source": []
  },
  {
   "cell_type": "code",
   "execution_count": null,
   "metadata": {
    "collapsed": true
   },
   "outputs": [],
   "source": []
  },
  {
   "cell_type": "code",
   "execution_count": null,
   "metadata": {
    "collapsed": true
   },
   "outputs": [],
   "source": []
  },
  {
   "cell_type": "code",
   "execution_count": null,
   "metadata": {
    "collapsed": true
   },
   "outputs": [],
   "source": []
  },
  {
   "cell_type": "code",
   "execution_count": null,
   "metadata": {
    "collapsed": true
   },
   "outputs": [],
   "source": []
  },
  {
   "cell_type": "code",
   "execution_count": null,
   "metadata": {
    "collapsed": true
   },
   "outputs": [],
   "source": []
  },
  {
   "cell_type": "code",
   "execution_count": null,
   "metadata": {
    "collapsed": true
   },
   "outputs": [],
   "source": []
  },
  {
   "cell_type": "code",
   "execution_count": null,
   "metadata": {
    "collapsed": true
   },
   "outputs": [],
   "source": []
  },
  {
   "cell_type": "code",
   "execution_count": null,
   "metadata": {
    "collapsed": true
   },
   "outputs": [],
   "source": []
  },
  {
   "cell_type": "code",
   "execution_count": null,
   "metadata": {
    "collapsed": true
   },
   "outputs": [],
   "source": []
  },
  {
   "cell_type": "code",
   "execution_count": null,
   "metadata": {
    "collapsed": true
   },
   "outputs": [],
   "source": []
  },
  {
   "cell_type": "markdown",
   "metadata": {},
   "source": [
    "## Find K Closest Points to the Origin"
   ]
  },
  {
   "cell_type": "markdown",
   "metadata": {},
   "source": [
    "- selection sort + compare\n",
    "\n",
    "O(k + nk - $k^2$)"
   ]
  },
  {
   "cell_type": "code",
   "execution_count": 1,
   "metadata": {},
   "outputs": [
    {
     "name": "stdout",
     "output_type": "stream",
     "text": [
      "closest points: [(-1, 0), (0, -2), (-2, -3)]\n",
      "closest distances: [1, 2, 5]\n"
     ]
    }
   ],
   "source": [
    "def calculate_dist(p):\n",
    "    return abs(p[0]) + abs(p[1])\n",
    "\n",
    "def selection_sort(dlst, plst, k):\n",
    "    if k > 0:\n",
    "        piv = 0\n",
    "        while piv < k:\n",
    "            for i in range(piv+1,k):\n",
    "                if dlst[piv] > dlst[i]:\n",
    "                    dlst[piv], dlst[i] = dlst[i], dlst[piv]\n",
    "                    plst[piv], plst[i] = plst[i], plst[piv]\n",
    "            piv += 1\n",
    "        return dlst, plst\n",
    "    \n",
    "def closest_pts(arr, k):\n",
    "    if len(arr) < k:\n",
    "        return\n",
    "    else:\n",
    "        plst, dlst = [], []\n",
    "        for a in arr:\n",
    "            if len(plst) < k:\n",
    "                plst.append(a)\n",
    "                dlst.append(calculate_dist(a))\n",
    "            elif len(plst) == k:\n",
    "                dlst, plst = selection_sort(dlst, plst, k)\n",
    "                for i,d in enumerate(dlst):\n",
    "                    if calculate_dist(a) < d:\n",
    "                        dlst[i] = calculate_dist(a)\n",
    "                        plst[i] = a\n",
    "                        pass\n",
    "        return dlst, plst\n",
    "\n",
    "if __name__ == '__main__':\n",
    "    arr = [(-2,4), (0,-2), (-1,0), (2,5), (-2,-3), (3,2), (-3,2), (5,1), (-1,-4)]\n",
    "    k = 3\n",
    "    dlst, plst =  closest_pts(arr, k)\n",
    "    print('closest points:', plst) \n",
    "    print('closest distances:', dlst)"
   ]
  },
  {
   "cell_type": "markdown",
   "metadata": {},
   "source": [
    "- quick sort\n",
    "\n",
    "O(n + nlogn)"
   ]
  },
  {
   "cell_type": "code",
   "execution_count": 2,
   "metadata": {},
   "outputs": [
    {
     "name": "stdout",
     "output_type": "stream",
     "text": [
      "closest points: [(-1, 0), (0, -2), (3, 2)]\n",
      "closest distances: [5, 2, 1]\n"
     ]
    }
   ],
   "source": [
    "import random\n",
    "\n",
    "def calculate_dist(p):\n",
    "    return abs(p[0]) + abs(p[1])\n",
    "\n",
    "def get_lsts(arr):\n",
    "    if len(arr) < k:\n",
    "        return\n",
    "    elif len(arr) == k:\n",
    "        return arr\n",
    "    else:\n",
    "        dlst = []\n",
    "        for a in arr:\n",
    "            dlst.append(calculate_dist(a))\n",
    "        return dlst\n",
    "\n",
    "def swap(arr, dlst, a, b):\n",
    "    dlst[a], dlst[b] = dlst[b], dlst[a]\n",
    "    arr[a], arr[b] = arr[b], arr[a]\n",
    "\n",
    "def partition(arr, dlst, lo, hi):\n",
    "    piv = random.choice(range(lo, hi+1))\n",
    "    swap(arr, dlst, lo, piv)\n",
    "    piv = lo\n",
    "    for i in range(lo+1, hi+1):\n",
    "        if dlst[i] < dlst[lo]:\n",
    "            piv += 1\n",
    "            swap(arr, dlst, i, piv)\n",
    "    swap(arr, dlst, lo, piv)\n",
    "    return piv\n",
    "\n",
    "def quick_sort(arr, lo, hi):\n",
    "    if lo >= hi:\n",
    "        return\n",
    "    else:\n",
    "        dlst = get_lsts(arr)\n",
    "        piv = partition(arr, dlst, lo, hi)\n",
    "        quick_sort(arr, lo, piv-1)\n",
    "        quick_sort(arr, piv+1, hi)\n",
    "        return arr, dlst\n",
    "    \n",
    "if __name__ == '__main__':\n",
    "    arr = [(-2,4), (0,-2), (-1,0), (2,5), (-2,-3), (3,2), (-3,2), (5,1)]\n",
    "    k = 3\n",
    "    arr, dlst = quick_sort(arr, 0, len(arr)-1)\n",
    "    print('closest points:', arr[:3]) \n",
    "    print('closest distances:', dlst[:3])"
   ]
  },
  {
   "cell_type": "code",
   "execution_count": null,
   "metadata": {
    "collapsed": true
   },
   "outputs": [],
   "source": []
  },
  {
   "cell_type": "markdown",
   "metadata": {},
   "source": [
    "## Count Recursive Staircase Problem\n",
    "\n",
    "Count ways to reach the n'th stair\n",
    "\n",
    "There are n stairs, a person standing at the bottom wants to reach the top. The person can climb either 1 stair or 2 stairs at a time. Count the number of ways, the person can reach the top.\n",
    "\n",
    "- dynamic programming & memorization"
   ]
  },
  {
   "cell_type": "code",
   "execution_count": 39,
   "metadata": {},
   "outputs": [
    {
     "name": "stdout",
     "output_type": "stream",
     "text": [
      "8\n"
     ]
    }
   ],
   "source": [
    "def staircase(k, memo):\n",
    "    if k < 0:\n",
    "        return\n",
    "    if k == 0:\n",
    "        return 1\n",
    "    if k == 1:\n",
    "        return 1\n",
    "    # retrieve calculated steps from memo to avoid double-calcu\n",
    "    if memo[k] != None:\n",
    "        res = memo[k]\n",
    "    res = staircase(k-1, memo)\n",
    "    if k >= 2:\n",
    "        res += staircase(k-2, memo)\n",
    "    # save calculated steps to memo\n",
    "    memo[k] = res\n",
    "    return res\n",
    "\n",
    "if __name__ == '__main__':\n",
    "    k = 5\n",
    "    # init memo with Nones\n",
    "    memo = [None for _ in range(k+1)]\n",
    "    print(staircase(k, memo))"
   ]
  },
  {
   "cell_type": "code",
   "execution_count": null,
   "metadata": {
    "collapsed": true
   },
   "outputs": [],
   "source": []
  },
  {
   "cell_type": "markdown",
   "metadata": {},
   "source": [
    "## Count Text Decoding Problem\n",
    "\n",
    "Decode alphabets [a-z] as numbers [1-26]. Given a message of numbers, count the number of ways to decode it."
   ]
  },
  {
   "cell_type": "code",
   "execution_count": 61,
   "metadata": {},
   "outputs": [
    {
     "name": "stdout",
     "output_type": "stream",
     "text": [
      "[None, None, None, None, None, None, None, None, None, None, 1]\n",
      "[None, None, None, None, None, None, None, None, None, 2, 1]\n",
      "[None, None, None, None, None, None, None, 2, None, 2, 1]\n",
      "[None, None, None, None, None, None, 2, 2, None, 2, 1]\n",
      "[None, None, None, None, None, 4, 2, 2, None, 2, 1]\n",
      "[None, None, None, None, 6, 4, 2, 2, None, 2, 1]\n",
      "[None, None, None, 6, 6, 4, 2, 2, None, 2, 1]\n",
      "[None, None, 6, 6, 6, 4, 2, 2, None, 2, 1]\n",
      "[None, 6, 6, 6, 6, 4, 2, 2, None, 2, 1]\n",
      "[6, 6, 6, 6, 6, 4, 2, 2, None, 2, 1]\n",
      "6\n"
     ]
    }
   ],
   "source": [
    "def decomsg(i, msg, memo):\n",
    "    if len(msg) == 0:\n",
    "        return 1\n",
    "    if i == len(msg):\n",
    "        return 1\n",
    "    if msg[i] == '0':\n",
    "        return 0\n",
    "\n",
    "    if memo[i] != None:\n",
    "        return memo[i]\n",
    "    res = decomsg(i+1, msg, memo)\n",
    "    if len(msg)-i >= 2 and int(msg[i:i+2]) <= 26:\n",
    "        res += decomsg(i+2, msg, memo)\n",
    "    memo[i] = res\n",
    "    print(memo)\n",
    "    return res\n",
    "\n",
    "if __name__ == '__main__':\n",
    "    msg = '65432111015'\n",
    "    memo = [None for _ in range(len(msg))]\n",
    "    print(decomsg(0, msg, memo))"
   ]
  },
  {
   "cell_type": "code",
   "execution_count": null,
   "metadata": {
    "collapsed": true
   },
   "outputs": [],
   "source": []
  },
  {
   "cell_type": "markdown",
   "metadata": {},
   "source": [
    "# watermelons in boxes"
   ]
  },
  {
   "cell_type": "code",
   "execution_count": 279,
   "metadata": {},
   "outputs": [
    {
     "name": "stdout",
     "output_type": "stream",
     "text": [
      "boxes: [10, 17, 18, 19, 24, 27, 29, 30, 31, 32, 33, 34, 35, 38, 40, 43, 46, 47, 48, 49]\n",
      "melons: [23, 24, 29, 30, 32, 33, 36, 41, 43, 46, 48, 49, 52, 55, 56]\n",
      "packed melon count: 12\n"
     ]
    }
   ],
   "source": [
    "def count_melons_packs(boxes, melons):\n",
    "    if not (boxes or melons):\n",
    "        return\n",
    "    \n",
    "    boxes.sort()\n",
    "    melons.sort()\n",
    "    result = 0\n",
    "    i, j = 0, 0\n",
    "    while i < len(boxes) and j < len(melons):\n",
    "        if boxes[i] >= melons[j]:\n",
    "            result += 1\n",
    "            i += 1\n",
    "            j += 1\n",
    "        else:\n",
    "            i += 1\n",
    "    return result\n",
    "\n",
    "import random; random.seed(12)\n",
    "boxes = random.sample(range(10,50),20)\n",
    "melons = random.sample(range(20,60),15)\n",
    "print('boxes:', sorted(boxes))\n",
    "print('melons:', sorted(melons))\n",
    "print('packed melon count:', count_melons_packs(boxes, melons))"
   ]
  },
  {
   "cell_type": "code",
   "execution_count": null,
   "metadata": {
    "collapsed": true
   },
   "outputs": [],
   "source": []
  },
  {
   "cell_type": "code",
   "execution_count": null,
   "metadata": {
    "collapsed": true
   },
   "outputs": [],
   "source": []
  },
  {
   "cell_type": "code",
   "execution_count": null,
   "metadata": {
    "collapsed": true
   },
   "outputs": [],
   "source": []
  },
  {
   "cell_type": "code",
   "execution_count": null,
   "metadata": {
    "collapsed": true
   },
   "outputs": [],
   "source": []
  },
  {
   "cell_type": "code",
   "execution_count": null,
   "metadata": {
    "collapsed": true
   },
   "outputs": [],
   "source": []
  },
  {
   "cell_type": "code",
   "execution_count": null,
   "metadata": {
    "collapsed": true
   },
   "outputs": [],
   "source": []
  },
  {
   "cell_type": "code",
   "execution_count": null,
   "metadata": {
    "collapsed": true
   },
   "outputs": [],
   "source": []
  },
  {
   "cell_type": "markdown",
   "metadata": {
    "collapsed": true
   },
   "source": [
    "## Gray Code\n",
    "\n",
    "A Gray code is a binary numbering system where two successive values differ only in one bit position. Each value in an N-bit Gray code has N bits. The most obvious case is for N = 1, when the Gray code values are just 0 and 1.\n",
    "\n",
    "For **example**, here is an illustration showing how we might generate the Gray code for N = 2:\n",
    "\n",
    "<img src='https://www.e-olymp.com/media/upload/media/0913/1378199922.JPG' alt='img'/>\n",
    "\n",
    "So the list of Gray codes for N = 2 is 00, 01, 11, and 10.\n",
    "\n",
    "Here is how we might generate the Gray code for N = 3:\n",
    "<img src='https://www.e-olymp.com/media/upload/media/0913/1378199939.JPG' alt='img'/>\n",
    "\n",
    "Your task in this problem is to compute and display only the k-th value in the N-bit Gray code, suitably labeled. Assume the values are numbered starting with 0. So if N = 3 and k = 4 your program will display 110.\n",
    "\n",
    "**Input**\n",
    "\n",
    "There will be multiple input cases. For each case, the input will consist of a single line containing integer values for N and k separated by one or more blanks and followed by an end of line character. N will be between 1 and 72, and k will be between 0 and 2N−1. The line following the input line for the last case will contain two zeroes.\n",
    "\n",
    "**Input example**\n",
    "\n",
    "3 4\n",
    "\n",
    "4 13\n",
    "\n",
    "10 1023\n",
    "\n",
    "12 1000\n",
    "\n",
    "0 0\n",
    "\n",
    "**Output example**\n",
    "\n",
    "Case 1:\n",
    "  N = 3\n",
    "  k = 4\n",
    "  g = 110\n",
    "\n",
    "Case 2:\n",
    "  N = 4\n",
    "  k = 13\n",
    "  g = 1011\n",
    "\n",
    "Case 3:\n",
    "  N = 10\n",
    "  k = 1023\n",
    "  g = 1000000000\n",
    "\n",
    "Case 4:\n",
    "  N = 12\n",
    "  k = 1000\n",
    "  g = 001000011100"
   ]
  },
  {
   "cell_type": "code",
   "execution_count": 359,
   "metadata": {
    "collapsed": true
   },
   "outputs": [],
   "source": [
    "class Solution:\n",
    "    def grayCode(self, n, k):\n",
    "        if n != 0 and k >= 2**n:\n",
    "            return\n",
    "        \n",
    "        res = []\n",
    "        self.trav(n, k, '', res)\n",
    "        print('N = {0}\\nk = {1}\\ng = {2}\\n'.format(n, k, res[0]))\n",
    "        \n",
    "    def trav(self, n, k, deco, res):\n",
    "        if n == 0 and k == 0:\n",
    "            return self.trav(n-1, k, deco+'0', res)\n",
    "        elif n > 0:\n",
    "            if k < 2**n/2:\n",
    "                return self.trav(n-1, k, deco+'0', res)\n",
    "            else:\n",
    "                return self.trav(n-1, 2**n-k-1, deco+'1', res)\n",
    "        elif n < 0:\n",
    "            res.append(deco)"
   ]
  },
  {
   "cell_type": "code",
   "execution_count": 360,
   "metadata": {},
   "outputs": [
    {
     "name": "stdout",
     "output_type": "stream",
     "text": [
      "N = 12\n",
      "k = 1000\n",
      "g = 0010000111000\n",
      "\n",
      "N = 0\n",
      "k = 0\n",
      "g = 0\n",
      "\n"
     ]
    }
   ],
   "source": [
    "Solution().grayCode(12, 1000)\n",
    "Solution().grayCode(0, 0)"
   ]
  },
  {
   "cell_type": "code",
   "execution_count": 361,
   "metadata": {
    "collapsed": true
   },
   "outputs": [],
   "source": [
    "class Solution:\n",
    "    def findSequence(self, n, k):\n",
    "        result = self.trav(n, k)\n",
    "        print('N = {0}\\nk = {1}\\ng = {2}\\n'.format(n, k, result))\n",
    "        \n",
    "    def trav(self, n, k):\n",
    "        if n == 0 and k == 0:\n",
    "            return '0'\n",
    "        elif not (n or k) or k >= 2**n:\n",
    "            return\n",
    "\n",
    "        result = ''\n",
    "        for i in range(n, 0, -1):\n",
    "            if k < 2**i/2:\n",
    "                result += '0'\n",
    "            else:\n",
    "                result += '1'\n",
    "            k = min(k, 2**i-k-1)\n",
    "        return result"
   ]
  },
  {
   "cell_type": "code",
   "execution_count": 362,
   "metadata": {
    "scrolled": true
   },
   "outputs": [
    {
     "name": "stdout",
     "output_type": "stream",
     "text": [
      "N = 3\n",
      "k = 4\n",
      "g = 110\n",
      "\n",
      "N = 4\n",
      "k = 13\n",
      "g = 1011\n",
      "\n",
      "N = 10\n",
      "k = 1023\n",
      "g = 1000000000\n",
      "\n",
      "N = 12\n",
      "k = 1000\n",
      "g = 001000011100\n",
      "\n",
      "N = 0\n",
      "k = 0\n",
      "g = 0\n",
      "\n"
     ]
    }
   ],
   "source": [
    "Solution().findSequence(3, 4)\n",
    "Solution().findSequence(4, 13)\n",
    "Solution().findSequence(10, 1023)\n",
    "Solution().findSequence(12, 1000)\n",
    "Solution().findSequence(0, 0)"
   ]
  }
 ],
 "metadata": {
  "kernelspec": {
   "display_name": "Python [conda root]",
   "language": "python",
   "name": "conda-root-py"
  },
  "language_info": {
   "codemirror_mode": {
    "name": "ipython",
    "version": 3
   },
   "file_extension": ".py",
   "mimetype": "text/x-python",
   "name": "python",
   "nbconvert_exporter": "python",
   "pygments_lexer": "ipython3",
   "version": "3.6.3"
  }
 },
 "nbformat": 4,
 "nbformat_minor": 2
}
