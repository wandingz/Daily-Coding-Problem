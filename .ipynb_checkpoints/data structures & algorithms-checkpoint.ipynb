{
 "cells": [
  {
   "cell_type": "markdown",
   "metadata": {},
   "source": [
    "## simple linked list"
   ]
  },
  {
   "cell_type": "code",
   "execution_count": 13,
   "metadata": {},
   "outputs": [
    {
     "name": "stdout",
     "output_type": "stream",
     "text": [
      "True\n",
      "None\n",
      "12\n"
     ]
    }
   ],
   "source": [
    "class Node(object):\n",
    "    def __init__(self, d, n=None):\n",
    "        self.data = d\n",
    "        self.next_node = n\n",
    "    def set_data(self, d):\n",
    "        self.data = d\n",
    "    def get_data(self):\n",
    "        return self.data\n",
    "    def set_next(self, n):\n",
    "        self.next_node = n\n",
    "    def get_next(self):\n",
    "        return self.next_node\n",
    "\n",
    "class Linked_list(object):\n",
    "    def __init__(self, r=None):\n",
    "        self.root = r\n",
    "        self.size = 0\n",
    "    def get_size(self):\n",
    "        return self.size\n",
    "    def add(self, d):\n",
    "        '''\n",
    "        create a new node\n",
    "        pivot self.root to the new node\n",
    "        mark-up size\n",
    "        '''\n",
    "        new_node = Node(d, self.root)\n",
    "        self.root = new_node\n",
    "        self.size += 1\n",
    "    def remove(self, d):\n",
    "        '''\n",
    "        loop/pivot the root through all nodes\n",
    "        connect the previous node to the next node\n",
    "        if the root is to be removed, set the root to the next node\n",
    "        mark-down size\n",
    "        if found/removed return Ture, else return False\n",
    "        '''\n",
    "        this_node = self.root\n",
    "        prev_node = None\n",
    "        while this_node:\n",
    "            if this_node.get_data() == d:\n",
    "                if prev_node:\n",
    "                    prev_node.set_next(this_node.get_next())\n",
    "                else:\n",
    "                    self.root = this_node.get_next()\n",
    "                self.size -= 1\n",
    "                return True\n",
    "            else: # pivot the root to next\n",
    "                prev_node = this_node\n",
    "                this_node = this_node.get_next()\n",
    "        return False # loop over all\n",
    "    def find(self, d):\n",
    "        '''\n",
    "        loop/pivot the root through all nodes\n",
    "        if found return d, else return None\n",
    "        '''\n",
    "        this_node = self.root\n",
    "        while this_node:\n",
    "            if this_node.get_data() == d:\n",
    "                return d\n",
    "            else:\n",
    "                this_node = this_node.get_next()\n",
    "        return None # loop over all\n",
    "ll = Linked_list()\n",
    "ll.add(5)\n",
    "ll.add(2)\n",
    "ll.add(12)\n",
    "print(ll.remove(5)) # expect output: True\n",
    "print(ll.find(4)) # expect output: None\n",
    "print(ll.find(12)) # expect output: 12"
   ]
  },
  {
   "cell_type": "code",
   "execution_count": null,
   "metadata": {
    "collapsed": true
   },
   "outputs": [],
   "source": []
  },
  {
   "cell_type": "code",
   "execution_count": null,
   "metadata": {
    "collapsed": true
   },
   "outputs": [],
   "source": []
  },
  {
   "cell_type": "code",
   "execution_count": null,
   "metadata": {
    "collapsed": true
   },
   "outputs": [],
   "source": []
  }
 ],
 "metadata": {
  "kernelspec": {
   "display_name": "Python [default]",
   "language": "python",
   "name": "python3"
  },
  "language_info": {
   "codemirror_mode": {
    "name": "ipython",
    "version": 3
   },
   "file_extension": ".py",
   "mimetype": "text/x-python",
   "name": "python",
   "nbconvert_exporter": "python",
   "pygments_lexer": "ipython3",
   "version": "3.6.3"
  }
 },
 "nbformat": 4,
 "nbformat_minor": 2
}
