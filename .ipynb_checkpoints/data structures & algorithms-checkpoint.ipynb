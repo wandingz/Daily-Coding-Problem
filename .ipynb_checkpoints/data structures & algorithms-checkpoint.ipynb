{
 "cells": [
  {
   "cell_type": "markdown",
   "metadata": {},
   "source": [
    "## simple linked list"
   ]
  },
  {
   "cell_type": "code",
   "execution_count": 22,
   "metadata": {
    "collapsed": true
   },
   "outputs": [],
   "source": [
    "class Node(object):\n",
    "    def __init__(self, d, n=None):\n",
    "        self.data = d\n",
    "        self.next_node = n\n",
    "    def set_data(self, d):\n",
    "        self.data = d\n",
    "    def get_data(self):\n",
    "        return self.data\n",
    "    def set_next(self, n):\n",
    "        self.next_node = n\n",
    "    def get_next(self):\n",
    "        return self.next_node\n",
    "\n",
    "class Linked_list(object):\n",
    "    def __init__(self, r=None):\n",
    "        self.root = r\n",
    "        self.size = 0\n",
    "    def get_size(self):\n",
    "        return self.size\n",
    "    def add(self, d):\n",
    "        '''\n",
    "        create a new node\n",
    "        pivot self.root to the new node\n",
    "        mark-up size\n",
    "        '''\n",
    "        new_node = Node(d, self.root)\n",
    "        self.root = new_node\n",
    "        self.size += 1\n",
    "    def remove(self, d):\n",
    "        '''\n",
    "        loop/pivot the root through all nodes\n",
    "        connect the previous node to the next node\n",
    "        if the root is to be removed, set the root to the next node\n",
    "        mark-down size\n",
    "        if found/removed return Ture, else return False\n",
    "        '''\n",
    "        this_node = self.root\n",
    "        prev_node = None\n",
    "        while this_node:\n",
    "            if this_node.get_data() == d:\n",
    "                if prev_node:\n",
    "                    prev_node.set_next(this_node.get_next())\n",
    "                else:\n",
    "                    self.root = this_node.get_next()\n",
    "                self.size -= 1\n",
    "                return True\n",
    "            else: # pivot the root to next\n",
    "                prev_node = this_node\n",
    "                this_node = this_node.get_next()\n",
    "        return False # loop over all\n",
    "    def find(self, d):\n",
    "        '''\n",
    "        loop/pivot the root through all nodes\n",
    "        if found return d, else return None\n",
    "        '''\n",
    "        this_node = self.root\n",
    "        while this_node:\n",
    "            if this_node.get_data() == d:\n",
    "                return d\n",
    "            else:\n",
    "                this_node = this_node.get_next()\n",
    "        return None # loop over all"
   ]
  },
  {
   "cell_type": "code",
   "execution_count": 23,
   "metadata": {},
   "outputs": [
    {
     "name": "stdout",
     "output_type": "stream",
     "text": [
      "True\n",
      "None\n",
      "12\n"
     ]
    }
   ],
   "source": [
    "ll = Linked_list()\n",
    "ll.add(5)\n",
    "ll.add(2)\n",
    "ll.add(12)\n",
    "print(ll.remove(5)) # expect output: True\n",
    "print(ll.find(4)) # expect output: None\n",
    "print(ll.find(12)) # expect output: 12"
   ]
  },
  {
   "cell_type": "code",
   "execution_count": null,
   "metadata": {
    "collapsed": true
   },
   "outputs": [],
   "source": []
  },
  {
   "cell_type": "code",
   "execution_count": null,
   "metadata": {
    "collapsed": true
   },
   "outputs": [],
   "source": []
  },
  {
   "cell_type": "code",
   "execution_count": null,
   "metadata": {
    "collapsed": true
   },
   "outputs": [],
   "source": []
  },
  {
   "cell_type": "markdown",
   "metadata": {
    "collapsed": true
   },
   "source": [
    "## Simple Binary Search Tree (BST)"
   ]
  },
  {
   "cell_type": "code",
   "execution_count": 1,
   "metadata": {
    "collapsed": true
   },
   "outputs": [],
   "source": [
    "class Node:\n",
    "    def __init__(self, val):\n",
    "        self.value = val\n",
    "        self.left = None\n",
    "        self.right = None\n",
    "    def insert(self, data):\n",
    "        '''\n",
    "        return True if added\n",
    "        False the value already exists\n",
    "        '''\n",
    "        if self.value == data: # don't allow duplicates in our tree\n",
    "            return False\n",
    "        elif self.value > data:\n",
    "            if self.left: # if left node exists\n",
    "                return self.left.insert(data)\n",
    "            else:\n",
    "                self.left = Node(data)\n",
    "                return True\n",
    "        elif self.value < data:\n",
    "            if self.right: # if right node exists\n",
    "                return self.right.insert(data)\n",
    "            else:\n",
    "                self.right = Node(data)\n",
    "                return True\n",
    "    def find(self, data):\n",
    "        if self.value == data:\n",
    "            return True\n",
    "        elif self.value > data:\n",
    "            if self.left:\n",
    "                return self.left.find(data)\n",
    "            else:\n",
    "                return False # didn't find the data\n",
    "        elif self.value < data:\n",
    "            if self.right:\n",
    "                return self.right.find(data)\n",
    "            else:\n",
    "                return False\n",
    "    def preorder(self):\n",
    "        if self:\n",
    "            print(str(self.value))\n",
    "            if self.left:\n",
    "                self.left.preorder()\n",
    "            if self.right:\n",
    "                self.right.preorder()\n",
    "    def postorder(self):\n",
    "        if self:\n",
    "            if self.left:\n",
    "                self.left.postorder()\n",
    "            if self.right:\n",
    "                self.right.postorder()\n",
    "            print(str(self.value))\n",
    "    def inorder(self):\n",
    "        if self:\n",
    "            if self.left:\n",
    "                self.left.inorder()\n",
    "            print(str(self.value))\n",
    "            if self.right:\n",
    "                self.right.inorder()\n",
    "\n",
    "class Tree:\n",
    "    def __init__(self):\n",
    "        self.root = None\n",
    "    def insert(self, data):\n",
    "        if self.root: # if root node exists\n",
    "            return self.root.insert(data)\n",
    "        else:\n",
    "            self.root = Node(data)\n",
    "            return True # the node added\n",
    "    def find(self, data):\n",
    "        if self.root:\n",
    "            return self.root.find(data)\n",
    "        else:\n",
    "            return False\n",
    "    def preorder(self):\n",
    "        print('preorder')\n",
    "        self.root.preorder()\n",
    "    def postorder(self):\n",
    "        print('postorder')\n",
    "        self.root.postorder()\n",
    "    def inorder(self):\n",
    "        print('inorder')\n",
    "        self.root.inorder()"
   ]
  },
  {
   "cell_type": "markdown",
   "metadata": {},
   "source": [
    "<img src='Screen Shot 2018-08-07 at 8.21.10 PM.png' alt='img' width='400'/>"
   ]
  },
  {
   "cell_type": "code",
   "execution_count": 10,
   "metadata": {},
   "outputs": [
    {
     "name": "stdout",
     "output_type": "stream",
     "text": [
      "None\n",
      "<__main__.Node object at 0x10d62ae10>\n"
     ]
    }
   ],
   "source": [
    "bst = Tree()\n",
    "print(bst.root)\n",
    "\n",
    "[bst.insert(x) for x in [12, 4, 2, 3, 47, 14, 1, 10, 32, 27, 9, 22, 17, 42]]\n",
    "print(bst.root)\n",
    "\n",
    "print(bst.preorder())\n",
    "print(bst.postorder())\n",
    "print(bst.inorder())"
   ]
  },
  {
   "cell_type": "code",
   "execution_count": null,
   "metadata": {
    "collapsed": true
   },
   "outputs": [],
   "source": [
    "class Node:\n",
    "    def __init__(self, val):\n",
    "        self.value = val\n",
    "        self.left = None\n",
    "        self.right = None\n",
    "\n",
    "class Tree:\n",
    "    def __init__(self):\n",
    "        self.root = None\n",
    "        "
   ]
  }
 ],
 "metadata": {
  "kernelspec": {
   "display_name": "Python [default]",
   "language": "python",
   "name": "python3"
  },
  "language_info": {
   "codemirror_mode": {
    "name": "ipython",
    "version": 3
   },
   "file_extension": ".py",
   "mimetype": "text/x-python",
   "name": "python",
   "nbconvert_exporter": "python",
   "pygments_lexer": "ipython3",
   "version": "3.6.3"
  }
 },
 "nbformat": 4,
 "nbformat_minor": 2
}
