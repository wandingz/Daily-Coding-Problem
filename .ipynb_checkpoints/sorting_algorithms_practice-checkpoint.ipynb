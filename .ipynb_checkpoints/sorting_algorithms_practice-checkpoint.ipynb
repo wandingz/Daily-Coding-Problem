{
 "cells": [
  {
   "cell_type": "markdown",
   "metadata": {},
   "source": [
    "## counting sort\n",
    "\n",
    "O(n+k) - n=len(arr), k=arr_max+1\n",
    "\n",
    "add values to an output array in <u>a sorted order of the occurence counts</u> of each input value you have."
   ]
  },
  {
   "cell_type": "code",
   "execution_count": 16,
   "metadata": {
    "scrolled": true
   },
   "outputs": [
    {
     "name": "stdout",
     "output_type": "stream",
     "text": [
      "array: [3, 2, 4, 1, 0, 5, 0, 3, 2, 0, 2, 4, 5]\n",
      "element: [0, 1, 2, 3, 4, 5]\n",
      "count: [3, 1, 3, 2, 2, 2]\n",
      "index: [2, 3, 6, 8, 10, 12]\n",
      "sorted: [0, 0, 0, 1, 2, 2, 2, 3, 3, 4, 4, 5, 5]\n"
     ]
    }
   ],
   "source": [
    "def counting_sort(arr, arr_max):\n",
    "    if len(arr) > 0:\n",
    "        print('array:', arr)\n",
    "        # count each arr element\n",
    "        count = [0 for _ in range(arr_max+1)]\n",
    "        for a in arr:\n",
    "            count[a] += 1\n",
    "        print('element:', [x for x in range(arr_max+1)])\n",
    "        print('count:', count)\n",
    "        \n",
    "        # get the highest index for each element\n",
    "        for i in range(1,len(count)):\n",
    "            count[i] += count[i-1]\n",
    "        idx_lst = [x-1 for x in count]\n",
    "        print('index:', idx_lst)\n",
    "        \n",
    "        # return result sorted arr\n",
    "        result = [None for _ in range(len(arr))]\n",
    "        for a in arr:\n",
    "            result[idx_lst[a]] = a\n",
    "            idx_lst[a] -= 1\n",
    "\n",
    "        return result\n",
    "\n",
    "if __name__ == '__main__':\n",
    "    arr_max = 5\n",
    "    arr = [3, 2, 4, 1, 0, 5, 0, 3, 2, 0, 2, 4, 5]\n",
    "    print('sorted:', counting_sort(arr, arr_max))"
   ]
  },
  {
   "cell_type": "markdown",
   "metadata": {},
   "source": [
    "## quick sort\n",
    "\n",
    "O(nlogn) ~ O($n^2$)\n",
    "\n",
    "choose a <u>pivot element</u> and revolve over it to divide the array in <u>two subarrays</u> such that the first subarray contains smaller-then-pivot elements and second part contains greater-then-pivot elements."
   ]
  },
  {
   "cell_type": "code",
   "execution_count": 49,
   "metadata": {},
   "outputs": [
    {
     "name": "stdout",
     "output_type": "stream",
     "text": [
      "array: [3, 2, 4, 1, 0, 5, 0, 3, 2, 0, 2, 4, 5]\n",
      "step by step:\n",
      "4 [0, 1, 0, 0, 2, 5, 2, 3, 3, 4, 2, 4, 5]\n",
      "3 [0, 0, 0, 1, 2, 5, 2, 3, 3, 4, 2, 4, 5]\n",
      "0 [0, 0, 0, 1, 2, 5, 2, 3, 3, 4, 2, 4, 5]\n",
      "1 [0, 0, 0, 1, 2, 5, 2, 3, 3, 4, 2, 4, 5]\n",
      "11 [0, 0, 0, 1, 2, 4, 2, 3, 3, 4, 2, 5, 5]\n",
      "5 [0, 0, 0, 1, 2, 2, 4, 3, 3, 4, 2, 5, 5]\n",
      "9 [0, 0, 0, 1, 2, 2, 2, 3, 3, 4, 4, 5, 5]\n",
      "6 [0, 0, 0, 1, 2, 2, 2, 3, 3, 4, 4, 5, 5]\n",
      "7 [0, 0, 0, 1, 2, 2, 2, 3, 3, 4, 4, 5, 5]\n",
      "sorted: [0, 0, 0, 1, 2, 2, 2, 3, 3, 4, 4, 5, 5]\n"
     ]
    }
   ],
   "source": [
    "import random\n",
    "\n",
    "def partition(arr, lo, hi):\n",
    "    # random choose the median & then switch it to the very front\n",
    "    x = random.choice(range(lo, hi))\n",
    "    arr[x], arr[lo] = arr[lo], arr[x]\n",
    "    # start the pivot from the very front & gradually move the smallers to the front\n",
    "    p = lo\n",
    "    for i in range(lo+1, hi+1):\n",
    "        if arr[i] < arr[lo]:\n",
    "            p += 1\n",
    "            arr[i], arr[p] = arr[p], arr[i]\n",
    "    # switch the median back to the median position\n",
    "    arr[lo], arr[p] = arr[p], arr[lo]\n",
    "    return p\n",
    "\n",
    "def quick_sort(arr, lo, hi):\n",
    "    if lo < hi:\n",
    "        p = partition(arr, lo, hi)\n",
    "        print(p, arr)\n",
    "        quick_sort(arr, lo, p-1)\n",
    "        quick_sort(arr, p+1, hi)\n",
    "        return arr\n",
    "\n",
    "if __name__ == '__main__':\n",
    "    arr = [3, 2, 4, 1, 0, 5, 0, 3, 2, 0, 2, 4, 5]\n",
    "    print('array:', arr)\n",
    "    print('step by step:')\n",
    "    print('sorted:', quick_sort(arr, 0, len(arr)-1))"
   ]
  },
  {
   "cell_type": "code",
   "execution_count": 56,
   "metadata": {},
   "outputs": [
    {
     "name": "stdout",
     "output_type": "stream",
     "text": [
      "array: [3, 2, 4, 1, 0, 5, 0, 3, 2, 0, 2, 4, 5]\n",
      "sorted: [0, 0, 0, 1, 2, 2, 2, 3, 3, 4, 4, 5, 5]\n"
     ]
    }
   ],
   "source": [
    "# one-liner method\n",
    "def qsort(arr):\n",
    "    if len(arr) > 1:\n",
    "        return qsort([x for x in arr[1:] if x <= arr[0]]) + \\\n",
    "    [arr[0]] + qsort([x for x in arr[1:] if x > arr[0]])\n",
    "    else:\n",
    "        return arr\n",
    "\n",
    "if __name__ == '__main__':\n",
    "    arr = [3, 2, 4, 1, 0, 5, 0, 3, 2, 0, 2, 4, 5]\n",
    "    print('array:', arr)\n",
    "    print('sorted:', qsort(arr))"
   ]
  },
  {
   "cell_type": "markdown",
   "metadata": {},
   "source": [
    "## bubble sort\n",
    "\n",
    "O($n^2$)\n",
    "\n",
    "continue moving <u>the bigger value</u> of every adjacent items down to the end of the list."
   ]
  },
  {
   "cell_type": "code",
   "execution_count": 59,
   "metadata": {},
   "outputs": [
    {
     "name": "stdout",
     "output_type": "stream",
     "text": [
      "array: [3, 2, 4, 1, 0, 5, 0, 3, 2, 0, 2, 4, 5]\n",
      "sorted: [0, 0, 0, 1, 2, 2, 2, 3, 3, 4, 4, 5, 5]\n"
     ]
    }
   ],
   "source": [
    "def bubble_sort(arr):\n",
    "    if len(arr) > 1:\n",
    "        s = len(arr) - 1\n",
    "        while s > 0:\n",
    "            for i in range(s):\n",
    "                if arr[i] > arr[i+1]:\n",
    "                    arr[i], arr[i+1] = arr[i+1], arr[i]\n",
    "            s -= 1\n",
    "        return arr\n",
    "\n",
    "if __name__ == '__main__':\n",
    "    arr = [3, 2, 4, 1, 0, 5, 0, 3, 2, 0, 2, 4, 5]\n",
    "    print('array:', arr)\n",
    "    print('sorted:', bubble_sort(arr))"
   ]
  },
  {
   "cell_type": "markdown",
   "metadata": {},
   "source": [
    "## selection sort\n",
    "\n",
    "O($n^2$)\n",
    "\n",
    "select the unsorted <u>leftmost element</u> and continue swapping it with the smallest element on its right."
   ]
  },
  {
   "cell_type": "code",
   "execution_count": 61,
   "metadata": {},
   "outputs": [
    {
     "name": "stdout",
     "output_type": "stream",
     "text": [
      "array: [3, 2, 4, 1, 0, 5, 0, 3, 2, 0, 2, 4, 5]\n",
      "selection sort: [0, 0, 0, 1, 2, 2, 2, 3, 3, 4, 4, 5, 5]\n"
     ]
    }
   ],
   "source": [
    "def selection_sort(arr):\n",
    "    if len(arr) > 1:\n",
    "        p = 0\n",
    "        while p < len(arr):\n",
    "            for i in range(p+1,len(arr)):\n",
    "                if arr[p] > arr[i]:\n",
    "                    arr[p], arr[i] = arr[i], arr[p]\n",
    "            p += 1\n",
    "        return arr\n",
    "\n",
    "if __name__ == '__main__':\n",
    "    arr = [3, 2, 4, 1, 0, 5, 0, 3, 2, 0, 2, 4, 5]\n",
    "    print('array:', arr)\n",
    "    print('selection sort:', selection_sort(arr))"
   ]
  },
  {
   "cell_type": "markdown",
   "metadata": {},
   "source": [
    "## insertion sort\n",
    "\n",
    "O($n^2$)\n",
    "\n",
    "xx<-|pxxxx revolve the pivot from the second element and move rightward; compare and swap the smaller element to the left."
   ]
  },
  {
   "cell_type": "code",
   "execution_count": 69,
   "metadata": {},
   "outputs": [
    {
     "name": "stdout",
     "output_type": "stream",
     "text": [
      "array: [3, 2, 4, 1, 0, 5, 0, 3, 2, 0, 2, 4, 5]\n",
      "insertion sort: [0, 0, 0, 1, 2, 2, 2, 3, 3, 4, 4, 5, 5]\n"
     ]
    }
   ],
   "source": [
    "def insertion_sort(arr):\n",
    "    if len(arr) > 1:\n",
    "        for i in range(1, len(arr)):\n",
    "            p = i\n",
    "            j = i - 1\n",
    "            while j >= 0:\n",
    "                if arr[p] < arr[j]:\n",
    "                    arr[p], arr[j] = arr[j], arr[p]\n",
    "                    p = j\n",
    "                j -= 1\n",
    "        return arr\n",
    "\n",
    "if __name__ == '__main__':\n",
    "    arr = [3, 2, 4, 1, 0, 5, 0, 3, 2, 0, 2, 4, 5]\n",
    "    print('array:', arr)\n",
    "    print('insertion sort:', insertion_sort(arr))"
   ]
  },
  {
   "cell_type": "code",
   "execution_count": null,
   "metadata": {
    "collapsed": true
   },
   "outputs": [],
   "source": []
  },
  {
   "cell_type": "code",
   "execution_count": null,
   "metadata": {
    "collapsed": true
   },
   "outputs": [],
   "source": []
  },
  {
   "cell_type": "code",
   "execution_count": null,
   "metadata": {
    "collapsed": true
   },
   "outputs": [],
   "source": []
  },
  {
   "cell_type": "code",
   "execution_count": null,
   "metadata": {
    "collapsed": true
   },
   "outputs": [],
   "source": []
  },
  {
   "cell_type": "code",
   "execution_count": null,
   "metadata": {
    "collapsed": true
   },
   "outputs": [],
   "source": []
  }
 ],
 "metadata": {
  "kernelspec": {
   "display_name": "Python [conda root]",
   "language": "python",
   "name": "conda-root-py"
  },
  "language_info": {
   "codemirror_mode": {
    "name": "ipython",
    "version": 3
   },
   "file_extension": ".py",
   "mimetype": "text/x-python",
   "name": "python",
   "nbconvert_exporter": "python",
   "pygments_lexer": "ipython3",
   "version": "3.6.3"
  }
 },
 "nbformat": 4,
 "nbformat_minor": 2
}
