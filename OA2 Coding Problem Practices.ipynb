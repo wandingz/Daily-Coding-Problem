{
 "cells": [
  {
   "cell_type": "code",
   "execution_count": 221,
   "metadata": {},
   "outputs": [],
   "source": [
    "# A 1\n",
    "# B 2\n",
    "# C 3\n",
    "# D 4\n",
    "# E 5\n",
    "# F 6\n",
    "# G 7\n",
    "# H 8\n",
    "# I 9\n",
    "# J 10\n",
    "# K 11\n",
    "# L 12\n",
    "# M 13\n",
    "# N 14\n",
    "# O 15\n",
    "# P 16\n",
    "# Q 17\n",
    "# R 18\n",
    "# S 19\n",
    "# T 20\n",
    "# U 21\n",
    "# V 22\n",
    "# W 23\n",
    "# X 24\n",
    "# Y 25\n",
    "# Z 26"
   ]
  },
  {
   "cell_type": "markdown",
   "metadata": {},
   "source": [
    "## work simulation"
   ]
  },
  {
   "cell_type": "code",
   "execution_count": 223,
   "metadata": {},
   "outputs": [],
   "source": [
    "# A 1-2 M\n",
    "# B 4-6 H\n",
    "# C 2-4 L\n",
    "# D 2-4 M\n",
    "# E 5-9 H\n",
    "# F 3-5 H\n",
    "# G 2-4 M\n",
    "# H 1-2 L"
   ]
  },
  {
   "cell_type": "code",
   "execution_count": 224,
   "metadata": {
    "collapsed": true
   },
   "outputs": [],
   "source": [
    "# F 3-5 H\n",
    "# B 4-6 H\n",
    "# E 5-9 H\n",
    "# A 1-2 M\n",
    "# D 2-4 M\n",
    "# G 2-4 M\n",
    "# H 1-2 L\n",
    "# C 2-4 L"
   ]
  },
  {
   "cell_type": "code",
   "execution_count": 226,
   "metadata": {
    "collapsed": true
   },
   "outputs": [],
   "source": [
    "# F > B > E\n",
    "# A > D = G > C\n",
    "# A > H"
   ]
  },
  {
   "cell_type": "code",
   "execution_count": null,
   "metadata": {
    "collapsed": true
   },
   "outputs": [],
   "source": [
    "# ADF > ACF\n",
    "# ADF > ABD > ACDF > ACDGH"
   ]
  },
  {
   "cell_type": "code",
   "execution_count": null,
   "metadata": {
    "collapsed": true
   },
   "outputs": [],
   "source": [
    "# FG    5-9   HM    6\n",
    "# ADF   6-11  MMH   5\n",
    "# ACF   6-11  MLH   4\n",
    "# ABD   7-12  MHM   3\n",
    "# ACDG  7-14  MLMM  2\n",
    "# ACDGH 8-16  MLMML 1"
   ]
  },
  {
   "cell_type": "markdown",
   "metadata": {},
   "source": [
    "Are we receiving complaints from customers?\n",
    "\n",
    "Do any other projects depend on fixing this problem?\n",
    "\n",
    "How long will it take to solve this problem?\n",
    "\n",
    "If I help you with this problem, will you help me finish my work today?\n",
    "\n",
    "How many customers is this affecting?\n",
    "\n",
    "How does this affect customers?"
   ]
  },
  {
   "cell_type": "code",
   "execution_count": null,
   "metadata": {
    "collapsed": true
   },
   "outputs": [],
   "source": []
  },
  {
   "cell_type": "code",
   "execution_count": null,
   "metadata": {
    "collapsed": true
   },
   "outputs": [],
   "source": []
  },
  {
   "cell_type": "code",
   "execution_count": null,
   "metadata": {
    "collapsed": true
   },
   "outputs": [],
   "source": []
  },
  {
   "cell_type": "code",
   "execution_count": null,
   "metadata": {
    "collapsed": true
   },
   "outputs": [],
   "source": []
  },
  {
   "cell_type": "markdown",
   "metadata": {},
   "source": [
    "## Round Robin"
   ]
  },
  {
   "cell_type": "code",
   "execution_count": 283,
   "metadata": {},
   "outputs": [],
   "source": [
    "class Solution:\n",
    "    def waitingTimeRobin(self, arrival, run, q):\n",
    "        # base case\n",
    "        if not (arrival or run) or len(arrival) != len(run) or q <= 0:\n",
    "            return 0\n",
    "        \n",
    "        wait0 = [x + y for x, y in zip(arrival, run)]\n",
    "        time = arrival[0]\n",
    "        qlst = [0] # index\n",
    "        result = []\n",
    "        self.helper(arrival, run, q, 0, result, time, qlst, wait0)\n",
    "        return result[0] / len(arrival)\n",
    "\n",
    "    def helper(self, arrival, run, q, cumu, result, time, qlst, wait0):\n",
    "        if qlst:\n",
    "            runi = qlst.pop(0) # index\n",
    "            intervel = min(run[runi], q)\n",
    "            run[runi] -= intervel\n",
    "            \n",
    "            i = runi + 1\n",
    "            while i < len(arrival):\n",
    "                if arrival[i] in range(time, time + intervel):\n",
    "                    qlst.append(i)\n",
    "                    i += 1\n",
    "                else:\n",
    "                    break\n",
    "            \n",
    "            wait = 0\n",
    "            if run[runi] == 0:\n",
    "                wait = time + intervel - wait0[runi]\n",
    "            else:\n",
    "                qlst.append(runi)\n",
    "\n",
    "            return self.helper(arrival, run, q, cumu+wait, result, time+intervel, qlst, wait0)\n",
    "        else:\n",
    "            result.append(cumu)\n",
    "        "
   ]
  },
  {
   "cell_type": "code",
   "execution_count": 284,
   "metadata": {},
   "outputs": [
    {
     "data": {
      "text/plain": [
       "2.3333333333333335"
      ]
     },
     "execution_count": 284,
     "metadata": {},
     "output_type": "execute_result"
    }
   ],
   "source": [
    "arrival = [0, 1, 4]\n",
    "run = [5, 2, 3]\n",
    "q = 3\n",
    "Solution().waitingTimeRobin(arrival, run, q)"
   ]
  },
  {
   "cell_type": "code",
   "execution_count": 285,
   "metadata": {},
   "outputs": [
    {
     "data": {
      "text/plain": [
       "1.6666666666666667"
      ]
     },
     "execution_count": 285,
     "metadata": {},
     "output_type": "execute_result"
    }
   ],
   "source": [
    "arrival = [0, 1, 4]\n",
    "run = [2, 5, 3]\n",
    "q = 3\n",
    "Solution().waitingTimeRobin(arrival, run, q)"
   ]
  },
  {
   "cell_type": "code",
   "execution_count": 286,
   "metadata": {},
   "outputs": [
    {
     "data": {
      "text/plain": [
       "4.666666666666667"
      ]
     },
     "execution_count": 286,
     "metadata": {},
     "output_type": "execute_result"
    }
   ],
   "source": [
    "arrival = [1, 3, 4]\n",
    "run = [5, 5, 3]\n",
    "q = 3\n",
    "Solution().waitingTimeRobin(arrival, run, q)"
   ]
  },
  {
   "cell_type": "code",
   "execution_count": null,
   "metadata": {
    "collapsed": true
   },
   "outputs": [],
   "source": []
  },
  {
   "cell_type": "code",
   "execution_count": null,
   "metadata": {
    "collapsed": true
   },
   "outputs": [],
   "source": [
    "arrival = [0, 1, 4]\n",
    "run = [5, 2, 3]\n",
    "q = 3\n",
    "\n",
    "avg wait time = ((7-0-5) + (5-1-2) + (10-4-3))/3 = (2+2+3)/3 = 2.33 \n",
    "\n",
    "0~3        3~5              5~7                 7~10\n",
    "[0, 1]     [0, 1, 4]        [0, 1, 4]           [0, 1, 4]\n",
    "[5-3, 2]   [5-3, 2-2, 3]    [5-3-2, 2-2, 3]     [-, -, 3-3]\n",
    "[]         [, 5, ]          [7, 5]              [7, 5, 10]"
   ]
  },
  {
   "cell_type": "code",
   "execution_count": null,
   "metadata": {},
   "outputs": [],
   "source": [
    "arrival = [1, 3, 4]\n",
    "run = [5, 5, 3]\n",
    "q = 3\n",
    "\n",
    "wait0 = [6, 8, 7]\n",
    "\n",
    "1~4       4~7            7~9          9~12         12~14\n",
    "[1, 3]    [1, 3, 4]      [1, 3, 4]    [1, 3, 4]    [1, 3, 4]\n",
    "[5-3, 5]  [5-3, 5-3, 3]  [-, 5-3, 3]  [-, 5-3, -]  [-, -, -]\n",
    "[]        []             [9, , ]      [9, , 12]    [9, 14, 12]\n",
    "\n",
    "avg = (3+6+5)/3 = 4.67"
   ]
  },
  {
   "cell_type": "code",
   "execution_count": null,
   "metadata": {
    "collapsed": true
   },
   "outputs": [],
   "source": [
    "arrival = [0, 1, 4]\n",
    "run = [2, 5, 3]\n",
    "q = 3\n",
    "\n",
    "avg = ((2-0-2) + (8-4-3) + (10-1-5))/3 = (0+1+4)/3 = 1.67\n",
    "\n",
    "0~2       2~5          5~8            8~10\n",
    "[0, 1]    [0, 1, 4]    [0, 1, 4]      [0, 1, 4]\n",
    "[2-2, 5]  [-, 5-3, 3]  [-, 5-3, 3-3]  [-, 5-3-2, -]\n",
    "[2, , ]   [2, , ]      [2, , 8]       [2, 10, 8]"
   ]
  },
  {
   "cell_type": "code",
   "execution_count": 236,
   "metadata": {},
   "outputs": [
    {
     "data": {
      "text/plain": [
       "[2, 6, 7]"
      ]
     },
     "execution_count": 236,
     "metadata": {},
     "output_type": "execute_result"
    }
   ],
   "source": [
    "arrival = [0, 1, 4]\n",
    "run = [2, 5, 3]\n"
   ]
  },
  {
   "cell_type": "code",
   "execution_count": null,
   "metadata": {
    "collapsed": true
   },
   "outputs": [],
   "source": []
  },
  {
   "cell_type": "code",
   "execution_count": null,
   "metadata": {
    "collapsed": true
   },
   "outputs": [],
   "source": []
  },
  {
   "cell_type": "code",
   "execution_count": null,
   "metadata": {
    "collapsed": true
   },
   "outputs": [],
   "source": []
  },
  {
   "cell_type": "markdown",
   "metadata": {},
   "source": [
    "## Close Two Sum\n",
    "\n",
    "Given a float capacity, in an array of floats, pick two so that their sum is the closest to and <= target capacity"
   ]
  },
  {
   "cell_type": "code",
   "execution_count": 320,
   "metadata": {
    "collapsed": true
   },
   "outputs": [],
   "source": [
    "class Solution:\n",
    "    def findOptimalWeights(self, capacity, weights, numContainers):\n",
    "        \n",
    "        weights.sort()\n",
    "        l, r = 0, len(weights)-1\n",
    "        msum = 0\n",
    "        while l < r:\n",
    "            s = weights[l] + weights[r]\n",
    "            if s > msum and s <= capacity:\n",
    "                msum = s\n",
    "                first, second = l, r\n",
    "                l += 1\n",
    "            elif s > capacity:\n",
    "                r -= 1\n",
    "            else:\n",
    "                l += 1\n",
    "        return weights[first], weights[second]"
   ]
  },
  {
   "cell_type": "code",
   "execution_count": 323,
   "metadata": {},
   "outputs": [
    {
     "name": "stdout",
     "output_type": "stream",
     "text": [
      "[14, 15, 17, 18, 19, 30, 31, 35, 36, 37]\n",
      "(30, 37)\n"
     ]
    }
   ],
   "source": [
    "import random; random.seed(13)\n",
    "\n",
    "capacity = 67\n",
    "weights = random.sample(range(10,40), 10)\n",
    "print(sorted(weights))\n",
    "numContainers = 2\n",
    "print(Solution().findOptimalWeights(capacity, weights, numContainers))"
   ]
  },
  {
   "cell_type": "code",
   "execution_count": null,
   "metadata": {
    "collapsed": true
   },
   "outputs": [],
   "source": []
  },
  {
   "cell_type": "code",
   "execution_count": null,
   "metadata": {
    "collapsed": true
   },
   "outputs": [],
   "source": []
  },
  {
   "cell_type": "code",
   "execution_count": null,
   "metadata": {
    "collapsed": true
   },
   "outputs": [],
   "source": []
  },
  {
   "cell_type": "markdown",
   "metadata": {},
   "source": [
    "## Rotate mxn Matrix\n",
    "\n",
    "leetcode rotate image\n",
    "\n",
    "把一个m*n的矩阵旋转90度，给一个flag规定是向左转还是向右转"
   ]
  },
  {
   "cell_type": "code",
   "execution_count": 309,
   "metadata": {
    "collapsed": true
   },
   "outputs": [],
   "source": [
    "import numpy as np\n",
    "\n",
    "class Solution:\n",
    "    def rotate(self, matrix, flag):\n",
    "        \"\"\"\n",
    "        :type matrix: List[List[int]]\n",
    "        :rtype: void Do not return anything, modify matrix in-place instead.\n",
    "        \"\"\"\n",
    "        if not matrix.tolist():\n",
    "            return\n",
    "        \n",
    "        # check monotony\n",
    "        check = []\n",
    "        [check.extend(row) for row in matrix]\n",
    "        if check[1:] == check[:-1]:\n",
    "            return\n",
    "        \n",
    "        marr = np.array(matrix)\n",
    "        # transpose\n",
    "        marrt = np.transpose(marr)\n",
    "        # flip\n",
    "        if flag == 1: # right rotate\n",
    "            return np.flip(marrt, 1)\n",
    "        else: # left rotate\n",
    "            return np.flip(marrt, 0)"
   ]
  },
  {
   "cell_type": "code",
   "execution_count": 317,
   "metadata": {
    "scrolled": true
   },
   "outputs": [
    {
     "name": "stdout",
     "output_type": "stream",
     "text": [
      "[[0 1]\n",
      " [2 3]\n",
      " [4 5]\n",
      " [6 7]\n",
      " [8 9]]\n",
      "[[8 6 4 2 0]\n",
      " [9 7 5 3 1]]\n",
      "[[1 3 5 7 9]\n",
      " [0 2 4 6 8]]\n"
     ]
    }
   ],
   "source": [
    "matrix = np.arange(10).reshape((5,2))\n",
    "print(matrix)\n",
    "flag = 1 # right\n",
    "print(Solution().rotate(matrix, flag))\n",
    "flag = 0 # left\n",
    "print(Solution().rotate(matrix, flag))"
   ]
  },
  {
   "cell_type": "code",
   "execution_count": null,
   "metadata": {
    "collapsed": true
   },
   "outputs": [],
   "source": []
  },
  {
   "cell_type": "code",
   "execution_count": null,
   "metadata": {
    "collapsed": true
   },
   "outputs": [],
   "source": []
  },
  {
   "cell_type": "code",
   "execution_count": null,
   "metadata": {
    "collapsed": true
   },
   "outputs": [],
   "source": []
  },
  {
   "cell_type": "markdown",
   "metadata": {},
   "source": [
    "## Search in 2D Matrix"
   ]
  },
  {
   "cell_type": "code",
   "execution_count": null,
   "metadata": {
    "collapsed": true
   },
   "outputs": [],
   "source": []
  },
  {
   "cell_type": "code",
   "execution_count": null,
   "metadata": {
    "collapsed": true
   },
   "outputs": [],
   "source": []
  },
  {
   "cell_type": "code",
   "execution_count": null,
   "metadata": {
    "collapsed": true
   },
   "outputs": [],
   "source": []
  },
  {
   "cell_type": "code",
   "execution_count": null,
   "metadata": {
    "collapsed": true
   },
   "outputs": [],
   "source": []
  },
  {
   "cell_type": "code",
   "execution_count": null,
   "metadata": {
    "collapsed": true
   },
   "outputs": [],
   "source": []
  },
  {
   "cell_type": "code",
   "execution_count": null,
   "metadata": {
    "collapsed": true
   },
   "outputs": [],
   "source": []
  },
  {
   "cell_type": "markdown",
   "metadata": {},
   "source": [
    "## Window Minimum\n",
    "\n",
    "ArrayList = [4, 2, 12, 11, -5]\n",
    "\n",
    "WindowSize = 2\n",
    "\n",
    "return ArrayList = [2, 2, 11, -5"
   ]
  },
  {
   "cell_type": "code",
   "execution_count": null,
   "metadata": {
    "collapsed": true
   },
   "outputs": [],
   "source": []
  },
  {
   "cell_type": "code",
   "execution_count": null,
   "metadata": {
    "collapsed": true
   },
   "outputs": [],
   "source": []
  },
  {
   "cell_type": "code",
   "execution_count": null,
   "metadata": {
    "collapsed": true
   },
   "outputs": [],
   "source": []
  },
  {
   "cell_type": "code",
   "execution_count": null,
   "metadata": {
    "collapsed": true
   },
   "outputs": [],
   "source": []
  },
  {
   "cell_type": "code",
   "execution_count": null,
   "metadata": {
    "collapsed": true
   },
   "outputs": [],
   "source": []
  },
  {
   "cell_type": "code",
   "execution_count": null,
   "metadata": {
    "collapsed": true
   },
   "outputs": [],
   "source": []
  },
  {
   "cell_type": "markdown",
   "metadata": {},
   "source": [
    "## Sorted Insert into Cyclic Linked List\n",
    "\n",
    "插入一个新的节点到一个sorted cycle linkedlist，返回新的节点。给的list节点不一定是最小节点, 所以先要找到最小的点"
   ]
  },
  {
   "cell_type": "code",
   "execution_count": null,
   "metadata": {
    "collapsed": true
   },
   "outputs": [],
   "source": [
    "class Node:\n",
    "    def __init__(self, val, next=None):\n",
    "        self.value = val\n",
    "        self.next = next\n",
    "        \n",
    "class Solution:\n",
    "    def insert(self, head, insertVal):\n",
    "        \"\"\"\n",
    "        :type head: Node\n",
    "        :type insertVal: int\n",
    "        :rtype: Node\n",
    "        \"\"\"\n",
    "        def insertAfter(node, val):\n",
    "            node.next = Node(val, node.next)\n",
    "\n",
    "        if not head: # first node\n",
    "            node = Node(insertVal, None)\n",
    "            node.next = node # cyclic linked list\n",
    "            return node\n",
    "        \n",
    "        h = head\n",
    "        while True:\n",
    "            if h.val < h.next.val:\n",
    "                if h.val <= insertVal and insertVal <= h.next.val:\n",
    "                    h.next = Node(insertVal, h.next)\n",
    "                    break\n",
    "            elif h.next.val < h.val:\n",
    "                if h.val <= insertVal or insertVal <= h.next.val:\n",
    "                    h.next = Node(insertVal, h.next)\n",
    "                    break\n",
    "            else:\n",
    "                if h.next = head:\n",
    "                    h.next = Node(insertVal, h.next)\n",
    "                    break\n",
    "            h = h.next\n",
    "        return head"
   ]
  },
  {
   "cell_type": "code",
   "execution_count": null,
   "metadata": {
    "collapsed": true
   },
   "outputs": [],
   "source": []
  },
  {
   "cell_type": "code",
   "execution_count": null,
   "metadata": {
    "collapsed": true
   },
   "outputs": [],
   "source": []
  },
  {
   "cell_type": "code",
   "execution_count": null,
   "metadata": {
    "collapsed": true
   },
   "outputs": [],
   "source": []
  },
  {
   "cell_type": "code",
   "execution_count": null,
   "metadata": {
    "collapsed": true
   },
   "outputs": [],
   "source": []
  },
  {
   "cell_type": "code",
   "execution_count": null,
   "metadata": {
    "collapsed": true
   },
   "outputs": [],
   "source": []
  },
  {
   "cell_type": "code",
   "execution_count": null,
   "metadata": {
    "collapsed": true
   },
   "outputs": [],
   "source": []
  },
  {
   "cell_type": "code",
   "execution_count": null,
   "metadata": {
    "collapsed": true
   },
   "outputs": [],
   "source": []
  },
  {
   "cell_type": "code",
   "execution_count": null,
   "metadata": {
    "collapsed": true
   },
   "outputs": [],
   "source": [
    "class Node:\n",
    "    def __init__(self, val):\n",
    "        self.value = val\n",
    "        self.next = None\n",
    "\n",
    "class LinkedList:\n",
    "    # initialize root\n",
    "    def __init__(self):\n",
    "        self.root = None\n",
    "        self.size = 0\n",
    "    \n",
    "    # insert a new node at the beginning\n",
    "    def push(self, value):\n",
    "        new_node = Node(value)\n",
    "        new_node.next = self.root\n",
    "        self.root = new_node\n",
    "        self.size += 1\n",
    "    \n",
    "    # print the linked list\n",
    "    def printlst(self):\n",
    "        tmp = self.root\n",
    "        print(tmp.value)\n",
    "        tmp = tmp.next\n",
    "        while tmp:\n",
    "            print(tmp.value)\n",
    "            tmp = tmp.next\n",
    "    \n",
    "    def sortedInsert(self, value)\n",
    "    \n",
    "            "
   ]
  },
  {
   "cell_type": "code",
   "execution_count": null,
   "metadata": {
    "collapsed": true
   },
   "outputs": [],
   "source": []
  },
  {
   "cell_type": "code",
   "execution_count": null,
   "metadata": {
    "collapsed": true
   },
   "outputs": [],
   "source": []
  },
  {
   "cell_type": "code",
   "execution_count": null,
   "metadata": {
    "collapsed": true
   },
   "outputs": [],
   "source": []
  },
  {
   "cell_type": "code",
   "execution_count": null,
   "metadata": {
    "collapsed": true
   },
   "outputs": [],
   "source": []
  },
  {
   "cell_type": "code",
   "execution_count": null,
   "metadata": {
    "collapsed": true
   },
   "outputs": [],
   "source": []
  },
  {
   "cell_type": "code",
   "execution_count": null,
   "metadata": {
    "collapsed": true
   },
   "outputs": [],
   "source": []
  },
  {
   "cell_type": "code",
   "execution_count": null,
   "metadata": {
    "collapsed": true
   },
   "outputs": [],
   "source": []
  },
  {
   "cell_type": "markdown",
   "metadata": {},
   "source": [
    "## right rotation\n",
    "\n",
    "Given a string s1 and a string s2, write a snippet to say whether s2 is a rotation of s1?\n",
    "\n",
    "**example:**\n",
    "\n",
    "given s1 = ABCD and s2 = CDAB, return true\n",
    "\n",
    "given s1 = ABCD, and s2 = ACBD , return false)"
   ]
  },
  {
   "cell_type": "code",
   "execution_count": 17,
   "metadata": {},
   "outputs": [
    {
     "name": "stdout",
     "output_type": "stream",
     "text": [
      "1\n"
     ]
    }
   ],
   "source": [
    "class Solution:\n",
    "    def rightRotation(self, word1, word2):\n",
    "        if not word1 or not word2 or len(word1) < 0 or len(word2) < 0 or len(word1) != len(word2):\n",
    "            return -1\n",
    "        tmp = word1 + word1\n",
    "        if word2 in tmp:\n",
    "            return 1\n",
    "        else:\n",
    "            return -1\n",
    "\n",
    "print(Solution().rightRotation('ABCD', 'CDAB'))"
   ]
  },
  {
   "cell_type": "markdown",
   "metadata": {},
   "source": [
    "## grey code\n",
    "\n",
    "Determine if two number are neighbors in grey code sequence"
   ]
  },
  {
   "cell_type": "code",
   "execution_count": 152,
   "metadata": {},
   "outputs": [
    {
     "data": {
      "text/plain": [
       "2"
      ]
     },
     "execution_count": 152,
     "metadata": {},
     "output_type": "execute_result"
    }
   ],
   "source": [
    "element1, element2 = '0b1000100', '0b1000110'\n",
    "int(element1, 2) ^ int(element2, 2)"
   ]
  },
  {
   "cell_type": "code",
   "execution_count": null,
   "metadata": {
    "collapsed": true
   },
   "outputs": [],
   "source": []
  },
  {
   "cell_type": "markdown",
   "metadata": {},
   "source": [
    "## remove vowel"
   ]
  },
  {
   "cell_type": "code",
   "execution_count": null,
   "metadata": {
    "collapsed": true
   },
   "outputs": [],
   "source": []
  },
  {
   "cell_type": "code",
   "execution_count": null,
   "metadata": {
    "collapsed": true
   },
   "outputs": [],
   "source": []
  },
  {
   "cell_type": "markdown",
   "metadata": {},
   "source": [
    "## Close Two Sum\n",
    "\n",
    "findOptimalWeights\n",
    "\n",
    "現在給某個容量(double capacity), 還有一個array(double[] weights), 和int numOfContainers\n",
    "\n",
    "主要是要在array中選出兩個weights總和小於等於capacity但最接近capacity 然後指定到一個Container object並且return first和second的順序並不影響，numOfContainer在java裡好像也是沒有用的,因為double[]本身就自帶length資訊\n",
    "\n",
    "最後用了最簡單的方法兩個 for loop找總和最接近capacity的pair\n",
    "\n",
    "總共8個test cases直接就過了"
   ]
  },
  {
   "cell_type": "code",
   "execution_count": 209,
   "metadata": {},
   "outputs": [],
   "source": [
    "def findOptimalWeights(capacity, weights, numOfContainers=2):\n",
    "    if not weights:\n",
    "        return\n",
    "    if len(weights) < numOfContainers:\n",
    "        return weights\n",
    "    \n",
    "    weights.sort()\n",
    "    i, j = 0, len(weights)-1\n",
    "    res, ti, tj = 0, i, j\n",
    "    while i < j:\n",
    "        s = weights[i] + weights[j]\n",
    "        if s > res and s <= capacity:\n",
    "            res = s\n",
    "            ti, tj = i, j\n",
    "            i += 1\n",
    "        elif s > capacity:\n",
    "            j -= 1\n",
    "        else:\n",
    "            i += 1\n",
    "    return [weights[ti], weights[tj]]"
   ]
  },
  {
   "cell_type": "code",
   "execution_count": 217,
   "metadata": {},
   "outputs": [
    {
     "name": "stdout",
     "output_type": "stream",
     "text": [
      "[13, 27, 15, 36, 58, 16, 12, 34, 44, 45]\n"
     ]
    }
   ],
   "source": [
    "import random; random.seed(123)\n",
    "arr = random.sample(range(10,60),10)\n",
    "print(arr)"
   ]
  },
  {
   "cell_type": "code",
   "execution_count": 218,
   "metadata": {},
   "outputs": [
    {
     "data": {
      "text/plain": [
       "[36, 45]"
      ]
     },
     "execution_count": 218,
     "metadata": {},
     "output_type": "execute_result"
    }
   ],
   "source": [
    "findOptimalWeights(83, arr)"
   ]
  },
  {
   "cell_type": "code",
   "execution_count": 219,
   "metadata": {},
   "outputs": [
    {
     "name": "stdout",
     "output_type": "stream",
     "text": [
      "[12, 13, 15, 16, 27, 34, 36, 44, 45, 58]\n"
     ]
    }
   ],
   "source": [
    "arr.sort()\n",
    "print(arr)"
   ]
  },
  {
   "cell_type": "code",
   "execution_count": null,
   "metadata": {
    "collapsed": true
   },
   "outputs": [],
   "source": []
  },
  {
   "cell_type": "code",
   "execution_count": 155,
   "metadata": {},
   "outputs": [
    {
     "name": "stdout",
     "output_type": "stream",
     "text": [
      "-3\n"
     ]
    }
   ],
   "source": [
    "# O(n+n^2)\n",
    "class Solution:\n",
    "    def threeSumClosest(self, nums, target):\n",
    "        \"\"\"\n",
    "        :type nums: List[int]\n",
    "        :type target: int\n",
    "        :rtype: int\n",
    "        \"\"\"\n",
    "        # base case\n",
    "        if not nums or len(nums) < 3:\n",
    "            return\n",
    "        \n",
    "        result = nums[0] + nums[1] + nums[2]\n",
    "        for i in range(len(nums)-2):\n",
    "            l, r = i+1, len(nums)-1\n",
    "            while l < r:\n",
    "                s = nums[i] + nums[l] + nums[r]\n",
    "                if s == target:\n",
    "                    return s\n",
    "                if abs(s-target) < abs(result-target):\n",
    "                    result = s\n",
    "                if s < target:\n",
    "                    l += 1\n",
    "                elif s > target:\n",
    "                    r -= 1\n",
    "        return result\n",
    "        \n",
    "if __name__ == '__main__':\n",
    "    arr = [-1, 2, 1, -4]\n",
    "    arr = [0,0,0]\n",
    "    arr = [1,2,4,8,16,32,64,128]\n",
    "    arr = [-3,-2,-5,3,-4]\n",
    "    t = -1\n",
    "    print(Solution().threeSumClosest(arr, t))"
   ]
  },
  {
   "cell_type": "code",
   "execution_count": null,
   "metadata": {
    "collapsed": true
   },
   "outputs": [],
   "source": []
  },
  {
   "cell_type": "code",
   "execution_count": null,
   "metadata": {
    "collapsed": true
   },
   "outputs": [],
   "source": []
  },
  {
   "cell_type": "code",
   "execution_count": null,
   "metadata": {
    "collapsed": true
   },
   "outputs": [],
   "source": []
  },
  {
   "cell_type": "markdown",
   "metadata": {},
   "source": []
  },
  {
   "cell_type": "code",
   "execution_count": null,
   "metadata": {
    "collapsed": true
   },
   "outputs": [],
   "source": []
  },
  {
   "cell_type": "code",
   "execution_count": null,
   "metadata": {
    "collapsed": true
   },
   "outputs": [],
   "source": []
  },
  {
   "cell_type": "code",
   "execution_count": null,
   "metadata": {
    "collapsed": true
   },
   "outputs": [],
   "source": []
  },
  {
   "cell_type": "code",
   "execution_count": null,
   "metadata": {
    "collapsed": true
   },
   "outputs": [],
   "source": []
  },
  {
   "cell_type": "code",
   "execution_count": null,
   "metadata": {
    "collapsed": true
   },
   "outputs": [],
   "source": []
  },
  {
   "cell_type": "code",
   "execution_count": null,
   "metadata": {
    "collapsed": true
   },
   "outputs": [],
   "source": []
  },
  {
   "cell_type": "code",
   "execution_count": null,
   "metadata": {
    "collapsed": true
   },
   "outputs": [],
   "source": []
  },
  {
   "cell_type": "code",
   "execution_count": null,
   "metadata": {
    "collapsed": true
   },
   "outputs": [],
   "source": []
  },
  {
   "cell_type": "code",
   "execution_count": null,
   "metadata": {
    "collapsed": true
   },
   "outputs": [],
   "source": []
  },
  {
   "cell_type": "code",
   "execution_count": null,
   "metadata": {
    "collapsed": true
   },
   "outputs": [],
   "source": []
  },
  {
   "cell_type": "code",
   "execution_count": null,
   "metadata": {
    "collapsed": true
   },
   "outputs": [],
   "source": []
  },
  {
   "cell_type": "code",
   "execution_count": null,
   "metadata": {
    "collapsed": true
   },
   "outputs": [],
   "source": []
  },
  {
   "cell_type": "code",
   "execution_count": null,
   "metadata": {
    "collapsed": true
   },
   "outputs": [],
   "source": []
  },
  {
   "cell_type": "code",
   "execution_count": null,
   "metadata": {
    "collapsed": true
   },
   "outputs": [],
   "source": []
  },
  {
   "cell_type": "code",
   "execution_count": 61,
   "metadata": {},
   "outputs": [
    {
     "name": "stdout",
     "output_type": "stream",
     "text": [
      "8.0\n",
      "8.5\n",
      "8.5\n",
      "8.375\n",
      "8.25\n",
      "8.15625\n",
      "8.09375\n",
      "8.0546875\n"
     ]
    }
   ],
   "source": [
    "n = 3\n",
    "for i in range(2**3):\n",
    "    print(2**n+i/2^i)"
   ]
  },
  {
   "cell_type": "code",
   "execution_count": null,
   "metadata": {
    "collapsed": true
   },
   "outputs": [],
   "source": []
  }
 ],
 "metadata": {
  "kernelspec": {
   "display_name": "Python [conda root]",
   "language": "python",
   "name": "conda-root-py"
  },
  "language_info": {
   "codemirror_mode": {
    "name": "ipython",
    "version": 3
   },
   "file_extension": ".py",
   "mimetype": "text/x-python",
   "name": "python",
   "nbconvert_exporter": "python",
   "pygments_lexer": "ipython3",
   "version": "3.6.3"
  }
 },
 "nbformat": 4,
 "nbformat_minor": 2
}
