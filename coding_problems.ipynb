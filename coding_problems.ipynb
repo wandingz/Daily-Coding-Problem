{
 "cells": [
  {
   "cell_type": "markdown",
   "metadata": {},
   "source": [
    "## Find K Closest Points to the Origin"
   ]
  },
  {
   "cell_type": "markdown",
   "metadata": {},
   "source": [
    "- selection sort + compare\n",
    "\n",
    "O(k + nk - $k^2$)"
   ]
  },
  {
   "cell_type": "code",
   "execution_count": 1,
   "metadata": {},
   "outputs": [
    {
     "name": "stdout",
     "output_type": "stream",
     "text": [
      "closest points: [(-1, 0), (0, -2), (-2, -3)]\n",
      "closest distances: [1, 2, 5]\n"
     ]
    }
   ],
   "source": [
    "def calculate_dist(p):\n",
    "    return abs(p[0]) + abs(p[1])\n",
    "\n",
    "def selection_sort(dlst, plst, k):\n",
    "    if k > 0:\n",
    "        piv = 0\n",
    "        while piv < k:\n",
    "            for i in range(piv+1,k):\n",
    "                if dlst[piv] > dlst[i]:\n",
    "                    dlst[piv], dlst[i] = dlst[i], dlst[piv]\n",
    "                    plst[piv], plst[i] = plst[i], plst[piv]\n",
    "            piv += 1\n",
    "        return dlst, plst\n",
    "    \n",
    "def closest_pts(arr, k):\n",
    "    if len(arr) < k:\n",
    "        return\n",
    "    else:\n",
    "        plst, dlst = [], []\n",
    "        for a in arr:\n",
    "            if len(plst) < k:\n",
    "                plst.append(a)\n",
    "                dlst.append(calculate_dist(a))\n",
    "            elif len(plst) == k:\n",
    "                dlst, plst = selection_sort(dlst, plst, k)\n",
    "                for i,d in enumerate(dlst):\n",
    "                    if calculate_dist(a) < d:\n",
    "                        dlst[i] = calculate_dist(a)\n",
    "                        plst[i] = a\n",
    "                        pass\n",
    "        return dlst, plst\n",
    "\n",
    "if __name__ == '__main__':\n",
    "    arr = [(-2,4), (0,-2), (-1,0), (2,5), (-2,-3), (3,2), (-3,2), (5,1), (-1,-4)]\n",
    "    k = 3\n",
    "    dlst, plst =  closest_pts(arr, k)\n",
    "    print('closest points:', plst) \n",
    "    print('closest distances:', dlst)"
   ]
  },
  {
   "cell_type": "markdown",
   "metadata": {},
   "source": [
    "- quick sort\n",
    "\n",
    "O(n + nlogn)"
   ]
  },
  {
   "cell_type": "code",
   "execution_count": 2,
   "metadata": {},
   "outputs": [
    {
     "name": "stdout",
     "output_type": "stream",
     "text": [
      "closest points: [(-1, 0), (0, -2), (3, 2)]\n",
      "closest distances: [5, 2, 1]\n"
     ]
    }
   ],
   "source": [
    "import random\n",
    "\n",
    "def calculate_dist(p):\n",
    "    return abs(p[0]) + abs(p[1])\n",
    "\n",
    "def get_lsts(arr):\n",
    "    if len(arr) < k:\n",
    "        return\n",
    "    elif len(arr) == k:\n",
    "        return arr\n",
    "    else:\n",
    "        dlst = []\n",
    "        for a in arr:\n",
    "            dlst.append(calculate_dist(a))\n",
    "        return dlst\n",
    "\n",
    "def swap(arr, dlst, a, b):\n",
    "    dlst[a], dlst[b] = dlst[b], dlst[a]\n",
    "    arr[a], arr[b] = arr[b], arr[a]\n",
    "\n",
    "def partition(arr, dlst, lo, hi):\n",
    "    piv = random.choice(range(lo, hi+1))\n",
    "    swap(arr, dlst, lo, piv)\n",
    "    piv = lo\n",
    "    for i in range(lo+1, hi+1):\n",
    "        if dlst[i] < dlst[lo]:\n",
    "            piv += 1\n",
    "            swap(arr, dlst, i, piv)\n",
    "    swap(arr, dlst, lo, piv)\n",
    "    return piv\n",
    "\n",
    "def quick_sort(arr, lo, hi):\n",
    "    if lo >= hi:\n",
    "        return\n",
    "    else:\n",
    "        dlst = get_lsts(arr)\n",
    "        piv = partition(arr, dlst, lo, hi)\n",
    "        quick_sort(arr, lo, piv-1)\n",
    "        quick_sort(arr, piv+1, hi)\n",
    "        return arr, dlst\n",
    "    \n",
    "if __name__ == '__main__':\n",
    "    arr = [(-2,4), (0,-2), (-1,0), (2,5), (-2,-3), (3,2), (-3,2), (5,1)]\n",
    "    k = 3\n",
    "    arr, dlst = quick_sort(arr, 0, len(arr)-1)\n",
    "    print('closest points:', arr[:3]) \n",
    "    print('closest distances:', dlst[:3])"
   ]
  },
  {
   "cell_type": "code",
   "execution_count": null,
   "metadata": {
    "collapsed": true
   },
   "outputs": [],
   "source": []
  },
  {
   "cell_type": "markdown",
   "metadata": {},
   "source": [
    "## Count Recursive Staircase Problem\n",
    "\n",
    "- dynamic programming & memorization"
   ]
  },
  {
   "cell_type": "code",
   "execution_count": 39,
   "metadata": {},
   "outputs": [
    {
     "name": "stdout",
     "output_type": "stream",
     "text": [
      "8\n"
     ]
    }
   ],
   "source": [
    "def staircase(k, memo):\n",
    "    if k < 0:\n",
    "        return\n",
    "    else:\n",
    "        if k == 0:\n",
    "            return 1\n",
    "        if k == 1:\n",
    "            return 1\n",
    "        if memo[k] != None:\n",
    "            res = memo[k]\n",
    "        res = staircase(k-1, memo)\n",
    "        if k >= 2:\n",
    "            res += staircase(k-2, memo)\n",
    "        memo[k] = res\n",
    "        return res\n",
    "\n",
    "if __name__ == '__main__':\n",
    "    k = 5\n",
    "    memo = [None for _ in range(k+1)]\n",
    "    print(staircase(k, memo))"
   ]
  },
  {
   "cell_type": "code",
   "execution_count": null,
   "metadata": {
    "collapsed": true
   },
   "outputs": [],
   "source": []
  },
  {
   "cell_type": "markdown",
   "metadata": {},
   "source": [
    "## Count Text Decoding Problem\n",
    "\n",
    "Decode alphabets [a-z] as numbers [1-26]. Given a message of numbers, count the number of ways to decode it."
   ]
  },
  {
   "cell_type": "code",
   "execution_count": 61,
   "metadata": {},
   "outputs": [
    {
     "name": "stdout",
     "output_type": "stream",
     "text": [
      "[None, None, None, None, None, None, None, None, None, None, 1]\n",
      "[None, None, None, None, None, None, None, None, None, 2, 1]\n",
      "[None, None, None, None, None, None, None, 2, None, 2, 1]\n",
      "[None, None, None, None, None, None, 2, 2, None, 2, 1]\n",
      "[None, None, None, None, None, 4, 2, 2, None, 2, 1]\n",
      "[None, None, None, None, 6, 4, 2, 2, None, 2, 1]\n",
      "[None, None, None, 6, 6, 4, 2, 2, None, 2, 1]\n",
      "[None, None, 6, 6, 6, 4, 2, 2, None, 2, 1]\n",
      "[None, 6, 6, 6, 6, 4, 2, 2, None, 2, 1]\n",
      "[6, 6, 6, 6, 6, 4, 2, 2, None, 2, 1]\n",
      "6\n"
     ]
    }
   ],
   "source": [
    "def decomsg(i, msg, memo):\n",
    "    if len(msg) == 0:\n",
    "        return 1\n",
    "    if i == len(msg):\n",
    "        return 1\n",
    "    if msg[i] == '0':\n",
    "        return 0\n",
    "\n",
    "    if memo[i] != None:\n",
    "        return memo[i]\n",
    "    res = decomsg(i+1, msg, memo)\n",
    "    if len(msg)-i >= 2 and int(msg[i:i+2]) <= 26:\n",
    "        res += decomsg(i+2, msg, memo)\n",
    "    memo[i] = res\n",
    "    print(memo)\n",
    "    return res\n",
    "\n",
    "if __name__ == '__main__':\n",
    "    msg = '65432111015'\n",
    "    memo = [None for _ in range(len(msg))]\n",
    "    print(decomsg(0, msg, memo))"
   ]
  },
  {
   "cell_type": "code",
   "execution_count": null,
   "metadata": {
    "collapsed": true
   },
   "outputs": [],
   "source": []
  },
  {
   "cell_type": "markdown",
   "metadata": {
    "collapsed": true
   },
   "source": [
    "## Two Sum\n",
    "\n",
    "Given an array of integers, return indices of the two numbers such that they add up to a specific target.\n",
    "\n",
    "You may assume that each input would have exactly one solution, and you may not use the same element twice.\n",
    "\n",
    "**Example:**\n",
    "Given nums = [2, 7, 11, 15], target = 9, Because nums[0] + nums[1] = 2 + 7 = 9, return [0, 1]."
   ]
  },
  {
   "cell_type": "code",
   "execution_count": 49,
   "metadata": {},
   "outputs": [
    {
     "name": "stdout",
     "output_type": "stream",
     "text": [
      "[2, 7]\n"
     ]
    }
   ],
   "source": [
    "def twosum(arr, k):\n",
    "    \"\"\"\n",
    "    :type nums: List[int]\n",
    "    :type target: int\n",
    "    :rtype: List[int]\n",
    "    \"\"\"\n",
    "    if len(arr) < 2:\n",
    "        return\n",
    "    else:\n",
    "        adict = {}\n",
    "        for a in arr:\n",
    "            if a not in adict:\n",
    "                adict[k-a] = a\n",
    "            else:\n",
    "                return [k-a, a]\n",
    "                \n",
    "if __name__ == '__main__':\n",
    "    arr = [2, 7, 11, 15]\n",
    "    k = 9\n",
    "    print(twosum(arr, k))"
   ]
  },
  {
   "cell_type": "code",
   "execution_count": null,
   "metadata": {
    "collapsed": true
   },
   "outputs": [],
   "source": []
  },
  {
   "cell_type": "markdown",
   "metadata": {
    "collapsed": true
   },
   "source": [
    "## Three Sum\n",
    "\n",
    "Given an array nums of n integers, are there elements a, b, c in nums such that a + b + c = 0? Find all unique triplets in the array which gives the sum of zero.\n",
    "\n",
    "**Note:**\n",
    "The solution set must not contain duplicate triplets.\n",
    "\n",
    "**Example:**\n",
    "Given array nums = [-1, 0, 1, 2, -1, -4],\n",
    "A solution set is:\n",
    "[\n",
    "  [-1, 0, 1],\n",
    "  [-1, -1, 2]\n",
    "]"
   ]
  },
  {
   "cell_type": "code",
   "execution_count": 55,
   "metadata": {},
   "outputs": [
    {
     "name": "stdout",
     "output_type": "stream",
     "text": [
      "[[-1, -1, 2], [-1, 0, 1]]\n"
     ]
    }
   ],
   "source": [
    "# O(n^2)\n",
    "def _threesum(arr):\n",
    "    if len(arr) < 3:\n",
    "        return\n",
    "    else:\n",
    "        res = []\n",
    "        arr.sort()\n",
    "        for i in range(len(arr)-2): # at least three numbers required\n",
    "            if i > 0 and arr[i] == arr[i-1]: # skip duplicate\n",
    "                continue\n",
    "            l, r = i+1, len(arr)-1\n",
    "            while l < r:\n",
    "                s = arr[i] + arr[l] + arr[r]\n",
    "                if s < 0:\n",
    "                    l += 1\n",
    "                elif s > 0:\n",
    "                    r -= 1\n",
    "                else:\n",
    "                    res.append([arr[i], arr[l], arr[r]])\n",
    "                    while l < r and arr[l] == arr[l+1]:\n",
    "                        l += 1\n",
    "                    while l <r and arr[r] == arr[r-1]:\n",
    "                        r -= 1\n",
    "                    l += 1\n",
    "                    r -= 1\n",
    "        return res\n",
    "\n",
    "if __name__ == '__main__':\n",
    "    arr = [-1, 0, 1, 2, -1, -4]\n",
    "    print(_threesum(arr))"
   ]
  },
  {
   "cell_type": "code",
   "execution_count": 14,
   "metadata": {},
   "outputs": [
    {
     "name": "stdout",
     "output_type": "stream",
     "text": [
      "[[-1, 0, 1], [-1, 2, -1]]\n"
     ]
    }
   ],
   "source": [
    "# O(n^3)\n",
    "def threesum(arr):\n",
    "    if len(arr) < 3:\n",
    "        return []\n",
    "    else:\n",
    "        res = []\n",
    "        for i in range(len(arr)-2):\n",
    "            for j in range(i+1, len(arr)-1):\n",
    "                for k in range(j+1, len(arr)):\n",
    "                    if arr[i] + arr[j] + arr[k] == 0:\n",
    "                        # avoid duplicate list within the result list\n",
    "                        if set([arr[i], arr[j], arr[k]]) not in [set(x) for x in res]:\n",
    "                            res.append([arr[i], arr[j], arr[k]])\n",
    "        return res\n",
    "if __name__ == '__main__':\n",
    "    arr = [-1, 0, 1, 2, -1, -4]\n",
    "    print(threesum(arr))"
   ]
  },
  {
   "cell_type": "code",
   "execution_count": null,
   "metadata": {
    "collapsed": true
   },
   "outputs": [],
   "source": []
  },
  {
   "cell_type": "markdown",
   "metadata": {},
   "source": [
    "## Add Two Numbers\n",
    "\n",
    "You are given two non-empty linked lists representing two non-negative integers. The digits are stored in reverse order and each of their nodes contain a single digit. Add the two numbers and return it as a linked list.\n",
    "\n",
    "You may assume the two numbers do not contain any leading zero, except the number 0 itself.\n",
    "\n",
    "**Example:**\n",
    "\n",
    "Input: (2 -> 4 -> 3) + (5 -> 6 -> 4)\n",
    "Output: 7 -> 0 -> 8\n",
    "Explanation: 342 + 465 = 807."
   ]
  },
  {
   "cell_type": "code",
   "execution_count": null,
   "metadata": {},
   "outputs": [],
   "source": []
  },
  {
   "cell_type": "code",
   "execution_count": null,
   "metadata": {
    "collapsed": true
   },
   "outputs": [],
   "source": []
  },
  {
   "cell_type": "code",
   "execution_count": null,
   "metadata": {
    "collapsed": true
   },
   "outputs": [],
   "source": []
  },
  {
   "cell_type": "code",
   "execution_count": null,
   "metadata": {
    "collapsed": true
   },
   "outputs": [],
   "source": []
  },
  {
   "cell_type": "code",
   "execution_count": null,
   "metadata": {
    "collapsed": true
   },
   "outputs": [],
   "source": []
  },
  {
   "cell_type": "code",
   "execution_count": null,
   "metadata": {
    "collapsed": true
   },
   "outputs": [],
   "source": []
  },
  {
   "cell_type": "code",
   "execution_count": null,
   "metadata": {
    "collapsed": true
   },
   "outputs": [],
   "source": []
  },
  {
   "cell_type": "markdown",
   "metadata": {},
   "source": [
    "## 3Sum Closest\n",
    "\n",
    "Given an array nums of n integers and an integer target, find three integers in nums such that the sum is closest to target. Return the sum of the three integers. You may assume that each input would have exactly one solution.\n",
    "\n",
    "**Example:**\n",
    "\n",
    "Given array nums = [-1, 2, 1, -4], and target = 1.\n",
    "\n",
    "The sum that is closest to the target is 2. (-1 + 2 + 1 = 2)."
   ]
  },
  {
   "cell_type": "code",
   "execution_count": null,
   "metadata": {
    "collapsed": true
   },
   "outputs": [],
   "source": []
  },
  {
   "cell_type": "code",
   "execution_count": null,
   "metadata": {
    "collapsed": true
   },
   "outputs": [],
   "source": []
  },
  {
   "cell_type": "code",
   "execution_count": null,
   "metadata": {
    "collapsed": true
   },
   "outputs": [],
   "source": []
  }
 ],
 "metadata": {
  "kernelspec": {
   "display_name": "Python [conda root]",
   "language": "python",
   "name": "conda-root-py"
  },
  "language_info": {
   "codemirror_mode": {
    "name": "ipython",
    "version": 3
   },
   "file_extension": ".py",
   "mimetype": "text/x-python",
   "name": "python",
   "nbconvert_exporter": "python",
   "pygments_lexer": "ipython3",
   "version": "3.6.3"
  }
 },
 "nbformat": 4,
 "nbformat_minor": 2
}
